{
  "cells": [
    {
      "cell_type": "markdown",
      "metadata": {
        "id": "UdRyKR44dcNI"
      },
      "source": [
        "# Estimation of Phone Prices - Data Science project\n"
      ]
    },
    {
      "cell_type": "markdown",
      "metadata": {
        "id": "dea99887"
      },
      "source": [
        "## Import Libraries\n",
        "All libraries are used for specific tasks including data preprocessing, visualization, transformation, modeling and evaluation"
      ]
    },
    {
      "cell_type": "code",
      "source": [
        "import numpy as np\n",
        "import pandas as pd\n",
        "import seaborn as sns\n",
        "import matplotlib.pyplot as plt\n",
        "from sklearn.preprocessing import LabelEncoder,StandardScaler\n",
        "from sklearn.linear_model import LinearRegression,Lasso\n",
        "from sklearn.metrics import mean_squared_error,mean_absolute_error\n",
        "from sklearn.ensemble import RandomForestRegressor\n",
        "import warnings\n",
        "warnings.filterwarnings(\"ignore\")"
      ],
      "metadata": {
        "id": "Jv_1CNFGW7Lk"
      },
      "execution_count": 1,
      "outputs": []
    },
    {
      "cell_type": "markdown",
      "metadata": {
        "id": "4_kCnsPUqS6o"
      },
      "source": [
        "\n",
        "\n",
        "\n",
        "\"--------------Business Problem: Estimate the price of a Phone Prices-----------\""
      ]
    },
    {
      "cell_type": "markdown",
      "source": [
        "## Import Data\n",
        "### Read Phone Data\n",
        "The phone prices set is read locally and the **head** function is used to display the data (5 records) for intial understanding"
      ],
      "metadata": {
        "id": "kGq29ZJxYVed"
      }
    },
    {
      "cell_type": "code",
      "source": [
        "import pandas as pd\n",
        "\n",
        "phoneprices = pd.read_csv('phone prices.csv')\n",
        "\n",
        "phoneprices.head()"
      ],
      "metadata": {
        "colab": {
          "base_uri": "https://localhost:8080/",
          "height": 429
        },
        "id": "X02Z3ywAkyea",
        "outputId": "bfb22d72-b5f7-4bb8-9d77-d66acc54add0"
      },
      "execution_count": 18,
      "outputs": [
        {
          "output_type": "execute_result",
          "data": {
            "text/plain": [
              "   Unnamed: 0                            Name    Brand  \\\n",
              "0           0  OnePlus 7T Pro McLaren Edition  OnePlus   \n",
              "1           1                   Realme X2 Pro   Realme   \n",
              "2           2               iPhone 11 Pro Max    Apple   \n",
              "3           3                       iPhone 11    Apple   \n",
              "4           4                    LG G8X ThinQ       LG   \n",
              "\n",
              "                    Model  Battery capacity (mAh)  Screen size (inches)  \\\n",
              "0  7T Pro McLaren Edition                    4085                  6.67   \n",
              "1                  X2 Pro                    4000                  6.50   \n",
              "2       iPhone 11 Pro Max                    3969                  6.50   \n",
              "3               iPhone 11                    3110                  6.10   \n",
              "4               G8X ThinQ                    4000                  6.40   \n",
              "\n",
              "  Touchscreen  Resolution x  Resolution y  Processor  ...  Rear camera  \\\n",
              "0         Yes          1440          3120          8  ...         48.0   \n",
              "1         Yes          1080          2400          8  ...         64.0   \n",
              "2         Yes          1242          2688          6  ...         12.0   \n",
              "3         Yes           828          1792          6  ...         12.0   \n",
              "4         Yes          1080          2340          8  ...         12.0   \n",
              "\n",
              "   Front camera  operating_system  wifi Bluetooth  GPS Number of SIMs threeg  \\\n",
              "0          16.0           Android   Yes       Yes  Yes              2    Yes   \n",
              "1          16.0           Android   Yes       Yes  Yes              2    Yes   \n",
              "2          12.0               iOS   Yes       Yes  Yes              2    Yes   \n",
              "3          12.0               iOS   Yes       Yes  Yes              2    Yes   \n",
              "4          32.0           Android   Yes       Yes  Yes              1     No   \n",
              "\n",
              "   fourg   Price  \n",
              "0    Yes   58998  \n",
              "1    Yes   27999  \n",
              "2    Yes  106900  \n",
              "3    Yes   62900  \n",
              "4     No   49990  \n",
              "\n",
              "[5 rows x 22 columns]"
            ],
            "text/html": [
              "\n",
              "  <div id=\"df-faca1dc9-bd25-4d2d-b500-c8c14b37e40e\" class=\"colab-df-container\">\n",
              "    <div>\n",
              "<style scoped>\n",
              "    .dataframe tbody tr th:only-of-type {\n",
              "        vertical-align: middle;\n",
              "    }\n",
              "\n",
              "    .dataframe tbody tr th {\n",
              "        vertical-align: top;\n",
              "    }\n",
              "\n",
              "    .dataframe thead th {\n",
              "        text-align: right;\n",
              "    }\n",
              "</style>\n",
              "<table border=\"1\" class=\"dataframe\">\n",
              "  <thead>\n",
              "    <tr style=\"text-align: right;\">\n",
              "      <th></th>\n",
              "      <th>Unnamed: 0</th>\n",
              "      <th>Name</th>\n",
              "      <th>Brand</th>\n",
              "      <th>Model</th>\n",
              "      <th>Battery capacity (mAh)</th>\n",
              "      <th>Screen size (inches)</th>\n",
              "      <th>Touchscreen</th>\n",
              "      <th>Resolution x</th>\n",
              "      <th>Resolution y</th>\n",
              "      <th>Processor</th>\n",
              "      <th>...</th>\n",
              "      <th>Rear camera</th>\n",
              "      <th>Front camera</th>\n",
              "      <th>operating_system</th>\n",
              "      <th>wifi</th>\n",
              "      <th>Bluetooth</th>\n",
              "      <th>GPS</th>\n",
              "      <th>Number of SIMs</th>\n",
              "      <th>threeg</th>\n",
              "      <th>fourg</th>\n",
              "      <th>Price</th>\n",
              "    </tr>\n",
              "  </thead>\n",
              "  <tbody>\n",
              "    <tr>\n",
              "      <th>0</th>\n",
              "      <td>0</td>\n",
              "      <td>OnePlus 7T Pro McLaren Edition</td>\n",
              "      <td>OnePlus</td>\n",
              "      <td>7T Pro McLaren Edition</td>\n",
              "      <td>4085</td>\n",
              "      <td>6.67</td>\n",
              "      <td>Yes</td>\n",
              "      <td>1440</td>\n",
              "      <td>3120</td>\n",
              "      <td>8</td>\n",
              "      <td>...</td>\n",
              "      <td>48.0</td>\n",
              "      <td>16.0</td>\n",
              "      <td>Android</td>\n",
              "      <td>Yes</td>\n",
              "      <td>Yes</td>\n",
              "      <td>Yes</td>\n",
              "      <td>2</td>\n",
              "      <td>Yes</td>\n",
              "      <td>Yes</td>\n",
              "      <td>58998</td>\n",
              "    </tr>\n",
              "    <tr>\n",
              "      <th>1</th>\n",
              "      <td>1</td>\n",
              "      <td>Realme X2 Pro</td>\n",
              "      <td>Realme</td>\n",
              "      <td>X2 Pro</td>\n",
              "      <td>4000</td>\n",
              "      <td>6.50</td>\n",
              "      <td>Yes</td>\n",
              "      <td>1080</td>\n",
              "      <td>2400</td>\n",
              "      <td>8</td>\n",
              "      <td>...</td>\n",
              "      <td>64.0</td>\n",
              "      <td>16.0</td>\n",
              "      <td>Android</td>\n",
              "      <td>Yes</td>\n",
              "      <td>Yes</td>\n",
              "      <td>Yes</td>\n",
              "      <td>2</td>\n",
              "      <td>Yes</td>\n",
              "      <td>Yes</td>\n",
              "      <td>27999</td>\n",
              "    </tr>\n",
              "    <tr>\n",
              "      <th>2</th>\n",
              "      <td>2</td>\n",
              "      <td>iPhone 11 Pro Max</td>\n",
              "      <td>Apple</td>\n",
              "      <td>iPhone 11 Pro Max</td>\n",
              "      <td>3969</td>\n",
              "      <td>6.50</td>\n",
              "      <td>Yes</td>\n",
              "      <td>1242</td>\n",
              "      <td>2688</td>\n",
              "      <td>6</td>\n",
              "      <td>...</td>\n",
              "      <td>12.0</td>\n",
              "      <td>12.0</td>\n",
              "      <td>iOS</td>\n",
              "      <td>Yes</td>\n",
              "      <td>Yes</td>\n",
              "      <td>Yes</td>\n",
              "      <td>2</td>\n",
              "      <td>Yes</td>\n",
              "      <td>Yes</td>\n",
              "      <td>106900</td>\n",
              "    </tr>\n",
              "    <tr>\n",
              "      <th>3</th>\n",
              "      <td>3</td>\n",
              "      <td>iPhone 11</td>\n",
              "      <td>Apple</td>\n",
              "      <td>iPhone 11</td>\n",
              "      <td>3110</td>\n",
              "      <td>6.10</td>\n",
              "      <td>Yes</td>\n",
              "      <td>828</td>\n",
              "      <td>1792</td>\n",
              "      <td>6</td>\n",
              "      <td>...</td>\n",
              "      <td>12.0</td>\n",
              "      <td>12.0</td>\n",
              "      <td>iOS</td>\n",
              "      <td>Yes</td>\n",
              "      <td>Yes</td>\n",
              "      <td>Yes</td>\n",
              "      <td>2</td>\n",
              "      <td>Yes</td>\n",
              "      <td>Yes</td>\n",
              "      <td>62900</td>\n",
              "    </tr>\n",
              "    <tr>\n",
              "      <th>4</th>\n",
              "      <td>4</td>\n",
              "      <td>LG G8X ThinQ</td>\n",
              "      <td>LG</td>\n",
              "      <td>G8X ThinQ</td>\n",
              "      <td>4000</td>\n",
              "      <td>6.40</td>\n",
              "      <td>Yes</td>\n",
              "      <td>1080</td>\n",
              "      <td>2340</td>\n",
              "      <td>8</td>\n",
              "      <td>...</td>\n",
              "      <td>12.0</td>\n",
              "      <td>32.0</td>\n",
              "      <td>Android</td>\n",
              "      <td>Yes</td>\n",
              "      <td>Yes</td>\n",
              "      <td>Yes</td>\n",
              "      <td>1</td>\n",
              "      <td>No</td>\n",
              "      <td>No</td>\n",
              "      <td>49990</td>\n",
              "    </tr>\n",
              "  </tbody>\n",
              "</table>\n",
              "<p>5 rows × 22 columns</p>\n",
              "</div>\n",
              "    <div class=\"colab-df-buttons\">\n",
              "\n",
              "  <div class=\"colab-df-container\">\n",
              "    <button class=\"colab-df-convert\" onclick=\"convertToInteractive('df-faca1dc9-bd25-4d2d-b500-c8c14b37e40e')\"\n",
              "            title=\"Convert this dataframe to an interactive table.\"\n",
              "            style=\"display:none;\">\n",
              "\n",
              "  <svg xmlns=\"http://www.w3.org/2000/svg\" height=\"24px\" viewBox=\"0 -960 960 960\">\n",
              "    <path d=\"M120-120v-720h720v720H120Zm60-500h600v-160H180v160Zm220 220h160v-160H400v160Zm0 220h160v-160H400v160ZM180-400h160v-160H180v160Zm440 0h160v-160H620v160ZM180-180h160v-160H180v160Zm440 0h160v-160H620v160Z\"/>\n",
              "  </svg>\n",
              "    </button>\n",
              "\n",
              "  <style>\n",
              "    .colab-df-container {\n",
              "      display:flex;\n",
              "      gap: 12px;\n",
              "    }\n",
              "\n",
              "    .colab-df-convert {\n",
              "      background-color: #E8F0FE;\n",
              "      border: none;\n",
              "      border-radius: 50%;\n",
              "      cursor: pointer;\n",
              "      display: none;\n",
              "      fill: #1967D2;\n",
              "      height: 32px;\n",
              "      padding: 0 0 0 0;\n",
              "      width: 32px;\n",
              "    }\n",
              "\n",
              "    .colab-df-convert:hover {\n",
              "      background-color: #E2EBFA;\n",
              "      box-shadow: 0px 1px 2px rgba(60, 64, 67, 0.3), 0px 1px 3px 1px rgba(60, 64, 67, 0.15);\n",
              "      fill: #174EA6;\n",
              "    }\n",
              "\n",
              "    .colab-df-buttons div {\n",
              "      margin-bottom: 4px;\n",
              "    }\n",
              "\n",
              "    [theme=dark] .colab-df-convert {\n",
              "      background-color: #3B4455;\n",
              "      fill: #D2E3FC;\n",
              "    }\n",
              "\n",
              "    [theme=dark] .colab-df-convert:hover {\n",
              "      background-color: #434B5C;\n",
              "      box-shadow: 0px 1px 3px 1px rgba(0, 0, 0, 0.15);\n",
              "      filter: drop-shadow(0px 1px 2px rgba(0, 0, 0, 0.3));\n",
              "      fill: #FFFFFF;\n",
              "    }\n",
              "  </style>\n",
              "\n",
              "    <script>\n",
              "      const buttonEl =\n",
              "        document.querySelector('#df-faca1dc9-bd25-4d2d-b500-c8c14b37e40e button.colab-df-convert');\n",
              "      buttonEl.style.display =\n",
              "        google.colab.kernel.accessAllowed ? 'block' : 'none';\n",
              "\n",
              "      async function convertToInteractive(key) {\n",
              "        const element = document.querySelector('#df-faca1dc9-bd25-4d2d-b500-c8c14b37e40e');\n",
              "        const dataTable =\n",
              "          await google.colab.kernel.invokeFunction('convertToInteractive',\n",
              "                                                    [key], {});\n",
              "        if (!dataTable) return;\n",
              "\n",
              "        const docLinkHtml = 'Like what you see? Visit the ' +\n",
              "          '<a target=\"_blank\" href=https://colab.research.google.com/notebooks/data_table.ipynb>data table notebook</a>'\n",
              "          + ' to learn more about interactive tables.';\n",
              "        element.innerHTML = '';\n",
              "        dataTable['output_type'] = 'display_data';\n",
              "        await google.colab.output.renderOutput(dataTable, element);\n",
              "        const docLink = document.createElement('div');\n",
              "        docLink.innerHTML = docLinkHtml;\n",
              "        element.appendChild(docLink);\n",
              "      }\n",
              "    </script>\n",
              "  </div>\n",
              "\n",
              "\n",
              "<div id=\"df-be11d7c8-e7ec-4031-a119-b1740a21c3f3\">\n",
              "  <button class=\"colab-df-quickchart\" onclick=\"quickchart('df-be11d7c8-e7ec-4031-a119-b1740a21c3f3')\"\n",
              "            title=\"Suggest charts\"\n",
              "            style=\"display:none;\">\n",
              "\n",
              "<svg xmlns=\"http://www.w3.org/2000/svg\" height=\"24px\"viewBox=\"0 0 24 24\"\n",
              "     width=\"24px\">\n",
              "    <g>\n",
              "        <path d=\"M19 3H5c-1.1 0-2 .9-2 2v14c0 1.1.9 2 2 2h14c1.1 0 2-.9 2-2V5c0-1.1-.9-2-2-2zM9 17H7v-7h2v7zm4 0h-2V7h2v10zm4 0h-2v-4h2v4z\"/>\n",
              "    </g>\n",
              "</svg>\n",
              "  </button>\n",
              "\n",
              "<style>\n",
              "  .colab-df-quickchart {\n",
              "      --bg-color: #E8F0FE;\n",
              "      --fill-color: #1967D2;\n",
              "      --hover-bg-color: #E2EBFA;\n",
              "      --hover-fill-color: #174EA6;\n",
              "      --disabled-fill-color: #AAA;\n",
              "      --disabled-bg-color: #DDD;\n",
              "  }\n",
              "\n",
              "  [theme=dark] .colab-df-quickchart {\n",
              "      --bg-color: #3B4455;\n",
              "      --fill-color: #D2E3FC;\n",
              "      --hover-bg-color: #434B5C;\n",
              "      --hover-fill-color: #FFFFFF;\n",
              "      --disabled-bg-color: #3B4455;\n",
              "      --disabled-fill-color: #666;\n",
              "  }\n",
              "\n",
              "  .colab-df-quickchart {\n",
              "    background-color: var(--bg-color);\n",
              "    border: none;\n",
              "    border-radius: 50%;\n",
              "    cursor: pointer;\n",
              "    display: none;\n",
              "    fill: var(--fill-color);\n",
              "    height: 32px;\n",
              "    padding: 0;\n",
              "    width: 32px;\n",
              "  }\n",
              "\n",
              "  .colab-df-quickchart:hover {\n",
              "    background-color: var(--hover-bg-color);\n",
              "    box-shadow: 0 1px 2px rgba(60, 64, 67, 0.3), 0 1px 3px 1px rgba(60, 64, 67, 0.15);\n",
              "    fill: var(--button-hover-fill-color);\n",
              "  }\n",
              "\n",
              "  .colab-df-quickchart-complete:disabled,\n",
              "  .colab-df-quickchart-complete:disabled:hover {\n",
              "    background-color: var(--disabled-bg-color);\n",
              "    fill: var(--disabled-fill-color);\n",
              "    box-shadow: none;\n",
              "  }\n",
              "\n",
              "  .colab-df-spinner {\n",
              "    border: 2px solid var(--fill-color);\n",
              "    border-color: transparent;\n",
              "    border-bottom-color: var(--fill-color);\n",
              "    animation:\n",
              "      spin 1s steps(1) infinite;\n",
              "  }\n",
              "\n",
              "  @keyframes spin {\n",
              "    0% {\n",
              "      border-color: transparent;\n",
              "      border-bottom-color: var(--fill-color);\n",
              "      border-left-color: var(--fill-color);\n",
              "    }\n",
              "    20% {\n",
              "      border-color: transparent;\n",
              "      border-left-color: var(--fill-color);\n",
              "      border-top-color: var(--fill-color);\n",
              "    }\n",
              "    30% {\n",
              "      border-color: transparent;\n",
              "      border-left-color: var(--fill-color);\n",
              "      border-top-color: var(--fill-color);\n",
              "      border-right-color: var(--fill-color);\n",
              "    }\n",
              "    40% {\n",
              "      border-color: transparent;\n",
              "      border-right-color: var(--fill-color);\n",
              "      border-top-color: var(--fill-color);\n",
              "    }\n",
              "    60% {\n",
              "      border-color: transparent;\n",
              "      border-right-color: var(--fill-color);\n",
              "    }\n",
              "    80% {\n",
              "      border-color: transparent;\n",
              "      border-right-color: var(--fill-color);\n",
              "      border-bottom-color: var(--fill-color);\n",
              "    }\n",
              "    90% {\n",
              "      border-color: transparent;\n",
              "      border-bottom-color: var(--fill-color);\n",
              "    }\n",
              "  }\n",
              "</style>\n",
              "\n",
              "  <script>\n",
              "    async function quickchart(key) {\n",
              "      const quickchartButtonEl =\n",
              "        document.querySelector('#' + key + ' button');\n",
              "      quickchartButtonEl.disabled = true;  // To prevent multiple clicks.\n",
              "      quickchartButtonEl.classList.add('colab-df-spinner');\n",
              "      try {\n",
              "        const charts = await google.colab.kernel.invokeFunction(\n",
              "            'suggestCharts', [key], {});\n",
              "      } catch (error) {\n",
              "        console.error('Error during call to suggestCharts:', error);\n",
              "      }\n",
              "      quickchartButtonEl.classList.remove('colab-df-spinner');\n",
              "      quickchartButtonEl.classList.add('colab-df-quickchart-complete');\n",
              "    }\n",
              "    (() => {\n",
              "      let quickchartButtonEl =\n",
              "        document.querySelector('#df-be11d7c8-e7ec-4031-a119-b1740a21c3f3 button');\n",
              "      quickchartButtonEl.style.display =\n",
              "        google.colab.kernel.accessAllowed ? 'block' : 'none';\n",
              "    })();\n",
              "  </script>\n",
              "</div>\n",
              "\n",
              "    </div>\n",
              "  </div>\n"
            ],
            "application/vnd.google.colaboratory.intrinsic+json": {
              "type": "dataframe",
              "variable_name": "phoneprices"
            }
          },
          "metadata": {},
          "execution_count": 18
        }
      ]
    },
    {
      "cell_type": "markdown",
      "source": [
        "The **shape** function displays the number of rows and columns in the phone prices set"
      ],
      "metadata": {
        "id": "-w18WYtflifY"
      }
    },
    {
      "cell_type": "code",
      "source": [
        "phoneprices.shape # check dimension"
      ],
      "metadata": {
        "colab": {
          "base_uri": "https://localhost:8080/"
        },
        "id": "0TI23zlAlsPN",
        "outputId": "a3ea138f-7615-4f30-fe93-bc19910f04ba"
      },
      "execution_count": 19,
      "outputs": [
        {
          "output_type": "execute_result",
          "data": {
            "text/plain": [
              "(1359, 22)"
            ]
          },
          "metadata": {},
          "execution_count": 19
        }
      ]
    },
    {
      "cell_type": "markdown",
      "source": [
        "Checking for null values in each column and displaying the sum of all null values in each column"
      ],
      "metadata": {
        "id": "Syl7lzDHl0ow"
      }
    },
    {
      "cell_type": "code",
      "source": [
        "phoneprices.isnull().sum()"
      ],
      "metadata": {
        "colab": {
          "base_uri": "https://localhost:8080/"
        },
        "id": "aYyWzC7il_ot",
        "outputId": "62f54ee5-7fa7-4ec7-bf9d-be025dd1c2c3"
      },
      "execution_count": 20,
      "outputs": [
        {
          "output_type": "execute_result",
          "data": {
            "text/plain": [
              "Unnamed: 0                0\n",
              "Name                      0\n",
              "Brand                     0\n",
              "Model                     0\n",
              "Battery capacity (mAh)    0\n",
              "Screen size (inches)      0\n",
              "Touchscreen               0\n",
              "Resolution x              0\n",
              "Resolution y              0\n",
              "Processor                 0\n",
              "RAM (MB)                  0\n",
              "Internal storage (GB)     0\n",
              "Rear camera               0\n",
              "Front camera              0\n",
              "operating_system          0\n",
              "wifi                      0\n",
              "Bluetooth                 0\n",
              "GPS                       0\n",
              "Number of SIMs            0\n",
              "threeg                    0\n",
              "fourg                     0\n",
              "Price                     0\n",
              "dtype: int64"
            ]
          },
          "metadata": {},
          "execution_count": 20
        }
      ]
    },
    {
      "cell_type": "markdown",
      "source": [
        "Removing the rows with empty values since the number of empty rows is small and the dataset is huge. This is the best approach compared to replacing with mean or random values for this case study"
      ],
      "metadata": {
        "id": "_pQAOwm9mKOk"
      }
    },
    {
      "cell_type": "code",
      "source": [
        "phoneprices = phoneprices.dropna()\n"
      ],
      "metadata": {
        "id": "HEcMz6cpmPqA"
      },
      "execution_count": 21,
      "outputs": []
    },
    {
      "cell_type": "markdown",
      "source": [
        "Checking if null values are eliminated"
      ],
      "metadata": {
        "id": "gUeRo6VImXuQ"
      }
    },
    {
      "cell_type": "code",
      "source": [
        "phoneprices.isnull().sum()"
      ],
      "metadata": {
        "colab": {
          "base_uri": "https://localhost:8080/"
        },
        "id": "JzpyneRSmb5_",
        "outputId": "8a572efb-cc13-4f91-fac1-272f44c176ab"
      },
      "execution_count": 22,
      "outputs": [
        {
          "output_type": "execute_result",
          "data": {
            "text/plain": [
              "Unnamed: 0                0\n",
              "Name                      0\n",
              "Brand                     0\n",
              "Model                     0\n",
              "Battery capacity (mAh)    0\n",
              "Screen size (inches)      0\n",
              "Touchscreen               0\n",
              "Resolution x              0\n",
              "Resolution y              0\n",
              "Processor                 0\n",
              "RAM (MB)                  0\n",
              "Internal storage (GB)     0\n",
              "Rear camera               0\n",
              "Front camera              0\n",
              "operating_system          0\n",
              "wifi                      0\n",
              "Bluetooth                 0\n",
              "GPS                       0\n",
              "Number of SIMs            0\n",
              "threeg                    0\n",
              "fourg                     0\n",
              "Price                     0\n",
              "dtype: int64"
            ]
          },
          "metadata": {},
          "execution_count": 22
        }
      ]
    },
    {
      "cell_type": "code",
      "source": [
        "phoneprices.shape # 15 rows removed"
      ],
      "metadata": {
        "colab": {
          "base_uri": "https://localhost:8080/"
        },
        "id": "VX6u7qOtmj8a",
        "outputId": "de95116e-65d7-4d23-85bf-f2567a16b1e8"
      },
      "execution_count": 23,
      "outputs": [
        {
          "output_type": "execute_result",
          "data": {
            "text/plain": [
              "(1359, 22)"
            ]
          },
          "metadata": {},
          "execution_count": 23
        }
      ]
    },
    {
      "cell_type": "markdown",
      "source": [
        "Checking the data types to see if all the data is in correct format. All the data seems to be in their required format."
      ],
      "metadata": {
        "id": "xvP5QyTImqvw"
      }
    },
    {
      "cell_type": "code",
      "source": [
        "phoneprices.dtypes  # checking the data type of every column"
      ],
      "metadata": {
        "colab": {
          "base_uri": "https://localhost:8080/"
        },
        "id": "fIqCkrYamvWp",
        "outputId": "7472f80b-3337-41e2-de23-3d2c0fb99984"
      },
      "execution_count": 24,
      "outputs": [
        {
          "output_type": "execute_result",
          "data": {
            "text/plain": [
              "Unnamed: 0                  int64\n",
              "Name                       object\n",
              "Brand                      object\n",
              "Model                      object\n",
              "Battery capacity (mAh)      int64\n",
              "Screen size (inches)      float64\n",
              "Touchscreen                object\n",
              "Resolution x                int64\n",
              "Resolution y                int64\n",
              "Processor                   int64\n",
              "RAM (MB)                    int64\n",
              "Internal storage (GB)     float64\n",
              "Rear camera               float64\n",
              "Front camera              float64\n",
              "operating_system           object\n",
              "wifi                       object\n",
              "Bluetooth                  object\n",
              "GPS                        object\n",
              "Number of SIMs              int64\n",
              "threeg                     object\n",
              "fourg                      object\n",
              "Price                       int64\n",
              "dtype: object"
            ]
          },
          "metadata": {},
          "execution_count": 24
        }
      ]
    },
    {
      "cell_type": "markdown",
      "source": [
        "Checking the correlation between the numerical features and target\n"
      ],
      "metadata": {
        "id": "qqcHgdiUm4kw"
      }
    },
    {
      "cell_type": "markdown",
      "source": [
        "## EDA (Exploratory Data Analysis)\n",
        "Visualizations are used to understand the relationship between the target variable and the features, in addition to the quantatitave metrics such as correlation coefficient and p-value.\n",
        "The visuals include regression plot,boxplot etc.\n"
      ],
      "metadata": {
        "id": "1EQzUUFLRhvS"
      }
    },
    {
      "cell_type": "code",
      "source": [
        "phoneprices.describe() #generate various summary statistics of a DataFrame\n",
        "#Note: Only features with numeric data are considered"
      ],
      "metadata": {
        "colab": {
          "base_uri": "https://localhost:8080/",
          "height": 318
        },
        "id": "U0ipPyJ2RuJ6",
        "outputId": "d1dc3b69-411b-4455-c257-1eb3a90e6ce2"
      },
      "execution_count": 17,
      "outputs": [
        {
          "output_type": "execute_result",
          "data": {
            "text/plain": [
              "        Unnamed: 0  Battery capacity (mAh)  Screen size (inches)  \\\n",
              "count  1359.000000             1359.000000           1359.000000   \n",
              "mean    679.000000             2938.489330              5.291310   \n",
              "std     392.453819              873.514133              0.671357   \n",
              "min       0.000000             1010.000000              2.400000   \n",
              "25%     339.500000             2300.000000              5.000000   \n",
              "50%     679.000000             3000.000000              5.200000   \n",
              "75%    1018.500000             3500.000000              5.700000   \n",
              "max    1358.000000             6000.000000              7.300000   \n",
              "\n",
              "       Resolution x  Resolution y    Processor      RAM (MB)  \\\n",
              "count   1359.000000   1359.000000  1359.000000   1359.000000   \n",
              "mean     811.543046   1490.777778     5.551141   2488.777778   \n",
              "std      270.707271    557.780120     2.196562   1664.440386   \n",
              "min      240.000000    320.000000     1.000000     64.000000   \n",
              "25%      720.000000   1280.000000     4.000000   1000.000000   \n",
              "50%      720.000000   1280.000000     4.000000   2000.000000   \n",
              "75%     1080.000000   1920.000000     8.000000   3000.000000   \n",
              "max     2160.000000   3840.000000    10.000000  12000.000000   \n",
              "\n",
              "       Internal storage (GB)  Rear camera  Front camera  Number of SIMs  \\\n",
              "count            1359.000000  1359.000000   1359.000000     1359.000000   \n",
              "mean               30.654864    12.070199      7.037969        1.833701   \n",
              "std                36.950241     8.948337      6.295448        0.374457   \n",
              "min                 0.064000     0.000000      0.000000        1.000000   \n",
              "25%                 8.000000     8.000000      2.000000        2.000000   \n",
              "50%                16.000000    12.200000      5.000000        2.000000   \n",
              "75%                32.000000    13.000000      8.000000        2.000000   \n",
              "max               512.000000   108.000000     48.000000        3.000000   \n",
              "\n",
              "               Price  \n",
              "count    1359.000000  \n",
              "mean    11465.825607  \n",
              "std     13857.497077  \n",
              "min       494.000000  \n",
              "25%      4763.500000  \n",
              "50%      6999.000000  \n",
              "75%     11999.000000  \n",
              "max    174990.000000  "
            ],
            "text/html": [
              "\n",
              "  <div id=\"df-825b45d5-7110-4f0e-af28-40ce43c0e540\" class=\"colab-df-container\">\n",
              "    <div>\n",
              "<style scoped>\n",
              "    .dataframe tbody tr th:only-of-type {\n",
              "        vertical-align: middle;\n",
              "    }\n",
              "\n",
              "    .dataframe tbody tr th {\n",
              "        vertical-align: top;\n",
              "    }\n",
              "\n",
              "    .dataframe thead th {\n",
              "        text-align: right;\n",
              "    }\n",
              "</style>\n",
              "<table border=\"1\" class=\"dataframe\">\n",
              "  <thead>\n",
              "    <tr style=\"text-align: right;\">\n",
              "      <th></th>\n",
              "      <th>Unnamed: 0</th>\n",
              "      <th>Battery capacity (mAh)</th>\n",
              "      <th>Screen size (inches)</th>\n",
              "      <th>Resolution x</th>\n",
              "      <th>Resolution y</th>\n",
              "      <th>Processor</th>\n",
              "      <th>RAM (MB)</th>\n",
              "      <th>Internal storage (GB)</th>\n",
              "      <th>Rear camera</th>\n",
              "      <th>Front camera</th>\n",
              "      <th>Number of SIMs</th>\n",
              "      <th>Price</th>\n",
              "    </tr>\n",
              "  </thead>\n",
              "  <tbody>\n",
              "    <tr>\n",
              "      <th>count</th>\n",
              "      <td>1359.000000</td>\n",
              "      <td>1359.000000</td>\n",
              "      <td>1359.000000</td>\n",
              "      <td>1359.000000</td>\n",
              "      <td>1359.000000</td>\n",
              "      <td>1359.000000</td>\n",
              "      <td>1359.000000</td>\n",
              "      <td>1359.000000</td>\n",
              "      <td>1359.000000</td>\n",
              "      <td>1359.000000</td>\n",
              "      <td>1359.000000</td>\n",
              "      <td>1359.000000</td>\n",
              "    </tr>\n",
              "    <tr>\n",
              "      <th>mean</th>\n",
              "      <td>679.000000</td>\n",
              "      <td>2938.489330</td>\n",
              "      <td>5.291310</td>\n",
              "      <td>811.543046</td>\n",
              "      <td>1490.777778</td>\n",
              "      <td>5.551141</td>\n",
              "      <td>2488.777778</td>\n",
              "      <td>30.654864</td>\n",
              "      <td>12.070199</td>\n",
              "      <td>7.037969</td>\n",
              "      <td>1.833701</td>\n",
              "      <td>11465.825607</td>\n",
              "    </tr>\n",
              "    <tr>\n",
              "      <th>std</th>\n",
              "      <td>392.453819</td>\n",
              "      <td>873.514133</td>\n",
              "      <td>0.671357</td>\n",
              "      <td>270.707271</td>\n",
              "      <td>557.780120</td>\n",
              "      <td>2.196562</td>\n",
              "      <td>1664.440386</td>\n",
              "      <td>36.950241</td>\n",
              "      <td>8.948337</td>\n",
              "      <td>6.295448</td>\n",
              "      <td>0.374457</td>\n",
              "      <td>13857.497077</td>\n",
              "    </tr>\n",
              "    <tr>\n",
              "      <th>min</th>\n",
              "      <td>0.000000</td>\n",
              "      <td>1010.000000</td>\n",
              "      <td>2.400000</td>\n",
              "      <td>240.000000</td>\n",
              "      <td>320.000000</td>\n",
              "      <td>1.000000</td>\n",
              "      <td>64.000000</td>\n",
              "      <td>0.064000</td>\n",
              "      <td>0.000000</td>\n",
              "      <td>0.000000</td>\n",
              "      <td>1.000000</td>\n",
              "      <td>494.000000</td>\n",
              "    </tr>\n",
              "    <tr>\n",
              "      <th>25%</th>\n",
              "      <td>339.500000</td>\n",
              "      <td>2300.000000</td>\n",
              "      <td>5.000000</td>\n",
              "      <td>720.000000</td>\n",
              "      <td>1280.000000</td>\n",
              "      <td>4.000000</td>\n",
              "      <td>1000.000000</td>\n",
              "      <td>8.000000</td>\n",
              "      <td>8.000000</td>\n",
              "      <td>2.000000</td>\n",
              "      <td>2.000000</td>\n",
              "      <td>4763.500000</td>\n",
              "    </tr>\n",
              "    <tr>\n",
              "      <th>50%</th>\n",
              "      <td>679.000000</td>\n",
              "      <td>3000.000000</td>\n",
              "      <td>5.200000</td>\n",
              "      <td>720.000000</td>\n",
              "      <td>1280.000000</td>\n",
              "      <td>4.000000</td>\n",
              "      <td>2000.000000</td>\n",
              "      <td>16.000000</td>\n",
              "      <td>12.200000</td>\n",
              "      <td>5.000000</td>\n",
              "      <td>2.000000</td>\n",
              "      <td>6999.000000</td>\n",
              "    </tr>\n",
              "    <tr>\n",
              "      <th>75%</th>\n",
              "      <td>1018.500000</td>\n",
              "      <td>3500.000000</td>\n",
              "      <td>5.700000</td>\n",
              "      <td>1080.000000</td>\n",
              "      <td>1920.000000</td>\n",
              "      <td>8.000000</td>\n",
              "      <td>3000.000000</td>\n",
              "      <td>32.000000</td>\n",
              "      <td>13.000000</td>\n",
              "      <td>8.000000</td>\n",
              "      <td>2.000000</td>\n",
              "      <td>11999.000000</td>\n",
              "    </tr>\n",
              "    <tr>\n",
              "      <th>max</th>\n",
              "      <td>1358.000000</td>\n",
              "      <td>6000.000000</td>\n",
              "      <td>7.300000</td>\n",
              "      <td>2160.000000</td>\n",
              "      <td>3840.000000</td>\n",
              "      <td>10.000000</td>\n",
              "      <td>12000.000000</td>\n",
              "      <td>512.000000</td>\n",
              "      <td>108.000000</td>\n",
              "      <td>48.000000</td>\n",
              "      <td>3.000000</td>\n",
              "      <td>174990.000000</td>\n",
              "    </tr>\n",
              "  </tbody>\n",
              "</table>\n",
              "</div>\n",
              "    <div class=\"colab-df-buttons\">\n",
              "\n",
              "  <div class=\"colab-df-container\">\n",
              "    <button class=\"colab-df-convert\" onclick=\"convertToInteractive('df-825b45d5-7110-4f0e-af28-40ce43c0e540')\"\n",
              "            title=\"Convert this dataframe to an interactive table.\"\n",
              "            style=\"display:none;\">\n",
              "\n",
              "  <svg xmlns=\"http://www.w3.org/2000/svg\" height=\"24px\" viewBox=\"0 -960 960 960\">\n",
              "    <path d=\"M120-120v-720h720v720H120Zm60-500h600v-160H180v160Zm220 220h160v-160H400v160Zm0 220h160v-160H400v160ZM180-400h160v-160H180v160Zm440 0h160v-160H620v160ZM180-180h160v-160H180v160Zm440 0h160v-160H620v160Z\"/>\n",
              "  </svg>\n",
              "    </button>\n",
              "\n",
              "  <style>\n",
              "    .colab-df-container {\n",
              "      display:flex;\n",
              "      gap: 12px;\n",
              "    }\n",
              "\n",
              "    .colab-df-convert {\n",
              "      background-color: #E8F0FE;\n",
              "      border: none;\n",
              "      border-radius: 50%;\n",
              "      cursor: pointer;\n",
              "      display: none;\n",
              "      fill: #1967D2;\n",
              "      height: 32px;\n",
              "      padding: 0 0 0 0;\n",
              "      width: 32px;\n",
              "    }\n",
              "\n",
              "    .colab-df-convert:hover {\n",
              "      background-color: #E2EBFA;\n",
              "      box-shadow: 0px 1px 2px rgba(60, 64, 67, 0.3), 0px 1px 3px 1px rgba(60, 64, 67, 0.15);\n",
              "      fill: #174EA6;\n",
              "    }\n",
              "\n",
              "    .colab-df-buttons div {\n",
              "      margin-bottom: 4px;\n",
              "    }\n",
              "\n",
              "    [theme=dark] .colab-df-convert {\n",
              "      background-color: #3B4455;\n",
              "      fill: #D2E3FC;\n",
              "    }\n",
              "\n",
              "    [theme=dark] .colab-df-convert:hover {\n",
              "      background-color: #434B5C;\n",
              "      box-shadow: 0px 1px 3px 1px rgba(0, 0, 0, 0.15);\n",
              "      filter: drop-shadow(0px 1px 2px rgba(0, 0, 0, 0.3));\n",
              "      fill: #FFFFFF;\n",
              "    }\n",
              "  </style>\n",
              "\n",
              "    <script>\n",
              "      const buttonEl =\n",
              "        document.querySelector('#df-825b45d5-7110-4f0e-af28-40ce43c0e540 button.colab-df-convert');\n",
              "      buttonEl.style.display =\n",
              "        google.colab.kernel.accessAllowed ? 'block' : 'none';\n",
              "\n",
              "      async function convertToInteractive(key) {\n",
              "        const element = document.querySelector('#df-825b45d5-7110-4f0e-af28-40ce43c0e540');\n",
              "        const dataTable =\n",
              "          await google.colab.kernel.invokeFunction('convertToInteractive',\n",
              "                                                    [key], {});\n",
              "        if (!dataTable) return;\n",
              "\n",
              "        const docLinkHtml = 'Like what you see? Visit the ' +\n",
              "          '<a target=\"_blank\" href=https://colab.research.google.com/notebooks/data_table.ipynb>data table notebook</a>'\n",
              "          + ' to learn more about interactive tables.';\n",
              "        element.innerHTML = '';\n",
              "        dataTable['output_type'] = 'display_data';\n",
              "        await google.colab.output.renderOutput(dataTable, element);\n",
              "        const docLink = document.createElement('div');\n",
              "        docLink.innerHTML = docLinkHtml;\n",
              "        element.appendChild(docLink);\n",
              "      }\n",
              "    </script>\n",
              "  </div>\n",
              "\n",
              "\n",
              "<div id=\"df-84c1bff5-a33a-4187-bb92-a7b35548f73d\">\n",
              "  <button class=\"colab-df-quickchart\" onclick=\"quickchart('df-84c1bff5-a33a-4187-bb92-a7b35548f73d')\"\n",
              "            title=\"Suggest charts\"\n",
              "            style=\"display:none;\">\n",
              "\n",
              "<svg xmlns=\"http://www.w3.org/2000/svg\" height=\"24px\"viewBox=\"0 0 24 24\"\n",
              "     width=\"24px\">\n",
              "    <g>\n",
              "        <path d=\"M19 3H5c-1.1 0-2 .9-2 2v14c0 1.1.9 2 2 2h14c1.1 0 2-.9 2-2V5c0-1.1-.9-2-2-2zM9 17H7v-7h2v7zm4 0h-2V7h2v10zm4 0h-2v-4h2v4z\"/>\n",
              "    </g>\n",
              "</svg>\n",
              "  </button>\n",
              "\n",
              "<style>\n",
              "  .colab-df-quickchart {\n",
              "      --bg-color: #E8F0FE;\n",
              "      --fill-color: #1967D2;\n",
              "      --hover-bg-color: #E2EBFA;\n",
              "      --hover-fill-color: #174EA6;\n",
              "      --disabled-fill-color: #AAA;\n",
              "      --disabled-bg-color: #DDD;\n",
              "  }\n",
              "\n",
              "  [theme=dark] .colab-df-quickchart {\n",
              "      --bg-color: #3B4455;\n",
              "      --fill-color: #D2E3FC;\n",
              "      --hover-bg-color: #434B5C;\n",
              "      --hover-fill-color: #FFFFFF;\n",
              "      --disabled-bg-color: #3B4455;\n",
              "      --disabled-fill-color: #666;\n",
              "  }\n",
              "\n",
              "  .colab-df-quickchart {\n",
              "    background-color: var(--bg-color);\n",
              "    border: none;\n",
              "    border-radius: 50%;\n",
              "    cursor: pointer;\n",
              "    display: none;\n",
              "    fill: var(--fill-color);\n",
              "    height: 32px;\n",
              "    padding: 0;\n",
              "    width: 32px;\n",
              "  }\n",
              "\n",
              "  .colab-df-quickchart:hover {\n",
              "    background-color: var(--hover-bg-color);\n",
              "    box-shadow: 0 1px 2px rgba(60, 64, 67, 0.3), 0 1px 3px 1px rgba(60, 64, 67, 0.15);\n",
              "    fill: var(--button-hover-fill-color);\n",
              "  }\n",
              "\n",
              "  .colab-df-quickchart-complete:disabled,\n",
              "  .colab-df-quickchart-complete:disabled:hover {\n",
              "    background-color: var(--disabled-bg-color);\n",
              "    fill: var(--disabled-fill-color);\n",
              "    box-shadow: none;\n",
              "  }\n",
              "\n",
              "  .colab-df-spinner {\n",
              "    border: 2px solid var(--fill-color);\n",
              "    border-color: transparent;\n",
              "    border-bottom-color: var(--fill-color);\n",
              "    animation:\n",
              "      spin 1s steps(1) infinite;\n",
              "  }\n",
              "\n",
              "  @keyframes spin {\n",
              "    0% {\n",
              "      border-color: transparent;\n",
              "      border-bottom-color: var(--fill-color);\n",
              "      border-left-color: var(--fill-color);\n",
              "    }\n",
              "    20% {\n",
              "      border-color: transparent;\n",
              "      border-left-color: var(--fill-color);\n",
              "      border-top-color: var(--fill-color);\n",
              "    }\n",
              "    30% {\n",
              "      border-color: transparent;\n",
              "      border-left-color: var(--fill-color);\n",
              "      border-top-color: var(--fill-color);\n",
              "      border-right-color: var(--fill-color);\n",
              "    }\n",
              "    40% {\n",
              "      border-color: transparent;\n",
              "      border-right-color: var(--fill-color);\n",
              "      border-top-color: var(--fill-color);\n",
              "    }\n",
              "    60% {\n",
              "      border-color: transparent;\n",
              "      border-right-color: var(--fill-color);\n",
              "    }\n",
              "    80% {\n",
              "      border-color: transparent;\n",
              "      border-right-color: var(--fill-color);\n",
              "      border-bottom-color: var(--fill-color);\n",
              "    }\n",
              "    90% {\n",
              "      border-color: transparent;\n",
              "      border-bottom-color: var(--fill-color);\n",
              "    }\n",
              "  }\n",
              "</style>\n",
              "\n",
              "  <script>\n",
              "    async function quickchart(key) {\n",
              "      const quickchartButtonEl =\n",
              "        document.querySelector('#' + key + ' button');\n",
              "      quickchartButtonEl.disabled = true;  // To prevent multiple clicks.\n",
              "      quickchartButtonEl.classList.add('colab-df-spinner');\n",
              "      try {\n",
              "        const charts = await google.colab.kernel.invokeFunction(\n",
              "            'suggestCharts', [key], {});\n",
              "      } catch (error) {\n",
              "        console.error('Error during call to suggestCharts:', error);\n",
              "      }\n",
              "      quickchartButtonEl.classList.remove('colab-df-spinner');\n",
              "      quickchartButtonEl.classList.add('colab-df-quickchart-complete');\n",
              "    }\n",
              "    (() => {\n",
              "      let quickchartButtonEl =\n",
              "        document.querySelector('#df-84c1bff5-a33a-4187-bb92-a7b35548f73d button');\n",
              "      quickchartButtonEl.style.display =\n",
              "        google.colab.kernel.accessAllowed ? 'block' : 'none';\n",
              "    })();\n",
              "  </script>\n",
              "</div>\n",
              "\n",
              "    </div>\n",
              "  </div>\n"
            ],
            "application/vnd.google.colaboratory.intrinsic+json": {
              "type": "dataframe",
              "summary": "{\n  \"name\": \"#Note: Only features with numeric data are considered\",\n  \"rows\": 8,\n  \"fields\": [\n    {\n      \"column\": \"Unnamed: 0\",\n      \"properties\": {\n        \"dtype\": \"number\",\n        \"std\": 489.5713103501538,\n        \"min\": 0.0,\n        \"max\": 1359.0,\n        \"num_unique_values\": 7,\n        \"samples\": [\n          1359.0,\n          679.0,\n          1018.5\n        ],\n        \"semantic_type\": \"\",\n        \"description\": \"\"\n      }\n    },\n    {\n      \"column\": \"Battery capacity (mAh)\",\n      \"properties\": {\n        \"dtype\": \"number\",\n        \"std\": 1680.9612128412032,\n        \"min\": 873.514133137993,\n        \"max\": 6000.0,\n        \"num_unique_values\": 8,\n        \"samples\": [\n          2938.4893303899926,\n          3000.0,\n          1359.0\n        ],\n        \"semantic_type\": \"\",\n        \"description\": \"\"\n      }\n    },\n    {\n      \"column\": \"Screen size (inches)\",\n      \"properties\": {\n        \"dtype\": \"number\",\n        \"std\": 478.8893344496405,\n        \"min\": 0.6713565655666764,\n        \"max\": 1359.0,\n        \"num_unique_values\": 8,\n        \"samples\": [\n          5.2913097866078,\n          5.2,\n          1359.0\n        ],\n        \"semantic_type\": \"\",\n        \"description\": \"\"\n      }\n    },\n    {\n      \"column\": \"Resolution x\",\n      \"properties\": {\n        \"dtype\": \"number\",\n        \"std\": 624.6901818854137,\n        \"min\": 240.0,\n        \"max\": 2160.0,\n        \"num_unique_values\": 7,\n        \"samples\": [\n          1359.0,\n          811.5430463576159,\n          1080.0\n        ],\n        \"semantic_type\": \"\",\n        \"description\": \"\"\n      }\n    },\n    {\n      \"column\": \"Resolution y\",\n      \"properties\": {\n        \"dtype\": \"number\",\n        \"std\": 1072.291380511387,\n        \"min\": 320.0,\n        \"max\": 3840.0,\n        \"num_unique_values\": 7,\n        \"samples\": [\n          1359.0,\n          1490.7777777777778,\n          1920.0\n        ],\n        \"semantic_type\": \"\",\n        \"description\": \"\"\n      }\n    },\n    {\n      \"column\": \"Processor\",\n      \"properties\": {\n        \"dtype\": \"number\",\n        \"std\": 478.7330090402289,\n        \"min\": 1.0,\n        \"max\": 1359.0,\n        \"num_unique_values\": 7,\n        \"samples\": [\n          1359.0,\n          5.551140544518028,\n          8.0\n        ],\n        \"semantic_type\": \"\",\n        \"description\": \"\"\n      }\n    },\n    {\n      \"column\": \"RAM (MB)\",\n      \"properties\": {\n        \"dtype\": \"number\",\n        \"std\": 3767.0677448910756,\n        \"min\": 64.0,\n        \"max\": 12000.0,\n        \"num_unique_values\": 8,\n        \"samples\": [\n          2488.777777777778,\n          2000.0,\n          1359.0\n        ],\n        \"semantic_type\": \"\",\n        \"description\": \"\"\n      }\n    },\n    {\n      \"column\": \"Internal storage (GB)\",\n      \"properties\": {\n        \"dtype\": \"number\",\n        \"std\": 480.37722383441064,\n        \"min\": 0.064,\n        \"max\": 1359.0,\n        \"num_unique_values\": 8,\n        \"samples\": [\n          30.65486387049301,\n          16.0,\n          1359.0\n        ],\n        \"semantic_type\": \"\",\n        \"description\": \"\"\n      }\n    },\n    {\n      \"column\": \"Rear camera\",\n      \"properties\": {\n        \"dtype\": \"number\",\n        \"std\": 473.5714417576845,\n        \"min\": 0.0,\n        \"max\": 1359.0,\n        \"num_unique_values\": 8,\n        \"samples\": [\n          12.07019867549669,\n          12.2,\n          1359.0\n        ],\n        \"semantic_type\": \"\",\n        \"description\": \"\"\n      }\n    },\n    {\n      \"column\": \"Front camera\",\n      \"properties\": {\n        \"dtype\": \"number\",\n        \"std\": 476.8714132424892,\n        \"min\": 0.0,\n        \"max\": 1359.0,\n        \"num_unique_values\": 8,\n        \"samples\": [\n          7.037969094922738,\n          5.0,\n          1359.0\n        ],\n        \"semantic_type\": \"\",\n        \"description\": \"\"\n      }\n    },\n    {\n      \"column\": \"Number of SIMs\",\n      \"properties\": {\n        \"dtype\": \"number\",\n        \"std\": 479.86307956310714,\n        \"min\": 0.37445737147824815,\n        \"max\": 1359.0,\n        \"num_unique_values\": 6,\n        \"samples\": [\n          1359.0,\n          1.8337012509197939,\n          3.0\n        ],\n        \"semantic_type\": \"\",\n        \"description\": \"\"\n      }\n    },\n    {\n      \"column\": \"Price\",\n      \"properties\": {\n        \"dtype\": \"number\",\n        \"std\": 59500.68030884227,\n        \"min\": 494.0,\n        \"max\": 174990.0,\n        \"num_unique_values\": 8,\n        \"samples\": [\n          11465.825607064018,\n          6999.0,\n          1359.0\n        ],\n        \"semantic_type\": \"\",\n        \"description\": \"\"\n      }\n    }\n  ]\n}"
            }
          },
          "metadata": {},
          "execution_count": 17
        }
      ]
    },
    {
      "cell_type": "markdown",
      "source": [
        "## A descriptive analysis to check incorrect entries and anomalies. This is also used to give an overview of the numerical data. It is observed that some data in the dataset could be impure/of low quality as discussed below."
      ],
      "metadata": {
        "id": "8r7j78j2YVsu"
      }
    },
    {
      "cell_type": "markdown",
      "source": [
        "1. Count: The number of values in the dataframe.\n",
        "2. Mean: The arithmetic mean or average of the values.\n",
        "3. Standard Deviation (std): A measure of the dispersion or spread of the values.\n",
        "4. Minimum: The minimum (smallest) value in each column.\n",
        "5. 25th Percentile (25%): The value below which 25% of the data falls (1st quartile). Means 25% of the entire data falls under the value 2300.000000 for Battery capacity (mAh)\n",
        "6. 50th Percentile (50%): The median or value below which 50% of the data falls (2nd quartile).\n",
        "7. 75th Percentile (75%): The value below which 75% of the data falls (3rd quartile).\n",
        "8. Maximum: The maximum (largest) value in the Series."
      ],
      "metadata": {
        "id": "Hkr1zehiZkZx"
      }
    },
    {
      "cell_type": "markdown",
      "source": [
        "#Looking at the \"minimum price\", below 500 USD is found.\n",
        "#This could be a wrong entry (or an outlier)\n",
        "\n",
        "\n"
      ],
      "metadata": {
        "id": "R9UDS_8daO2F"
      }
    },
    {
      "cell_type": "code",
      "source": [
        "#Search for price = 1 , if so, change the price to 500\n",
        "phoneprices.loc[phoneprices['Price'] == 1, 'Price'] = 500"
      ],
      "metadata": {
        "id": "jFwXmedPbD10"
      },
      "execution_count": 25,
      "outputs": []
    },
    {
      "cell_type": "code",
      "source": [
        "phoneprices.describe()  # now still the minimum price is 494 USD which is not an acceptable price"
      ],
      "metadata": {
        "colab": {
          "base_uri": "https://localhost:8080/",
          "height": 318
        },
        "id": "9Xmyp7tnbVBW",
        "outputId": "24dd5d4e-477b-40a9-9031-5c80cf0c9f08"
      },
      "execution_count": 26,
      "outputs": [
        {
          "output_type": "execute_result",
          "data": {
            "text/plain": [
              "        Unnamed: 0  Battery capacity (mAh)  Screen size (inches)  \\\n",
              "count  1359.000000             1359.000000           1359.000000   \n",
              "mean    679.000000             2938.489330              5.291310   \n",
              "std     392.453819              873.514133              0.671357   \n",
              "min       0.000000             1010.000000              2.400000   \n",
              "25%     339.500000             2300.000000              5.000000   \n",
              "50%     679.000000             3000.000000              5.200000   \n",
              "75%    1018.500000             3500.000000              5.700000   \n",
              "max    1358.000000             6000.000000              7.300000   \n",
              "\n",
              "       Resolution x  Resolution y    Processor      RAM (MB)  \\\n",
              "count   1359.000000   1359.000000  1359.000000   1359.000000   \n",
              "mean     811.543046   1490.777778     5.551141   2488.777778   \n",
              "std      270.707271    557.780120     2.196562   1664.440386   \n",
              "min      240.000000    320.000000     1.000000     64.000000   \n",
              "25%      720.000000   1280.000000     4.000000   1000.000000   \n",
              "50%      720.000000   1280.000000     4.000000   2000.000000   \n",
              "75%     1080.000000   1920.000000     8.000000   3000.000000   \n",
              "max     2160.000000   3840.000000    10.000000  12000.000000   \n",
              "\n",
              "       Internal storage (GB)  Rear camera  Front camera  Number of SIMs  \\\n",
              "count            1359.000000  1359.000000   1359.000000     1359.000000   \n",
              "mean               30.654864    12.070199      7.037969        1.833701   \n",
              "std                36.950241     8.948337      6.295448        0.374457   \n",
              "min                 0.064000     0.000000      0.000000        1.000000   \n",
              "25%                 8.000000     8.000000      2.000000        2.000000   \n",
              "50%                16.000000    12.200000      5.000000        2.000000   \n",
              "75%                32.000000    13.000000      8.000000        2.000000   \n",
              "max               512.000000   108.000000     48.000000        3.000000   \n",
              "\n",
              "               Price  \n",
              "count    1359.000000  \n",
              "mean    11465.825607  \n",
              "std     13857.497077  \n",
              "min       494.000000  \n",
              "25%      4763.500000  \n",
              "50%      6999.000000  \n",
              "75%     11999.000000  \n",
              "max    174990.000000  "
            ],
            "text/html": [
              "\n",
              "  <div id=\"df-3a96eae7-ac61-425a-b7b0-352f3dd5df42\" class=\"colab-df-container\">\n",
              "    <div>\n",
              "<style scoped>\n",
              "    .dataframe tbody tr th:only-of-type {\n",
              "        vertical-align: middle;\n",
              "    }\n",
              "\n",
              "    .dataframe tbody tr th {\n",
              "        vertical-align: top;\n",
              "    }\n",
              "\n",
              "    .dataframe thead th {\n",
              "        text-align: right;\n",
              "    }\n",
              "</style>\n",
              "<table border=\"1\" class=\"dataframe\">\n",
              "  <thead>\n",
              "    <tr style=\"text-align: right;\">\n",
              "      <th></th>\n",
              "      <th>Unnamed: 0</th>\n",
              "      <th>Battery capacity (mAh)</th>\n",
              "      <th>Screen size (inches)</th>\n",
              "      <th>Resolution x</th>\n",
              "      <th>Resolution y</th>\n",
              "      <th>Processor</th>\n",
              "      <th>RAM (MB)</th>\n",
              "      <th>Internal storage (GB)</th>\n",
              "      <th>Rear camera</th>\n",
              "      <th>Front camera</th>\n",
              "      <th>Number of SIMs</th>\n",
              "      <th>Price</th>\n",
              "    </tr>\n",
              "  </thead>\n",
              "  <tbody>\n",
              "    <tr>\n",
              "      <th>count</th>\n",
              "      <td>1359.000000</td>\n",
              "      <td>1359.000000</td>\n",
              "      <td>1359.000000</td>\n",
              "      <td>1359.000000</td>\n",
              "      <td>1359.000000</td>\n",
              "      <td>1359.000000</td>\n",
              "      <td>1359.000000</td>\n",
              "      <td>1359.000000</td>\n",
              "      <td>1359.000000</td>\n",
              "      <td>1359.000000</td>\n",
              "      <td>1359.000000</td>\n",
              "      <td>1359.000000</td>\n",
              "    </tr>\n",
              "    <tr>\n",
              "      <th>mean</th>\n",
              "      <td>679.000000</td>\n",
              "      <td>2938.489330</td>\n",
              "      <td>5.291310</td>\n",
              "      <td>811.543046</td>\n",
              "      <td>1490.777778</td>\n",
              "      <td>5.551141</td>\n",
              "      <td>2488.777778</td>\n",
              "      <td>30.654864</td>\n",
              "      <td>12.070199</td>\n",
              "      <td>7.037969</td>\n",
              "      <td>1.833701</td>\n",
              "      <td>11465.825607</td>\n",
              "    </tr>\n",
              "    <tr>\n",
              "      <th>std</th>\n",
              "      <td>392.453819</td>\n",
              "      <td>873.514133</td>\n",
              "      <td>0.671357</td>\n",
              "      <td>270.707271</td>\n",
              "      <td>557.780120</td>\n",
              "      <td>2.196562</td>\n",
              "      <td>1664.440386</td>\n",
              "      <td>36.950241</td>\n",
              "      <td>8.948337</td>\n",
              "      <td>6.295448</td>\n",
              "      <td>0.374457</td>\n",
              "      <td>13857.497077</td>\n",
              "    </tr>\n",
              "    <tr>\n",
              "      <th>min</th>\n",
              "      <td>0.000000</td>\n",
              "      <td>1010.000000</td>\n",
              "      <td>2.400000</td>\n",
              "      <td>240.000000</td>\n",
              "      <td>320.000000</td>\n",
              "      <td>1.000000</td>\n",
              "      <td>64.000000</td>\n",
              "      <td>0.064000</td>\n",
              "      <td>0.000000</td>\n",
              "      <td>0.000000</td>\n",
              "      <td>1.000000</td>\n",
              "      <td>494.000000</td>\n",
              "    </tr>\n",
              "    <tr>\n",
              "      <th>25%</th>\n",
              "      <td>339.500000</td>\n",
              "      <td>2300.000000</td>\n",
              "      <td>5.000000</td>\n",
              "      <td>720.000000</td>\n",
              "      <td>1280.000000</td>\n",
              "      <td>4.000000</td>\n",
              "      <td>1000.000000</td>\n",
              "      <td>8.000000</td>\n",
              "      <td>8.000000</td>\n",
              "      <td>2.000000</td>\n",
              "      <td>2.000000</td>\n",
              "      <td>4763.500000</td>\n",
              "    </tr>\n",
              "    <tr>\n",
              "      <th>50%</th>\n",
              "      <td>679.000000</td>\n",
              "      <td>3000.000000</td>\n",
              "      <td>5.200000</td>\n",
              "      <td>720.000000</td>\n",
              "      <td>1280.000000</td>\n",
              "      <td>4.000000</td>\n",
              "      <td>2000.000000</td>\n",
              "      <td>16.000000</td>\n",
              "      <td>12.200000</td>\n",
              "      <td>5.000000</td>\n",
              "      <td>2.000000</td>\n",
              "      <td>6999.000000</td>\n",
              "    </tr>\n",
              "    <tr>\n",
              "      <th>75%</th>\n",
              "      <td>1018.500000</td>\n",
              "      <td>3500.000000</td>\n",
              "      <td>5.700000</td>\n",
              "      <td>1080.000000</td>\n",
              "      <td>1920.000000</td>\n",
              "      <td>8.000000</td>\n",
              "      <td>3000.000000</td>\n",
              "      <td>32.000000</td>\n",
              "      <td>13.000000</td>\n",
              "      <td>8.000000</td>\n",
              "      <td>2.000000</td>\n",
              "      <td>11999.000000</td>\n",
              "    </tr>\n",
              "    <tr>\n",
              "      <th>max</th>\n",
              "      <td>1358.000000</td>\n",
              "      <td>6000.000000</td>\n",
              "      <td>7.300000</td>\n",
              "      <td>2160.000000</td>\n",
              "      <td>3840.000000</td>\n",
              "      <td>10.000000</td>\n",
              "      <td>12000.000000</td>\n",
              "      <td>512.000000</td>\n",
              "      <td>108.000000</td>\n",
              "      <td>48.000000</td>\n",
              "      <td>3.000000</td>\n",
              "      <td>174990.000000</td>\n",
              "    </tr>\n",
              "  </tbody>\n",
              "</table>\n",
              "</div>\n",
              "    <div class=\"colab-df-buttons\">\n",
              "\n",
              "  <div class=\"colab-df-container\">\n",
              "    <button class=\"colab-df-convert\" onclick=\"convertToInteractive('df-3a96eae7-ac61-425a-b7b0-352f3dd5df42')\"\n",
              "            title=\"Convert this dataframe to an interactive table.\"\n",
              "            style=\"display:none;\">\n",
              "\n",
              "  <svg xmlns=\"http://www.w3.org/2000/svg\" height=\"24px\" viewBox=\"0 -960 960 960\">\n",
              "    <path d=\"M120-120v-720h720v720H120Zm60-500h600v-160H180v160Zm220 220h160v-160H400v160Zm0 220h160v-160H400v160ZM180-400h160v-160H180v160Zm440 0h160v-160H620v160ZM180-180h160v-160H180v160Zm440 0h160v-160H620v160Z\"/>\n",
              "  </svg>\n",
              "    </button>\n",
              "\n",
              "  <style>\n",
              "    .colab-df-container {\n",
              "      display:flex;\n",
              "      gap: 12px;\n",
              "    }\n",
              "\n",
              "    .colab-df-convert {\n",
              "      background-color: #E8F0FE;\n",
              "      border: none;\n",
              "      border-radius: 50%;\n",
              "      cursor: pointer;\n",
              "      display: none;\n",
              "      fill: #1967D2;\n",
              "      height: 32px;\n",
              "      padding: 0 0 0 0;\n",
              "      width: 32px;\n",
              "    }\n",
              "\n",
              "    .colab-df-convert:hover {\n",
              "      background-color: #E2EBFA;\n",
              "      box-shadow: 0px 1px 2px rgba(60, 64, 67, 0.3), 0px 1px 3px 1px rgba(60, 64, 67, 0.15);\n",
              "      fill: #174EA6;\n",
              "    }\n",
              "\n",
              "    .colab-df-buttons div {\n",
              "      margin-bottom: 4px;\n",
              "    }\n",
              "\n",
              "    [theme=dark] .colab-df-convert {\n",
              "      background-color: #3B4455;\n",
              "      fill: #D2E3FC;\n",
              "    }\n",
              "\n",
              "    [theme=dark] .colab-df-convert:hover {\n",
              "      background-color: #434B5C;\n",
              "      box-shadow: 0px 1px 3px 1px rgba(0, 0, 0, 0.15);\n",
              "      filter: drop-shadow(0px 1px 2px rgba(0, 0, 0, 0.3));\n",
              "      fill: #FFFFFF;\n",
              "    }\n",
              "  </style>\n",
              "\n",
              "    <script>\n",
              "      const buttonEl =\n",
              "        document.querySelector('#df-3a96eae7-ac61-425a-b7b0-352f3dd5df42 button.colab-df-convert');\n",
              "      buttonEl.style.display =\n",
              "        google.colab.kernel.accessAllowed ? 'block' : 'none';\n",
              "\n",
              "      async function convertToInteractive(key) {\n",
              "        const element = document.querySelector('#df-3a96eae7-ac61-425a-b7b0-352f3dd5df42');\n",
              "        const dataTable =\n",
              "          await google.colab.kernel.invokeFunction('convertToInteractive',\n",
              "                                                    [key], {});\n",
              "        if (!dataTable) return;\n",
              "\n",
              "        const docLinkHtml = 'Like what you see? Visit the ' +\n",
              "          '<a target=\"_blank\" href=https://colab.research.google.com/notebooks/data_table.ipynb>data table notebook</a>'\n",
              "          + ' to learn more about interactive tables.';\n",
              "        element.innerHTML = '';\n",
              "        dataTable['output_type'] = 'display_data';\n",
              "        await google.colab.output.renderOutput(dataTable, element);\n",
              "        const docLink = document.createElement('div');\n",
              "        docLink.innerHTML = docLinkHtml;\n",
              "        element.appendChild(docLink);\n",
              "      }\n",
              "    </script>\n",
              "  </div>\n",
              "\n",
              "\n",
              "<div id=\"df-ede9e8ac-75d3-4706-bcb9-65b2f0f32452\">\n",
              "  <button class=\"colab-df-quickchart\" onclick=\"quickchart('df-ede9e8ac-75d3-4706-bcb9-65b2f0f32452')\"\n",
              "            title=\"Suggest charts\"\n",
              "            style=\"display:none;\">\n",
              "\n",
              "<svg xmlns=\"http://www.w3.org/2000/svg\" height=\"24px\"viewBox=\"0 0 24 24\"\n",
              "     width=\"24px\">\n",
              "    <g>\n",
              "        <path d=\"M19 3H5c-1.1 0-2 .9-2 2v14c0 1.1.9 2 2 2h14c1.1 0 2-.9 2-2V5c0-1.1-.9-2-2-2zM9 17H7v-7h2v7zm4 0h-2V7h2v10zm4 0h-2v-4h2v4z\"/>\n",
              "    </g>\n",
              "</svg>\n",
              "  </button>\n",
              "\n",
              "<style>\n",
              "  .colab-df-quickchart {\n",
              "      --bg-color: #E8F0FE;\n",
              "      --fill-color: #1967D2;\n",
              "      --hover-bg-color: #E2EBFA;\n",
              "      --hover-fill-color: #174EA6;\n",
              "      --disabled-fill-color: #AAA;\n",
              "      --disabled-bg-color: #DDD;\n",
              "  }\n",
              "\n",
              "  [theme=dark] .colab-df-quickchart {\n",
              "      --bg-color: #3B4455;\n",
              "      --fill-color: #D2E3FC;\n",
              "      --hover-bg-color: #434B5C;\n",
              "      --hover-fill-color: #FFFFFF;\n",
              "      --disabled-bg-color: #3B4455;\n",
              "      --disabled-fill-color: #666;\n",
              "  }\n",
              "\n",
              "  .colab-df-quickchart {\n",
              "    background-color: var(--bg-color);\n",
              "    border: none;\n",
              "    border-radius: 50%;\n",
              "    cursor: pointer;\n",
              "    display: none;\n",
              "    fill: var(--fill-color);\n",
              "    height: 32px;\n",
              "    padding: 0;\n",
              "    width: 32px;\n",
              "  }\n",
              "\n",
              "  .colab-df-quickchart:hover {\n",
              "    background-color: var(--hover-bg-color);\n",
              "    box-shadow: 0 1px 2px rgba(60, 64, 67, 0.3), 0 1px 3px 1px rgba(60, 64, 67, 0.15);\n",
              "    fill: var(--button-hover-fill-color);\n",
              "  }\n",
              "\n",
              "  .colab-df-quickchart-complete:disabled,\n",
              "  .colab-df-quickchart-complete:disabled:hover {\n",
              "    background-color: var(--disabled-bg-color);\n",
              "    fill: var(--disabled-fill-color);\n",
              "    box-shadow: none;\n",
              "  }\n",
              "\n",
              "  .colab-df-spinner {\n",
              "    border: 2px solid var(--fill-color);\n",
              "    border-color: transparent;\n",
              "    border-bottom-color: var(--fill-color);\n",
              "    animation:\n",
              "      spin 1s steps(1) infinite;\n",
              "  }\n",
              "\n",
              "  @keyframes spin {\n",
              "    0% {\n",
              "      border-color: transparent;\n",
              "      border-bottom-color: var(--fill-color);\n",
              "      border-left-color: var(--fill-color);\n",
              "    }\n",
              "    20% {\n",
              "      border-color: transparent;\n",
              "      border-left-color: var(--fill-color);\n",
              "      border-top-color: var(--fill-color);\n",
              "    }\n",
              "    30% {\n",
              "      border-color: transparent;\n",
              "      border-left-color: var(--fill-color);\n",
              "      border-top-color: var(--fill-color);\n",
              "      border-right-color: var(--fill-color);\n",
              "    }\n",
              "    40% {\n",
              "      border-color: transparent;\n",
              "      border-right-color: var(--fill-color);\n",
              "      border-top-color: var(--fill-color);\n",
              "    }\n",
              "    60% {\n",
              "      border-color: transparent;\n",
              "      border-right-color: var(--fill-color);\n",
              "    }\n",
              "    80% {\n",
              "      border-color: transparent;\n",
              "      border-right-color: var(--fill-color);\n",
              "      border-bottom-color: var(--fill-color);\n",
              "    }\n",
              "    90% {\n",
              "      border-color: transparent;\n",
              "      border-bottom-color: var(--fill-color);\n",
              "    }\n",
              "  }\n",
              "</style>\n",
              "\n",
              "  <script>\n",
              "    async function quickchart(key) {\n",
              "      const quickchartButtonEl =\n",
              "        document.querySelector('#' + key + ' button');\n",
              "      quickchartButtonEl.disabled = true;  // To prevent multiple clicks.\n",
              "      quickchartButtonEl.classList.add('colab-df-spinner');\n",
              "      try {\n",
              "        const charts = await google.colab.kernel.invokeFunction(\n",
              "            'suggestCharts', [key], {});\n",
              "      } catch (error) {\n",
              "        console.error('Error during call to suggestCharts:', error);\n",
              "      }\n",
              "      quickchartButtonEl.classList.remove('colab-df-spinner');\n",
              "      quickchartButtonEl.classList.add('colab-df-quickchart-complete');\n",
              "    }\n",
              "    (() => {\n",
              "      let quickchartButtonEl =\n",
              "        document.querySelector('#df-ede9e8ac-75d3-4706-bcb9-65b2f0f32452 button');\n",
              "      quickchartButtonEl.style.display =\n",
              "        google.colab.kernel.accessAllowed ? 'block' : 'none';\n",
              "    })();\n",
              "  </script>\n",
              "</div>\n",
              "\n",
              "    </div>\n",
              "  </div>\n"
            ],
            "application/vnd.google.colaboratory.intrinsic+json": {
              "type": "dataframe",
              "summary": "{\n  \"name\": \"phoneprices\",\n  \"rows\": 8,\n  \"fields\": [\n    {\n      \"column\": \"Unnamed: 0\",\n      \"properties\": {\n        \"dtype\": \"number\",\n        \"std\": 489.5713103501538,\n        \"min\": 0.0,\n        \"max\": 1359.0,\n        \"num_unique_values\": 7,\n        \"samples\": [\n          1359.0,\n          679.0,\n          1018.5\n        ],\n        \"semantic_type\": \"\",\n        \"description\": \"\"\n      }\n    },\n    {\n      \"column\": \"Battery capacity (mAh)\",\n      \"properties\": {\n        \"dtype\": \"number\",\n        \"std\": 1680.9612128412032,\n        \"min\": 873.514133137993,\n        \"max\": 6000.0,\n        \"num_unique_values\": 8,\n        \"samples\": [\n          2938.4893303899926,\n          3000.0,\n          1359.0\n        ],\n        \"semantic_type\": \"\",\n        \"description\": \"\"\n      }\n    },\n    {\n      \"column\": \"Screen size (inches)\",\n      \"properties\": {\n        \"dtype\": \"number\",\n        \"std\": 478.8893344496405,\n        \"min\": 0.6713565655666764,\n        \"max\": 1359.0,\n        \"num_unique_values\": 8,\n        \"samples\": [\n          5.2913097866078,\n          5.2,\n          1359.0\n        ],\n        \"semantic_type\": \"\",\n        \"description\": \"\"\n      }\n    },\n    {\n      \"column\": \"Resolution x\",\n      \"properties\": {\n        \"dtype\": \"number\",\n        \"std\": 624.6901818854137,\n        \"min\": 240.0,\n        \"max\": 2160.0,\n        \"num_unique_values\": 7,\n        \"samples\": [\n          1359.0,\n          811.5430463576159,\n          1080.0\n        ],\n        \"semantic_type\": \"\",\n        \"description\": \"\"\n      }\n    },\n    {\n      \"column\": \"Resolution y\",\n      \"properties\": {\n        \"dtype\": \"number\",\n        \"std\": 1072.291380511387,\n        \"min\": 320.0,\n        \"max\": 3840.0,\n        \"num_unique_values\": 7,\n        \"samples\": [\n          1359.0,\n          1490.7777777777778,\n          1920.0\n        ],\n        \"semantic_type\": \"\",\n        \"description\": \"\"\n      }\n    },\n    {\n      \"column\": \"Processor\",\n      \"properties\": {\n        \"dtype\": \"number\",\n        \"std\": 478.7330090402289,\n        \"min\": 1.0,\n        \"max\": 1359.0,\n        \"num_unique_values\": 7,\n        \"samples\": [\n          1359.0,\n          5.551140544518028,\n          8.0\n        ],\n        \"semantic_type\": \"\",\n        \"description\": \"\"\n      }\n    },\n    {\n      \"column\": \"RAM (MB)\",\n      \"properties\": {\n        \"dtype\": \"number\",\n        \"std\": 3767.0677448910756,\n        \"min\": 64.0,\n        \"max\": 12000.0,\n        \"num_unique_values\": 8,\n        \"samples\": [\n          2488.777777777778,\n          2000.0,\n          1359.0\n        ],\n        \"semantic_type\": \"\",\n        \"description\": \"\"\n      }\n    },\n    {\n      \"column\": \"Internal storage (GB)\",\n      \"properties\": {\n        \"dtype\": \"number\",\n        \"std\": 480.37722383441064,\n        \"min\": 0.064,\n        \"max\": 1359.0,\n        \"num_unique_values\": 8,\n        \"samples\": [\n          30.65486387049301,\n          16.0,\n          1359.0\n        ],\n        \"semantic_type\": \"\",\n        \"description\": \"\"\n      }\n    },\n    {\n      \"column\": \"Rear camera\",\n      \"properties\": {\n        \"dtype\": \"number\",\n        \"std\": 473.5714417576845,\n        \"min\": 0.0,\n        \"max\": 1359.0,\n        \"num_unique_values\": 8,\n        \"samples\": [\n          12.07019867549669,\n          12.2,\n          1359.0\n        ],\n        \"semantic_type\": \"\",\n        \"description\": \"\"\n      }\n    },\n    {\n      \"column\": \"Front camera\",\n      \"properties\": {\n        \"dtype\": \"number\",\n        \"std\": 476.8714132424892,\n        \"min\": 0.0,\n        \"max\": 1359.0,\n        \"num_unique_values\": 8,\n        \"samples\": [\n          7.037969094922738,\n          5.0,\n          1359.0\n        ],\n        \"semantic_type\": \"\",\n        \"description\": \"\"\n      }\n    },\n    {\n      \"column\": \"Number of SIMs\",\n      \"properties\": {\n        \"dtype\": \"number\",\n        \"std\": 479.86307956310714,\n        \"min\": 0.37445737147824815,\n        \"max\": 1359.0,\n        \"num_unique_values\": 6,\n        \"samples\": [\n          1359.0,\n          1.8337012509197939,\n          3.0\n        ],\n        \"semantic_type\": \"\",\n        \"description\": \"\"\n      }\n    },\n    {\n      \"column\": \"Price\",\n      \"properties\": {\n        \"dtype\": \"number\",\n        \"std\": 59500.68030884227,\n        \"min\": 494.0,\n        \"max\": 174990.0,\n        \"num_unique_values\": 8,\n        \"samples\": [\n          11465.825607064018,\n          6999.0,\n          1359.0\n        ],\n        \"semantic_type\": \"\",\n        \"description\": \"\"\n      }\n    }\n  ]\n}"
            }
          },
          "metadata": {},
          "execution_count": 26
        }
      ]
    },
    {
      "cell_type": "code",
      "source": [
        "#Search for price < 500 , if so, change the price to 500. This way I make sure that the min proce is 500 USD\n",
        "phoneprices.loc[phoneprices['Price'] < 500, 'Price'] = 500"
      ],
      "metadata": {
        "id": "UXJmspgjbj9e"
      },
      "execution_count": 27,
      "outputs": []
    },
    {
      "cell_type": "code",
      "source": [
        "phoneprices.describe()  # now the minimum price is 500 USD"
      ],
      "metadata": {
        "colab": {
          "base_uri": "https://localhost:8080/",
          "height": 318
        },
        "id": "CxZd4h5Kb-UJ",
        "outputId": "9ac734e5-af43-4129-aa0d-69339e2391a9"
      },
      "execution_count": 28,
      "outputs": [
        {
          "output_type": "execute_result",
          "data": {
            "text/plain": [
              "        Unnamed: 0  Battery capacity (mAh)  Screen size (inches)  \\\n",
              "count  1359.000000             1359.000000           1359.000000   \n",
              "mean    679.000000             2938.489330              5.291310   \n",
              "std     392.453819              873.514133              0.671357   \n",
              "min       0.000000             1010.000000              2.400000   \n",
              "25%     339.500000             2300.000000              5.000000   \n",
              "50%     679.000000             3000.000000              5.200000   \n",
              "75%    1018.500000             3500.000000              5.700000   \n",
              "max    1358.000000             6000.000000              7.300000   \n",
              "\n",
              "       Resolution x  Resolution y    Processor      RAM (MB)  \\\n",
              "count   1359.000000   1359.000000  1359.000000   1359.000000   \n",
              "mean     811.543046   1490.777778     5.551141   2488.777778   \n",
              "std      270.707271    557.780120     2.196562   1664.440386   \n",
              "min      240.000000    320.000000     1.000000     64.000000   \n",
              "25%      720.000000   1280.000000     4.000000   1000.000000   \n",
              "50%      720.000000   1280.000000     4.000000   2000.000000   \n",
              "75%     1080.000000   1920.000000     8.000000   3000.000000   \n",
              "max     2160.000000   3840.000000    10.000000  12000.000000   \n",
              "\n",
              "       Internal storage (GB)  Rear camera  Front camera  Number of SIMs  \\\n",
              "count            1359.000000  1359.000000   1359.000000     1359.000000   \n",
              "mean               30.654864    12.070199      7.037969        1.833701   \n",
              "std                36.950241     8.948337      6.295448        0.374457   \n",
              "min                 0.064000     0.000000      0.000000        1.000000   \n",
              "25%                 8.000000     8.000000      2.000000        2.000000   \n",
              "50%                16.000000    12.200000      5.000000        2.000000   \n",
              "75%                32.000000    13.000000      8.000000        2.000000   \n",
              "max               512.000000   108.000000     48.000000        3.000000   \n",
              "\n",
              "               Price  \n",
              "count    1359.000000  \n",
              "mean    11465.830022  \n",
              "std     13857.493579  \n",
              "min       500.000000  \n",
              "25%      4763.500000  \n",
              "50%      6999.000000  \n",
              "75%     11999.000000  \n",
              "max    174990.000000  "
            ],
            "text/html": [
              "\n",
              "  <div id=\"df-5d417e34-732f-4ba8-b81a-f44d96e6ab1d\" class=\"colab-df-container\">\n",
              "    <div>\n",
              "<style scoped>\n",
              "    .dataframe tbody tr th:only-of-type {\n",
              "        vertical-align: middle;\n",
              "    }\n",
              "\n",
              "    .dataframe tbody tr th {\n",
              "        vertical-align: top;\n",
              "    }\n",
              "\n",
              "    .dataframe thead th {\n",
              "        text-align: right;\n",
              "    }\n",
              "</style>\n",
              "<table border=\"1\" class=\"dataframe\">\n",
              "  <thead>\n",
              "    <tr style=\"text-align: right;\">\n",
              "      <th></th>\n",
              "      <th>Unnamed: 0</th>\n",
              "      <th>Battery capacity (mAh)</th>\n",
              "      <th>Screen size (inches)</th>\n",
              "      <th>Resolution x</th>\n",
              "      <th>Resolution y</th>\n",
              "      <th>Processor</th>\n",
              "      <th>RAM (MB)</th>\n",
              "      <th>Internal storage (GB)</th>\n",
              "      <th>Rear camera</th>\n",
              "      <th>Front camera</th>\n",
              "      <th>Number of SIMs</th>\n",
              "      <th>Price</th>\n",
              "    </tr>\n",
              "  </thead>\n",
              "  <tbody>\n",
              "    <tr>\n",
              "      <th>count</th>\n",
              "      <td>1359.000000</td>\n",
              "      <td>1359.000000</td>\n",
              "      <td>1359.000000</td>\n",
              "      <td>1359.000000</td>\n",
              "      <td>1359.000000</td>\n",
              "      <td>1359.000000</td>\n",
              "      <td>1359.000000</td>\n",
              "      <td>1359.000000</td>\n",
              "      <td>1359.000000</td>\n",
              "      <td>1359.000000</td>\n",
              "      <td>1359.000000</td>\n",
              "      <td>1359.000000</td>\n",
              "    </tr>\n",
              "    <tr>\n",
              "      <th>mean</th>\n",
              "      <td>679.000000</td>\n",
              "      <td>2938.489330</td>\n",
              "      <td>5.291310</td>\n",
              "      <td>811.543046</td>\n",
              "      <td>1490.777778</td>\n",
              "      <td>5.551141</td>\n",
              "      <td>2488.777778</td>\n",
              "      <td>30.654864</td>\n",
              "      <td>12.070199</td>\n",
              "      <td>7.037969</td>\n",
              "      <td>1.833701</td>\n",
              "      <td>11465.830022</td>\n",
              "    </tr>\n",
              "    <tr>\n",
              "      <th>std</th>\n",
              "      <td>392.453819</td>\n",
              "      <td>873.514133</td>\n",
              "      <td>0.671357</td>\n",
              "      <td>270.707271</td>\n",
              "      <td>557.780120</td>\n",
              "      <td>2.196562</td>\n",
              "      <td>1664.440386</td>\n",
              "      <td>36.950241</td>\n",
              "      <td>8.948337</td>\n",
              "      <td>6.295448</td>\n",
              "      <td>0.374457</td>\n",
              "      <td>13857.493579</td>\n",
              "    </tr>\n",
              "    <tr>\n",
              "      <th>min</th>\n",
              "      <td>0.000000</td>\n",
              "      <td>1010.000000</td>\n",
              "      <td>2.400000</td>\n",
              "      <td>240.000000</td>\n",
              "      <td>320.000000</td>\n",
              "      <td>1.000000</td>\n",
              "      <td>64.000000</td>\n",
              "      <td>0.064000</td>\n",
              "      <td>0.000000</td>\n",
              "      <td>0.000000</td>\n",
              "      <td>1.000000</td>\n",
              "      <td>500.000000</td>\n",
              "    </tr>\n",
              "    <tr>\n",
              "      <th>25%</th>\n",
              "      <td>339.500000</td>\n",
              "      <td>2300.000000</td>\n",
              "      <td>5.000000</td>\n",
              "      <td>720.000000</td>\n",
              "      <td>1280.000000</td>\n",
              "      <td>4.000000</td>\n",
              "      <td>1000.000000</td>\n",
              "      <td>8.000000</td>\n",
              "      <td>8.000000</td>\n",
              "      <td>2.000000</td>\n",
              "      <td>2.000000</td>\n",
              "      <td>4763.500000</td>\n",
              "    </tr>\n",
              "    <tr>\n",
              "      <th>50%</th>\n",
              "      <td>679.000000</td>\n",
              "      <td>3000.000000</td>\n",
              "      <td>5.200000</td>\n",
              "      <td>720.000000</td>\n",
              "      <td>1280.000000</td>\n",
              "      <td>4.000000</td>\n",
              "      <td>2000.000000</td>\n",
              "      <td>16.000000</td>\n",
              "      <td>12.200000</td>\n",
              "      <td>5.000000</td>\n",
              "      <td>2.000000</td>\n",
              "      <td>6999.000000</td>\n",
              "    </tr>\n",
              "    <tr>\n",
              "      <th>75%</th>\n",
              "      <td>1018.500000</td>\n",
              "      <td>3500.000000</td>\n",
              "      <td>5.700000</td>\n",
              "      <td>1080.000000</td>\n",
              "      <td>1920.000000</td>\n",
              "      <td>8.000000</td>\n",
              "      <td>3000.000000</td>\n",
              "      <td>32.000000</td>\n",
              "      <td>13.000000</td>\n",
              "      <td>8.000000</td>\n",
              "      <td>2.000000</td>\n",
              "      <td>11999.000000</td>\n",
              "    </tr>\n",
              "    <tr>\n",
              "      <th>max</th>\n",
              "      <td>1358.000000</td>\n",
              "      <td>6000.000000</td>\n",
              "      <td>7.300000</td>\n",
              "      <td>2160.000000</td>\n",
              "      <td>3840.000000</td>\n",
              "      <td>10.000000</td>\n",
              "      <td>12000.000000</td>\n",
              "      <td>512.000000</td>\n",
              "      <td>108.000000</td>\n",
              "      <td>48.000000</td>\n",
              "      <td>3.000000</td>\n",
              "      <td>174990.000000</td>\n",
              "    </tr>\n",
              "  </tbody>\n",
              "</table>\n",
              "</div>\n",
              "    <div class=\"colab-df-buttons\">\n",
              "\n",
              "  <div class=\"colab-df-container\">\n",
              "    <button class=\"colab-df-convert\" onclick=\"convertToInteractive('df-5d417e34-732f-4ba8-b81a-f44d96e6ab1d')\"\n",
              "            title=\"Convert this dataframe to an interactive table.\"\n",
              "            style=\"display:none;\">\n",
              "\n",
              "  <svg xmlns=\"http://www.w3.org/2000/svg\" height=\"24px\" viewBox=\"0 -960 960 960\">\n",
              "    <path d=\"M120-120v-720h720v720H120Zm60-500h600v-160H180v160Zm220 220h160v-160H400v160Zm0 220h160v-160H400v160ZM180-400h160v-160H180v160Zm440 0h160v-160H620v160ZM180-180h160v-160H180v160Zm440 0h160v-160H620v160Z\"/>\n",
              "  </svg>\n",
              "    </button>\n",
              "\n",
              "  <style>\n",
              "    .colab-df-container {\n",
              "      display:flex;\n",
              "      gap: 12px;\n",
              "    }\n",
              "\n",
              "    .colab-df-convert {\n",
              "      background-color: #E8F0FE;\n",
              "      border: none;\n",
              "      border-radius: 50%;\n",
              "      cursor: pointer;\n",
              "      display: none;\n",
              "      fill: #1967D2;\n",
              "      height: 32px;\n",
              "      padding: 0 0 0 0;\n",
              "      width: 32px;\n",
              "    }\n",
              "\n",
              "    .colab-df-convert:hover {\n",
              "      background-color: #E2EBFA;\n",
              "      box-shadow: 0px 1px 2px rgba(60, 64, 67, 0.3), 0px 1px 3px 1px rgba(60, 64, 67, 0.15);\n",
              "      fill: #174EA6;\n",
              "    }\n",
              "\n",
              "    .colab-df-buttons div {\n",
              "      margin-bottom: 4px;\n",
              "    }\n",
              "\n",
              "    [theme=dark] .colab-df-convert {\n",
              "      background-color: #3B4455;\n",
              "      fill: #D2E3FC;\n",
              "    }\n",
              "\n",
              "    [theme=dark] .colab-df-convert:hover {\n",
              "      background-color: #434B5C;\n",
              "      box-shadow: 0px 1px 3px 1px rgba(0, 0, 0, 0.15);\n",
              "      filter: drop-shadow(0px 1px 2px rgba(0, 0, 0, 0.3));\n",
              "      fill: #FFFFFF;\n",
              "    }\n",
              "  </style>\n",
              "\n",
              "    <script>\n",
              "      const buttonEl =\n",
              "        document.querySelector('#df-5d417e34-732f-4ba8-b81a-f44d96e6ab1d button.colab-df-convert');\n",
              "      buttonEl.style.display =\n",
              "        google.colab.kernel.accessAllowed ? 'block' : 'none';\n",
              "\n",
              "      async function convertToInteractive(key) {\n",
              "        const element = document.querySelector('#df-5d417e34-732f-4ba8-b81a-f44d96e6ab1d');\n",
              "        const dataTable =\n",
              "          await google.colab.kernel.invokeFunction('convertToInteractive',\n",
              "                                                    [key], {});\n",
              "        if (!dataTable) return;\n",
              "\n",
              "        const docLinkHtml = 'Like what you see? Visit the ' +\n",
              "          '<a target=\"_blank\" href=https://colab.research.google.com/notebooks/data_table.ipynb>data table notebook</a>'\n",
              "          + ' to learn more about interactive tables.';\n",
              "        element.innerHTML = '';\n",
              "        dataTable['output_type'] = 'display_data';\n",
              "        await google.colab.output.renderOutput(dataTable, element);\n",
              "        const docLink = document.createElement('div');\n",
              "        docLink.innerHTML = docLinkHtml;\n",
              "        element.appendChild(docLink);\n",
              "      }\n",
              "    </script>\n",
              "  </div>\n",
              "\n",
              "\n",
              "<div id=\"df-08cbabca-318a-47fe-abfd-e28a32c4b8d6\">\n",
              "  <button class=\"colab-df-quickchart\" onclick=\"quickchart('df-08cbabca-318a-47fe-abfd-e28a32c4b8d6')\"\n",
              "            title=\"Suggest charts\"\n",
              "            style=\"display:none;\">\n",
              "\n",
              "<svg xmlns=\"http://www.w3.org/2000/svg\" height=\"24px\"viewBox=\"0 0 24 24\"\n",
              "     width=\"24px\">\n",
              "    <g>\n",
              "        <path d=\"M19 3H5c-1.1 0-2 .9-2 2v14c0 1.1.9 2 2 2h14c1.1 0 2-.9 2-2V5c0-1.1-.9-2-2-2zM9 17H7v-7h2v7zm4 0h-2V7h2v10zm4 0h-2v-4h2v4z\"/>\n",
              "    </g>\n",
              "</svg>\n",
              "  </button>\n",
              "\n",
              "<style>\n",
              "  .colab-df-quickchart {\n",
              "      --bg-color: #E8F0FE;\n",
              "      --fill-color: #1967D2;\n",
              "      --hover-bg-color: #E2EBFA;\n",
              "      --hover-fill-color: #174EA6;\n",
              "      --disabled-fill-color: #AAA;\n",
              "      --disabled-bg-color: #DDD;\n",
              "  }\n",
              "\n",
              "  [theme=dark] .colab-df-quickchart {\n",
              "      --bg-color: #3B4455;\n",
              "      --fill-color: #D2E3FC;\n",
              "      --hover-bg-color: #434B5C;\n",
              "      --hover-fill-color: #FFFFFF;\n",
              "      --disabled-bg-color: #3B4455;\n",
              "      --disabled-fill-color: #666;\n",
              "  }\n",
              "\n",
              "  .colab-df-quickchart {\n",
              "    background-color: var(--bg-color);\n",
              "    border: none;\n",
              "    border-radius: 50%;\n",
              "    cursor: pointer;\n",
              "    display: none;\n",
              "    fill: var(--fill-color);\n",
              "    height: 32px;\n",
              "    padding: 0;\n",
              "    width: 32px;\n",
              "  }\n",
              "\n",
              "  .colab-df-quickchart:hover {\n",
              "    background-color: var(--hover-bg-color);\n",
              "    box-shadow: 0 1px 2px rgba(60, 64, 67, 0.3), 0 1px 3px 1px rgba(60, 64, 67, 0.15);\n",
              "    fill: var(--button-hover-fill-color);\n",
              "  }\n",
              "\n",
              "  .colab-df-quickchart-complete:disabled,\n",
              "  .colab-df-quickchart-complete:disabled:hover {\n",
              "    background-color: var(--disabled-bg-color);\n",
              "    fill: var(--disabled-fill-color);\n",
              "    box-shadow: none;\n",
              "  }\n",
              "\n",
              "  .colab-df-spinner {\n",
              "    border: 2px solid var(--fill-color);\n",
              "    border-color: transparent;\n",
              "    border-bottom-color: var(--fill-color);\n",
              "    animation:\n",
              "      spin 1s steps(1) infinite;\n",
              "  }\n",
              "\n",
              "  @keyframes spin {\n",
              "    0% {\n",
              "      border-color: transparent;\n",
              "      border-bottom-color: var(--fill-color);\n",
              "      border-left-color: var(--fill-color);\n",
              "    }\n",
              "    20% {\n",
              "      border-color: transparent;\n",
              "      border-left-color: var(--fill-color);\n",
              "      border-top-color: var(--fill-color);\n",
              "    }\n",
              "    30% {\n",
              "      border-color: transparent;\n",
              "      border-left-color: var(--fill-color);\n",
              "      border-top-color: var(--fill-color);\n",
              "      border-right-color: var(--fill-color);\n",
              "    }\n",
              "    40% {\n",
              "      border-color: transparent;\n",
              "      border-right-color: var(--fill-color);\n",
              "      border-top-color: var(--fill-color);\n",
              "    }\n",
              "    60% {\n",
              "      border-color: transparent;\n",
              "      border-right-color: var(--fill-color);\n",
              "    }\n",
              "    80% {\n",
              "      border-color: transparent;\n",
              "      border-right-color: var(--fill-color);\n",
              "      border-bottom-color: var(--fill-color);\n",
              "    }\n",
              "    90% {\n",
              "      border-color: transparent;\n",
              "      border-bottom-color: var(--fill-color);\n",
              "    }\n",
              "  }\n",
              "</style>\n",
              "\n",
              "  <script>\n",
              "    async function quickchart(key) {\n",
              "      const quickchartButtonEl =\n",
              "        document.querySelector('#' + key + ' button');\n",
              "      quickchartButtonEl.disabled = true;  // To prevent multiple clicks.\n",
              "      quickchartButtonEl.classList.add('colab-df-spinner');\n",
              "      try {\n",
              "        const charts = await google.colab.kernel.invokeFunction(\n",
              "            'suggestCharts', [key], {});\n",
              "      } catch (error) {\n",
              "        console.error('Error during call to suggestCharts:', error);\n",
              "      }\n",
              "      quickchartButtonEl.classList.remove('colab-df-spinner');\n",
              "      quickchartButtonEl.classList.add('colab-df-quickchart-complete');\n",
              "    }\n",
              "    (() => {\n",
              "      let quickchartButtonEl =\n",
              "        document.querySelector('#df-08cbabca-318a-47fe-abfd-e28a32c4b8d6 button');\n",
              "      quickchartButtonEl.style.display =\n",
              "        google.colab.kernel.accessAllowed ? 'block' : 'none';\n",
              "    })();\n",
              "  </script>\n",
              "</div>\n",
              "\n",
              "    </div>\n",
              "  </div>\n"
            ],
            "application/vnd.google.colaboratory.intrinsic+json": {
              "type": "dataframe",
              "summary": "{\n  \"name\": \"phoneprices\",\n  \"rows\": 8,\n  \"fields\": [\n    {\n      \"column\": \"Unnamed: 0\",\n      \"properties\": {\n        \"dtype\": \"number\",\n        \"std\": 489.5713103501538,\n        \"min\": 0.0,\n        \"max\": 1359.0,\n        \"num_unique_values\": 7,\n        \"samples\": [\n          1359.0,\n          679.0,\n          1018.5\n        ],\n        \"semantic_type\": \"\",\n        \"description\": \"\"\n      }\n    },\n    {\n      \"column\": \"Battery capacity (mAh)\",\n      \"properties\": {\n        \"dtype\": \"number\",\n        \"std\": 1680.9612128412032,\n        \"min\": 873.514133137993,\n        \"max\": 6000.0,\n        \"num_unique_values\": 8,\n        \"samples\": [\n          2938.4893303899926,\n          3000.0,\n          1359.0\n        ],\n        \"semantic_type\": \"\",\n        \"description\": \"\"\n      }\n    },\n    {\n      \"column\": \"Screen size (inches)\",\n      \"properties\": {\n        \"dtype\": \"number\",\n        \"std\": 478.8893344496405,\n        \"min\": 0.6713565655666764,\n        \"max\": 1359.0,\n        \"num_unique_values\": 8,\n        \"samples\": [\n          5.2913097866078,\n          5.2,\n          1359.0\n        ],\n        \"semantic_type\": \"\",\n        \"description\": \"\"\n      }\n    },\n    {\n      \"column\": \"Resolution x\",\n      \"properties\": {\n        \"dtype\": \"number\",\n        \"std\": 624.6901818854137,\n        \"min\": 240.0,\n        \"max\": 2160.0,\n        \"num_unique_values\": 7,\n        \"samples\": [\n          1359.0,\n          811.5430463576159,\n          1080.0\n        ],\n        \"semantic_type\": \"\",\n        \"description\": \"\"\n      }\n    },\n    {\n      \"column\": \"Resolution y\",\n      \"properties\": {\n        \"dtype\": \"number\",\n        \"std\": 1072.291380511387,\n        \"min\": 320.0,\n        \"max\": 3840.0,\n        \"num_unique_values\": 7,\n        \"samples\": [\n          1359.0,\n          1490.7777777777778,\n          1920.0\n        ],\n        \"semantic_type\": \"\",\n        \"description\": \"\"\n      }\n    },\n    {\n      \"column\": \"Processor\",\n      \"properties\": {\n        \"dtype\": \"number\",\n        \"std\": 478.7330090402289,\n        \"min\": 1.0,\n        \"max\": 1359.0,\n        \"num_unique_values\": 7,\n        \"samples\": [\n          1359.0,\n          5.551140544518028,\n          8.0\n        ],\n        \"semantic_type\": \"\",\n        \"description\": \"\"\n      }\n    },\n    {\n      \"column\": \"RAM (MB)\",\n      \"properties\": {\n        \"dtype\": \"number\",\n        \"std\": 3767.0677448910756,\n        \"min\": 64.0,\n        \"max\": 12000.0,\n        \"num_unique_values\": 8,\n        \"samples\": [\n          2488.777777777778,\n          2000.0,\n          1359.0\n        ],\n        \"semantic_type\": \"\",\n        \"description\": \"\"\n      }\n    },\n    {\n      \"column\": \"Internal storage (GB)\",\n      \"properties\": {\n        \"dtype\": \"number\",\n        \"std\": 480.37722383441064,\n        \"min\": 0.064,\n        \"max\": 1359.0,\n        \"num_unique_values\": 8,\n        \"samples\": [\n          30.65486387049301,\n          16.0,\n          1359.0\n        ],\n        \"semantic_type\": \"\",\n        \"description\": \"\"\n      }\n    },\n    {\n      \"column\": \"Rear camera\",\n      \"properties\": {\n        \"dtype\": \"number\",\n        \"std\": 473.5714417576845,\n        \"min\": 0.0,\n        \"max\": 1359.0,\n        \"num_unique_values\": 8,\n        \"samples\": [\n          12.07019867549669,\n          12.2,\n          1359.0\n        ],\n        \"semantic_type\": \"\",\n        \"description\": \"\"\n      }\n    },\n    {\n      \"column\": \"Front camera\",\n      \"properties\": {\n        \"dtype\": \"number\",\n        \"std\": 476.8714132424892,\n        \"min\": 0.0,\n        \"max\": 1359.0,\n        \"num_unique_values\": 8,\n        \"samples\": [\n          7.037969094922738,\n          5.0,\n          1359.0\n        ],\n        \"semantic_type\": \"\",\n        \"description\": \"\"\n      }\n    },\n    {\n      \"column\": \"Number of SIMs\",\n      \"properties\": {\n        \"dtype\": \"number\",\n        \"std\": 479.86307956310714,\n        \"min\": 0.37445737147824815,\n        \"max\": 1359.0,\n        \"num_unique_values\": 6,\n        \"samples\": [\n          1359.0,\n          1.8337012509197939,\n          3.0\n        ],\n        \"semantic_type\": \"\",\n        \"description\": \"\"\n      }\n    },\n    {\n      \"column\": \"Price\",\n      \"properties\": {\n        \"dtype\": \"number\",\n        \"std\": 59500.28057646972,\n        \"min\": 500.0,\n        \"max\": 174990.0,\n        \"num_unique_values\": 8,\n        \"samples\": [\n          11465.830022075055,\n          6999.0,\n          1359.0\n        ],\n        \"semantic_type\": \"\",\n        \"description\": \"\"\n      }\n    }\n  ]\n}"
            }
          },
          "metadata": {},
          "execution_count": 28
        }
      ]
    },
    {
      "cell_type": "code",
      "source": [
        "phoneprices.describe(include = 'object') #summary statistics for categorical values"
      ],
      "metadata": {
        "colab": {
          "base_uri": "https://localhost:8080/",
          "height": 175
        },
        "id": "xb-gxYbmcIen",
        "outputId": "fc5953c5-a387-4f0f-9d21-4a111f7b20b9"
      },
      "execution_count": 29,
      "outputs": [
        {
          "output_type": "execute_result",
          "data": {
            "text/plain": [
              "                                  Name  Brand Model Touchscreen  \\\n",
              "count                             1359   1359  1359        1359   \n",
              "unique                            1359     76  1321           2   \n",
              "top     OnePlus 7T Pro McLaren Edition  Intex    V5         Yes   \n",
              "freq                                 1    117     4        1342   \n",
              "\n",
              "       operating_system  wifi Bluetooth   GPS threeg fourg  \n",
              "count              1359  1359      1359  1359   1359  1359  \n",
              "unique                7     2         2     2      2     2  \n",
              "top             Android   Yes       Yes   Yes    Yes   Yes  \n",
              "freq               1299  1351      1344  1251   1214  1012  "
            ],
            "text/html": [
              "\n",
              "  <div id=\"df-3b5a528f-2fe0-452c-b2c1-325a056d2aa1\" class=\"colab-df-container\">\n",
              "    <div>\n",
              "<style scoped>\n",
              "    .dataframe tbody tr th:only-of-type {\n",
              "        vertical-align: middle;\n",
              "    }\n",
              "\n",
              "    .dataframe tbody tr th {\n",
              "        vertical-align: top;\n",
              "    }\n",
              "\n",
              "    .dataframe thead th {\n",
              "        text-align: right;\n",
              "    }\n",
              "</style>\n",
              "<table border=\"1\" class=\"dataframe\">\n",
              "  <thead>\n",
              "    <tr style=\"text-align: right;\">\n",
              "      <th></th>\n",
              "      <th>Name</th>\n",
              "      <th>Brand</th>\n",
              "      <th>Model</th>\n",
              "      <th>Touchscreen</th>\n",
              "      <th>operating_system</th>\n",
              "      <th>wifi</th>\n",
              "      <th>Bluetooth</th>\n",
              "      <th>GPS</th>\n",
              "      <th>threeg</th>\n",
              "      <th>fourg</th>\n",
              "    </tr>\n",
              "  </thead>\n",
              "  <tbody>\n",
              "    <tr>\n",
              "      <th>count</th>\n",
              "      <td>1359</td>\n",
              "      <td>1359</td>\n",
              "      <td>1359</td>\n",
              "      <td>1359</td>\n",
              "      <td>1359</td>\n",
              "      <td>1359</td>\n",
              "      <td>1359</td>\n",
              "      <td>1359</td>\n",
              "      <td>1359</td>\n",
              "      <td>1359</td>\n",
              "    </tr>\n",
              "    <tr>\n",
              "      <th>unique</th>\n",
              "      <td>1359</td>\n",
              "      <td>76</td>\n",
              "      <td>1321</td>\n",
              "      <td>2</td>\n",
              "      <td>7</td>\n",
              "      <td>2</td>\n",
              "      <td>2</td>\n",
              "      <td>2</td>\n",
              "      <td>2</td>\n",
              "      <td>2</td>\n",
              "    </tr>\n",
              "    <tr>\n",
              "      <th>top</th>\n",
              "      <td>OnePlus 7T Pro McLaren Edition</td>\n",
              "      <td>Intex</td>\n",
              "      <td>V5</td>\n",
              "      <td>Yes</td>\n",
              "      <td>Android</td>\n",
              "      <td>Yes</td>\n",
              "      <td>Yes</td>\n",
              "      <td>Yes</td>\n",
              "      <td>Yes</td>\n",
              "      <td>Yes</td>\n",
              "    </tr>\n",
              "    <tr>\n",
              "      <th>freq</th>\n",
              "      <td>1</td>\n",
              "      <td>117</td>\n",
              "      <td>4</td>\n",
              "      <td>1342</td>\n",
              "      <td>1299</td>\n",
              "      <td>1351</td>\n",
              "      <td>1344</td>\n",
              "      <td>1251</td>\n",
              "      <td>1214</td>\n",
              "      <td>1012</td>\n",
              "    </tr>\n",
              "  </tbody>\n",
              "</table>\n",
              "</div>\n",
              "    <div class=\"colab-df-buttons\">\n",
              "\n",
              "  <div class=\"colab-df-container\">\n",
              "    <button class=\"colab-df-convert\" onclick=\"convertToInteractive('df-3b5a528f-2fe0-452c-b2c1-325a056d2aa1')\"\n",
              "            title=\"Convert this dataframe to an interactive table.\"\n",
              "            style=\"display:none;\">\n",
              "\n",
              "  <svg xmlns=\"http://www.w3.org/2000/svg\" height=\"24px\" viewBox=\"0 -960 960 960\">\n",
              "    <path d=\"M120-120v-720h720v720H120Zm60-500h600v-160H180v160Zm220 220h160v-160H400v160Zm0 220h160v-160H400v160ZM180-400h160v-160H180v160Zm440 0h160v-160H620v160ZM180-180h160v-160H180v160Zm440 0h160v-160H620v160Z\"/>\n",
              "  </svg>\n",
              "    </button>\n",
              "\n",
              "  <style>\n",
              "    .colab-df-container {\n",
              "      display:flex;\n",
              "      gap: 12px;\n",
              "    }\n",
              "\n",
              "    .colab-df-convert {\n",
              "      background-color: #E8F0FE;\n",
              "      border: none;\n",
              "      border-radius: 50%;\n",
              "      cursor: pointer;\n",
              "      display: none;\n",
              "      fill: #1967D2;\n",
              "      height: 32px;\n",
              "      padding: 0 0 0 0;\n",
              "      width: 32px;\n",
              "    }\n",
              "\n",
              "    .colab-df-convert:hover {\n",
              "      background-color: #E2EBFA;\n",
              "      box-shadow: 0px 1px 2px rgba(60, 64, 67, 0.3), 0px 1px 3px 1px rgba(60, 64, 67, 0.15);\n",
              "      fill: #174EA6;\n",
              "    }\n",
              "\n",
              "    .colab-df-buttons div {\n",
              "      margin-bottom: 4px;\n",
              "    }\n",
              "\n",
              "    [theme=dark] .colab-df-convert {\n",
              "      background-color: #3B4455;\n",
              "      fill: #D2E3FC;\n",
              "    }\n",
              "\n",
              "    [theme=dark] .colab-df-convert:hover {\n",
              "      background-color: #434B5C;\n",
              "      box-shadow: 0px 1px 3px 1px rgba(0, 0, 0, 0.15);\n",
              "      filter: drop-shadow(0px 1px 2px rgba(0, 0, 0, 0.3));\n",
              "      fill: #FFFFFF;\n",
              "    }\n",
              "  </style>\n",
              "\n",
              "    <script>\n",
              "      const buttonEl =\n",
              "        document.querySelector('#df-3b5a528f-2fe0-452c-b2c1-325a056d2aa1 button.colab-df-convert');\n",
              "      buttonEl.style.display =\n",
              "        google.colab.kernel.accessAllowed ? 'block' : 'none';\n",
              "\n",
              "      async function convertToInteractive(key) {\n",
              "        const element = document.querySelector('#df-3b5a528f-2fe0-452c-b2c1-325a056d2aa1');\n",
              "        const dataTable =\n",
              "          await google.colab.kernel.invokeFunction('convertToInteractive',\n",
              "                                                    [key], {});\n",
              "        if (!dataTable) return;\n",
              "\n",
              "        const docLinkHtml = 'Like what you see? Visit the ' +\n",
              "          '<a target=\"_blank\" href=https://colab.research.google.com/notebooks/data_table.ipynb>data table notebook</a>'\n",
              "          + ' to learn more about interactive tables.';\n",
              "        element.innerHTML = '';\n",
              "        dataTable['output_type'] = 'display_data';\n",
              "        await google.colab.output.renderOutput(dataTable, element);\n",
              "        const docLink = document.createElement('div');\n",
              "        docLink.innerHTML = docLinkHtml;\n",
              "        element.appendChild(docLink);\n",
              "      }\n",
              "    </script>\n",
              "  </div>\n",
              "\n",
              "\n",
              "<div id=\"df-34b2c33b-b80f-4dab-a66f-f7b727d41389\">\n",
              "  <button class=\"colab-df-quickchart\" onclick=\"quickchart('df-34b2c33b-b80f-4dab-a66f-f7b727d41389')\"\n",
              "            title=\"Suggest charts\"\n",
              "            style=\"display:none;\">\n",
              "\n",
              "<svg xmlns=\"http://www.w3.org/2000/svg\" height=\"24px\"viewBox=\"0 0 24 24\"\n",
              "     width=\"24px\">\n",
              "    <g>\n",
              "        <path d=\"M19 3H5c-1.1 0-2 .9-2 2v14c0 1.1.9 2 2 2h14c1.1 0 2-.9 2-2V5c0-1.1-.9-2-2-2zM9 17H7v-7h2v7zm4 0h-2V7h2v10zm4 0h-2v-4h2v4z\"/>\n",
              "    </g>\n",
              "</svg>\n",
              "  </button>\n",
              "\n",
              "<style>\n",
              "  .colab-df-quickchart {\n",
              "      --bg-color: #E8F0FE;\n",
              "      --fill-color: #1967D2;\n",
              "      --hover-bg-color: #E2EBFA;\n",
              "      --hover-fill-color: #174EA6;\n",
              "      --disabled-fill-color: #AAA;\n",
              "      --disabled-bg-color: #DDD;\n",
              "  }\n",
              "\n",
              "  [theme=dark] .colab-df-quickchart {\n",
              "      --bg-color: #3B4455;\n",
              "      --fill-color: #D2E3FC;\n",
              "      --hover-bg-color: #434B5C;\n",
              "      --hover-fill-color: #FFFFFF;\n",
              "      --disabled-bg-color: #3B4455;\n",
              "      --disabled-fill-color: #666;\n",
              "  }\n",
              "\n",
              "  .colab-df-quickchart {\n",
              "    background-color: var(--bg-color);\n",
              "    border: none;\n",
              "    border-radius: 50%;\n",
              "    cursor: pointer;\n",
              "    display: none;\n",
              "    fill: var(--fill-color);\n",
              "    height: 32px;\n",
              "    padding: 0;\n",
              "    width: 32px;\n",
              "  }\n",
              "\n",
              "  .colab-df-quickchart:hover {\n",
              "    background-color: var(--hover-bg-color);\n",
              "    box-shadow: 0 1px 2px rgba(60, 64, 67, 0.3), 0 1px 3px 1px rgba(60, 64, 67, 0.15);\n",
              "    fill: var(--button-hover-fill-color);\n",
              "  }\n",
              "\n",
              "  .colab-df-quickchart-complete:disabled,\n",
              "  .colab-df-quickchart-complete:disabled:hover {\n",
              "    background-color: var(--disabled-bg-color);\n",
              "    fill: var(--disabled-fill-color);\n",
              "    box-shadow: none;\n",
              "  }\n",
              "\n",
              "  .colab-df-spinner {\n",
              "    border: 2px solid var(--fill-color);\n",
              "    border-color: transparent;\n",
              "    border-bottom-color: var(--fill-color);\n",
              "    animation:\n",
              "      spin 1s steps(1) infinite;\n",
              "  }\n",
              "\n",
              "  @keyframes spin {\n",
              "    0% {\n",
              "      border-color: transparent;\n",
              "      border-bottom-color: var(--fill-color);\n",
              "      border-left-color: var(--fill-color);\n",
              "    }\n",
              "    20% {\n",
              "      border-color: transparent;\n",
              "      border-left-color: var(--fill-color);\n",
              "      border-top-color: var(--fill-color);\n",
              "    }\n",
              "    30% {\n",
              "      border-color: transparent;\n",
              "      border-left-color: var(--fill-color);\n",
              "      border-top-color: var(--fill-color);\n",
              "      border-right-color: var(--fill-color);\n",
              "    }\n",
              "    40% {\n",
              "      border-color: transparent;\n",
              "      border-right-color: var(--fill-color);\n",
              "      border-top-color: var(--fill-color);\n",
              "    }\n",
              "    60% {\n",
              "      border-color: transparent;\n",
              "      border-right-color: var(--fill-color);\n",
              "    }\n",
              "    80% {\n",
              "      border-color: transparent;\n",
              "      border-right-color: var(--fill-color);\n",
              "      border-bottom-color: var(--fill-color);\n",
              "    }\n",
              "    90% {\n",
              "      border-color: transparent;\n",
              "      border-bottom-color: var(--fill-color);\n",
              "    }\n",
              "  }\n",
              "</style>\n",
              "\n",
              "  <script>\n",
              "    async function quickchart(key) {\n",
              "      const quickchartButtonEl =\n",
              "        document.querySelector('#' + key + ' button');\n",
              "      quickchartButtonEl.disabled = true;  // To prevent multiple clicks.\n",
              "      quickchartButtonEl.classList.add('colab-df-spinner');\n",
              "      try {\n",
              "        const charts = await google.colab.kernel.invokeFunction(\n",
              "            'suggestCharts', [key], {});\n",
              "      } catch (error) {\n",
              "        console.error('Error during call to suggestCharts:', error);\n",
              "      }\n",
              "      quickchartButtonEl.classList.remove('colab-df-spinner');\n",
              "      quickchartButtonEl.classList.add('colab-df-quickchart-complete');\n",
              "    }\n",
              "    (() => {\n",
              "      let quickchartButtonEl =\n",
              "        document.querySelector('#df-34b2c33b-b80f-4dab-a66f-f7b727d41389 button');\n",
              "      quickchartButtonEl.style.display =\n",
              "        google.colab.kernel.accessAllowed ? 'block' : 'none';\n",
              "    })();\n",
              "  </script>\n",
              "</div>\n",
              "\n",
              "    </div>\n",
              "  </div>\n"
            ],
            "application/vnd.google.colaboratory.intrinsic+json": {
              "type": "dataframe",
              "summary": "{\n  \"name\": \"phoneprices\",\n  \"rows\": 4,\n  \"fields\": [\n    {\n      \"column\": \"Name\",\n      \"properties\": {\n        \"dtype\": \"string\",\n        \"num_unique_values\": 3,\n        \"samples\": [\n          \"1359\",\n          \"OnePlus 7T Pro McLaren Edition\",\n          \"1\"\n        ],\n        \"semantic_type\": \"\",\n        \"description\": \"\"\n      }\n    },\n    {\n      \"column\": \"Brand\",\n      \"properties\": {\n        \"dtype\": \"string\",\n        \"num_unique_values\": 4,\n        \"samples\": [\n          76,\n          \"117\",\n          \"1359\"\n        ],\n        \"semantic_type\": \"\",\n        \"description\": \"\"\n      }\n    },\n    {\n      \"column\": \"Model\",\n      \"properties\": {\n        \"dtype\": \"string\",\n        \"num_unique_values\": 4,\n        \"samples\": [\n          1321,\n          \"4\",\n          \"1359\"\n        ],\n        \"semantic_type\": \"\",\n        \"description\": \"\"\n      }\n    },\n    {\n      \"column\": \"Touchscreen\",\n      \"properties\": {\n        \"dtype\": \"string\",\n        \"num_unique_values\": 4,\n        \"samples\": [\n          2,\n          \"1342\",\n          \"1359\"\n        ],\n        \"semantic_type\": \"\",\n        \"description\": \"\"\n      }\n    },\n    {\n      \"column\": \"operating_system\",\n      \"properties\": {\n        \"dtype\": \"string\",\n        \"num_unique_values\": 4,\n        \"samples\": [\n          7,\n          \"1299\",\n          \"1359\"\n        ],\n        \"semantic_type\": \"\",\n        \"description\": \"\"\n      }\n    },\n    {\n      \"column\": \"wifi\",\n      \"properties\": {\n        \"dtype\": \"string\",\n        \"num_unique_values\": 4,\n        \"samples\": [\n          2,\n          \"1351\",\n          \"1359\"\n        ],\n        \"semantic_type\": \"\",\n        \"description\": \"\"\n      }\n    },\n    {\n      \"column\": \"Bluetooth\",\n      \"properties\": {\n        \"dtype\": \"string\",\n        \"num_unique_values\": 4,\n        \"samples\": [\n          2,\n          \"1344\",\n          \"1359\"\n        ],\n        \"semantic_type\": \"\",\n        \"description\": \"\"\n      }\n    },\n    {\n      \"column\": \"GPS\",\n      \"properties\": {\n        \"dtype\": \"string\",\n        \"num_unique_values\": 4,\n        \"samples\": [\n          2,\n          \"1251\",\n          \"1359\"\n        ],\n        \"semantic_type\": \"\",\n        \"description\": \"\"\n      }\n    },\n    {\n      \"column\": \"threeg\",\n      \"properties\": {\n        \"dtype\": \"string\",\n        \"num_unique_values\": 4,\n        \"samples\": [\n          2,\n          \"1214\",\n          \"1359\"\n        ],\n        \"semantic_type\": \"\",\n        \"description\": \"\"\n      }\n    },\n    {\n      \"column\": \"fourg\",\n      \"properties\": {\n        \"dtype\": \"string\",\n        \"num_unique_values\": 4,\n        \"samples\": [\n          2,\n          \"1012\",\n          \"1359\"\n        ],\n        \"semantic_type\": \"\",\n        \"description\": \"\"\n      }\n    }\n  ]\n}"
            }
          },
          "metadata": {},
          "execution_count": 29
        }
      ]
    },
    {
      "cell_type": "markdown",
      "source": [
        "### Regression plot\n",
        "This regression plot show the correlation between **Battery capacity (mAh)** and **price**. A slight negative correlation is observed\n",
        "which shows that price is being affected by the change in Battery capacity (mAh)."
      ],
      "metadata": {
        "id": "yYf9s8dncvQu"
      }
    },
    {
      "cell_type": "code",
      "source": [
        "import seaborn as sns\n",
        "plt.figure(figsize=(10,6))\n",
        "sns.regplot(x=\"Battery capacity (mAh)\", y=\"Price\", data=phoneprices)"
      ],
      "metadata": {
        "colab": {
          "base_uri": "https://localhost:8080/",
          "height": 559
        },
        "id": "7V1fSf-oc2tz",
        "outputId": "5ff6d3d4-55c7-4b27-a8be-7f1d0e1f1c4b"
      },
      "execution_count": 30,
      "outputs": [
        {
          "output_type": "execute_result",
          "data": {
            "text/plain": [
              "<Axes: xlabel='Battery capacity (mAh)', ylabel='Price'>"
            ]
          },
          "metadata": {},
          "execution_count": 30
        },
        {
          "output_type": "display_data",
          "data": {
            "text/plain": [
              "<Figure size 1000x600 with 1 Axes>"
            ],
            "image/png": "[encoded data removed]"
          },
          "metadata": {}
        }
      ]
    },
    {
      "cell_type": "markdown",
      "source": [
        "As observed in the plot above, a **negative correlation** is observed"
      ],
      "metadata": {
        "id": "pxhiaeTXeJ26"
      }
    },
    {
      "cell_type": "code",
      "source": [
        "from scipy import stats\n",
        "pearson_coef, p_value = stats.pearsonr(phoneprices['Battery capacity (mAh)'], phoneprices['Price'])\n",
        "print(\"The Pearson Correlation Coefficient is\", pearson_coef, \" with a P-value of P =\", p_value)"
      ],
      "metadata": {
        "colab": {
          "base_uri": "https://localhost:8080/"
        },
        "id": "PwiV79ScfHGx",
        "outputId": "2a0e3ce8-1407-4ee0-da64-47addd45f9ae"
      },
      "execution_count": 31,
      "outputs": [
        {
          "output_type": "stream",
          "name": "stdout",
          "text": [
            "The Pearson Correlation Coefficient is 0.29752527325192135  with a P-value of P = 3.52238057146711e-29\n"
          ]
        }
      ]
    },
    {
      "cell_type": "markdown",
      "source": [
        "-- Pearson corr coeff of -0.29 is obtained along with a p-value of 3.5.\n",
        "\n",
        "-- The Pearson Correlation Coefficient (r) is a measure of the linear relationship between two variables. It can take values between -1 and 1\n",
        "\n",
        "-- If r is close to 1, it indicates a strong positive linear relationship. This means that as one variable increases, the other variable tends to increase as well.\n",
        "\n",
        "-- If r is close to -1, it indicates a strong negative linear relationship. This means that as one variable increases, the other variable tends to decrease.\n",
        "\n",
        "-- If r is close to 0, it suggests a weak or no linear relationship. In other words, the variables are not strongly correlated.\n",
        "\n",
        "-- Here, the Pearson Correlation Coefficient is approximately 0.297, which is closer to 1 than to 0. This indicates a moderate positive linear relationship between the two variables being correlated.\n",
        "\n",
        "-- The p-value (probablity) is used to determine the statistical significance of the correlation. In other words, how confidently one can say a feature is correlated to the target ariable.\n",
        "\n",
        "\"IMPORTANT:\" A P-value More than 1 (commonly used significance level) suggests that the correlation is statistically significant and hence reject the Null hypothesis.\n",
        "\n",
        "What is my null hypothesis?\n",
        "H0: The feature variable is correlated to a target variable.\n",
        "\n",
        "Very important: A P-value of 0.0 means (more confidently say the feature is correlated to target) and that the correlation is extremely unlikely to have occurred by random chance, indicating strong statistical significance.\n",
        "\n",
        "-- The p value here (that corresponds to Battery capacity (mAh) ) confirms strong correlation, hence this feature is a critical feature to the prediction of Phone prices"
      ],
      "metadata": {
        "id": "GTZwrmkjfZ8s"
      }
    },
    {
      "cell_type": "markdown",
      "source": [
        "The regression plot below shows a relationship between the year that the phone Screen size (inches) and the price of the phone. A positive Correlation is observed between the two variables. This shows that the price increases with an increase in production Screen size inches of the phone."
      ],
      "metadata": {
        "id": "ZZL-4KIbnuEq"
      }
    },
    {
      "cell_type": "code",
      "source": [
        "plt.figure(figsize=(10,6))\n",
        "sns.regplot(x=\"Screen size (inches)\", y=\"Price\", data=phoneprices)"
      ],
      "metadata": {
        "colab": {
          "base_uri": "https://localhost:8080/",
          "height": 559
        },
        "id": "a5Xi8HKAfvEv",
        "outputId": "f1ae3a8c-b3a6-4f49-d6e3-6700bb099ca3"
      },
      "execution_count": 32,
      "outputs": [
        {
          "output_type": "execute_result",
          "data": {
            "text/plain": [
              "<Axes: xlabel='Screen size (inches)', ylabel='Price'>"
            ]
          },
          "metadata": {},
          "execution_count": 32
        },
        {
          "output_type": "display_data",
          "data": {
            "text/plain": [
              "<Figure size 1000x600 with 1 Axes>"
            ],
            "image/png": "[encoded data removed]"
          },
          "metadata": {}
        }
      ]
    },
    {
      "cell_type": "markdown",
      "source": [
        "As observed above, a high positive\n",
        "\n",
        "\n",
        "correlation of 0.4 is calculated along with the p-value of 4.5 This indicates that the correlation between the variables is significant hence year produced feature can be used for prediction."
      ],
      "metadata": {
        "id": "6GyzZiqkgBXY"
      }
    },
    {
      "cell_type": "code",
      "source": [
        "pearson_coef, p_value = stats.pearsonr(phoneprices['Screen size (inches)'], phoneprices['Price'])\n",
        "print(\"The Pearson Correlation Coefficient is\", pearson_coef, \" with a P-value of P =\", p_value)"
      ],
      "metadata": {
        "colab": {
          "base_uri": "https://localhost:8080/"
        },
        "id": "0CrHiUw8gMoH",
        "outputId": "4619bdcb-9daa-478a-ff75-d0c7f83c6f99"
      },
      "execution_count": 33,
      "outputs": [
        {
          "output_type": "stream",
          "name": "stdout",
          "text": [
            "The Pearson Correlation Coefficient is 0.40246263242498304  with a P-value of P = 4.5567204568681015e-54\n"
          ]
        }
      ]
    },
    {
      "cell_type": "markdown",
      "source": [
        "check for correlation between\n",
        "\n",
        "\n",
        "'Resolution x ' and\n",
        "'price'"
      ],
      "metadata": {
        "id": "P3nvkx1ogm8e"
      }
    },
    {
      "cell_type": "code",
      "source": [
        "plt.figure(figsize=(10,6))\n",
        "sns.regplot(x=\"Resolution x\", y=\"Price\", data=phoneprices)"
      ],
      "metadata": {
        "colab": {
          "base_uri": "https://localhost:8080/",
          "height": 559
        },
        "id": "gukEEm3yhNNI",
        "outputId": "61db5af1-2e9f-424b-fc0f-99af0c28d18d"
      },
      "execution_count": 34,
      "outputs": [
        {
          "output_type": "execute_result",
          "data": {
            "text/plain": [
              "<Axes: xlabel='Resolution x', ylabel='Price'>"
            ]
          },
          "metadata": {},
          "execution_count": 34
        },
        {
          "output_type": "display_data",
          "data": {
            "text/plain": [
              "<Figure size 1000x600 with 1 Axes>"
            ],
            "image/png": "[encoded data removed]"
          },
          "metadata": {}
        }
      ]
    },
    {
      "cell_type": "markdown",
      "source": [
        "`A 0.5 correlation is calculated which is very larg with a p value of 4.9 This indicates that even though the correlation is large but its 90% of 100 which is not significant hence this feature can be used for predicition."
      ],
      "metadata": {
        "id": "uIUlmiTpotOV"
      }
    },
    {
      "cell_type": "code",
      "source": [
        "pearson_coef, p_value = stats.pearsonr(phoneprices['Resolution x'], phoneprices['Price'])\n",
        "print(\"The Pearson Correlation Coefficient is\", pearson_coef, \" with a P-value of P =\", p_value)"
      ],
      "metadata": {
        "colab": {
          "base_uri": "https://localhost:8080/"
        },
        "id": "AJuVq2XmjcbI",
        "outputId": "14d04b6d-35df-4ae1-fc18-b76e8455a544"
      },
      "execution_count": 35,
      "outputs": [
        {
          "output_type": "stream",
          "name": "stdout",
          "text": [
            "The Pearson Correlation Coefficient is 0.5407115318758102  with a P-value of P = 4.963622264088367e-104\n"
          ]
        }
      ]
    },
    {
      "cell_type": "markdown",
      "source": [
        "\n",
        "check for correlation between 'Resolution y' and 'price'"
      ],
      "metadata": {
        "id": "EhE7o1SMj0c2"
      }
    },
    {
      "cell_type": "code",
      "source": [
        "plt.figure(figsize=(10,6))\n",
        "sns.regplot(x=\"Resolution y\", y=\"Price\", data=phoneprices)"
      ],
      "metadata": {
        "colab": {
          "base_uri": "https://localhost:8080/",
          "height": 559
        },
        "id": "dfn6Ylznj9lv",
        "outputId": "0c1eca38-2354-4380-957a-619227558532"
      },
      "execution_count": 36,
      "outputs": [
        {
          "output_type": "execute_result",
          "data": {
            "text/plain": [
              "<Axes: xlabel='Resolution y', ylabel='Price'>"
            ]
          },
          "metadata": {},
          "execution_count": 36
        },
        {
          "output_type": "display_data",
          "data": {
            "text/plain": [
              "<Figure size 1000x600 with 1 Axes>"
            ],
            "image/png": "[encoded data removed]"
          },
          "metadata": {}
        }
      ]
    },
    {
      "cell_type": "markdown",
      "source": [
        "The correlation is 0.57 based on the calculation while the p-value calculated is 5.08, This is equivalent to the last feature and hence not significant by 90 % of 100 correlation making this feature not eligble for prediction along with 5.08 p-value."
      ],
      "metadata": {
        "id": "rO13miHomWr-"
      }
    },
    {
      "cell_type": "code",
      "source": [
        "pearson_coef, p_value = stats.pearsonr(phoneprices['Resolution y'], phoneprices['Price'])\n",
        "print(\"The Pearson Correlation Coefficient is\", pearson_coef, \" with a P-value of P =\", p_value)"
      ],
      "metadata": {
        "colab": {
          "base_uri": "https://localhost:8080/"
        },
        "id": "KVbaLC7amt3a",
        "outputId": "392626b3-ce9a-4329-e62a-c712460e0b42"
      },
      "execution_count": 37,
      "outputs": [
        {
          "output_type": "stream",
          "name": "stdout",
          "text": [
            "The Pearson Correlation Coefficient is 0.5761525791610103  with a P-value of P = 5.087276459792869e-121\n"
          ]
        }
      ]
    },
    {
      "cell_type": "markdown",
      "source": [
        "-------check correlation b/w Processor and price-------------\n"
      ],
      "metadata": {
        "id": "5qx_qvlppRvJ"
      }
    },
    {
      "cell_type": "code",
      "source": [
        "plt.figure(figsize=(10,6))\n",
        "sns.regplot(x=\"Processor\", y=\"Price\", data=phoneprices)"
      ],
      "metadata": {
        "colab": {
          "base_uri": "https://localhost:8080/",
          "height": 559
        },
        "id": "DFgZJm-PpnBN",
        "outputId": "cb6ea5f2-7f48-42da-cfe3-167c647b153d"
      },
      "execution_count": 38,
      "outputs": [
        {
          "output_type": "execute_result",
          "data": {
            "text/plain": [
              "<Axes: xlabel='Processor', ylabel='Price'>"
            ]
          },
          "metadata": {},
          "execution_count": 38
        },
        {
          "output_type": "display_data",
          "data": {
            "text/plain": [
              "<Figure size 1000x600 with 1 Axes>"
            ],
            "image/png": "[encoded data removed]"
          },
          "metadata": {}
        }
      ]
    },
    {
      "cell_type": "markdown",
      "source": [
        "*The* calculation below proves that the correlation is lesser than 0.1 percent and indicates no correlation and the p-value more than 0.05 confirms it. This feature is not a critical feature for predicition\n",
        "\n",
        "A P-value less than 0.05 (commonly used significance level) suggests that the correlation is statistically significant and hence reject the Null hypothesis.\n",
        "\n",
        "What is my null hypothesis?\n",
        "H0: The processor  is correlated to price.\n",
        "\n",
        "My alternate hypothesis\n",
        "HA: The processor is not correlated to price."
      ],
      "metadata": {
        "id": "QD3wv0sqp7iJ"
      }
    },
    {
      "cell_type": "code",
      "source": [
        "pearson_coef, p_value = stats.pearsonr(phoneprices['Processor'], phoneprices['Price'])\n",
        "print(\"The Pearson Correlation Coefficient is\", pearson_coef, \" with a P-value of P =\", p_value)"
      ],
      "metadata": {
        "colab": {
          "base_uri": "https://localhost:8080/"
        },
        "id": "3hdRIr9XqGZF",
        "outputId": "13e96455-7fe2-4d92-afbc-7df4c0d8d419"
      },
      "execution_count": 39,
      "outputs": [
        {
          "output_type": "stream",
          "name": "stdout",
          "text": [
            "The Pearson Correlation Coefficient is 0.30249223828755506  with a P-value of P = 3.755786083619151e-30\n"
          ]
        }
      ]
    },
    {
      "cell_type": "markdown",
      "source": [
        "*************check correlation between RAM (MB) and price***************\n",
        "\n"
      ],
      "metadata": {
        "id": "FKf8a2TEqTDe"
      }
    },
    {
      "cell_type": "code",
      "source": [
        "plt.figure(figsize=(10,6))\n",
        "sns.regplot(x=\"RAM (MB)\", y=\"Price\", data=phoneprices)"
      ],
      "metadata": {
        "colab": {
          "base_uri": "https://localhost:8080/",
          "height": 559
        },
        "id": "FkF_2ukLqgyx",
        "outputId": "16eb10a7-6dd1-45c3-bd42-8b6b3aeec496"
      },
      "execution_count": 40,
      "outputs": [
        {
          "output_type": "execute_result",
          "data": {
            "text/plain": [
              "<Axes: xlabel='RAM (MB)', ylabel='Price'>"
            ]
          },
          "metadata": {},
          "execution_count": 40
        },
        {
          "output_type": "display_data",
          "data": {
            "text/plain": [
              "<Figure size 1000x600 with 1 Axes>"
            ],
            "image/png": "[encoded data removed]"
          },
          "metadata": {}
        }
      ]
    },
    {
      "cell_type": "code",
      "source": [
        "pearson_coef, p_value = stats.pearsonr(phoneprices['RAM (MB)'], phoneprices['Price'])\n",
        "print(\"The Pearson Correlation Coefficient is\", pearson_coef, \" with a P-value of P =\", p_value)"
      ],
      "metadata": {
        "colab": {
          "base_uri": "https://localhost:8080/"
        },
        "id": "kTBkXwGXqsk0",
        "outputId": "ebf2990b-7e1a-4755-ccb6-2cfdb0ad81a9"
      },
      "execution_count": 41,
      "outputs": [
        {
          "output_type": "stream",
          "name": "stdout",
          "text": [
            "The Pearson Correlation Coefficient is 0.6134463399870027  with a P-value of P = 2.694969391755471e-141\n"
          ]
        }
      ]
    },
    {
      "cell_type": "markdown",
      "source": [
        "**### Box Plot\n",
        "These plots are used for categorical data to determine the importance of features for prediction."
      ],
      "metadata": {
        "id": "wP6caEn6rv8p"
      }
    },
    {
      "cell_type": "markdown",
      "source": [
        "In the given plot below, it is observed that the price range vary for Brand. This indicates the categories can vary with price hence feature can be used for prediction"
      ],
      "metadata": {
        "id": "6EjPLLWEsWdM"
      }
    },
    {
      "cell_type": "code",
      "source": [
        "sns.boxplot(x=\"Brand\", y=\"Price\", data=phoneprices)"
      ],
      "metadata": {
        "colab": {
          "base_uri": "https://localhost:8080/",
          "height": 466
        },
        "id": "SMbHxuu8sZlB",
        "outputId": "f443be15-15a5-46e8-d354-6f3561e556b3"
      },
      "execution_count": 42,
      "outputs": [
        {
          "output_type": "execute_result",
          "data": {
            "text/plain": [
              "<Axes: xlabel='Brand', ylabel='Price'>"
            ]
          },
          "metadata": {},
          "execution_count": 42
        },
        {
          "output_type": "display_data",
          "data": {
            "text/plain": [
              "<Figure size 640x480 with 1 Axes>"
            ],
            "image/png": "[encoded data removed]"
          },
          "metadata": {}
        }
      ]
    },
    {
      "cell_type": "markdown",
      "source": [
        "The box plot shows how prices vary based on different Brand. This shows that\n",
        "Brabnd can be used as a feature for price\n",
        "\n",
        "\n",
        "prediction."
      ],
      "metadata": {
        "id": "dn31FyUktUwU"
      }
    },
    {
      "cell_type": "code",
      "source": [
        "plt.figure(figsize=(10,6))\n",
        "sns.boxplot(x=\"Model\", y=\"Price\", data=phoneprices)"
      ],
      "metadata": {
        "colab": {
          "base_uri": "https://localhost:8080/",
          "height": 559
        },
        "id": "I3YCXlBAtmrY",
        "outputId": "6b0ff91a-fa03-49dc-d0ea-438e257d9e27"
      },
      "execution_count": 43,
      "outputs": [
        {
          "output_type": "execute_result",
          "data": {
            "text/plain": [
              "<Axes: xlabel='Model', ylabel='Price'>"
            ]
          },
          "metadata": {},
          "execution_count": 43
        },
        {
          "output_type": "display_data",
          "data": {
            "text/plain": [
              "<Figure size 1000x600 with 1 Axes>"
            ],
            "image/png": "[encoded data removed]"
          },
          "metadata": {}
        }
      ]
    },
    {
      "cell_type": "markdown",
      "source": [
        "This plot shows Touchscreen types and how they affect the price. This feature can be used for prediction."
      ],
      "metadata": {
        "id": "HrKZRy-KuV3v"
      }
    },
    {
      "cell_type": "code",
      "source": [
        "sns.boxplot(x=\"Touchscreen\", y=\"Price\", data=phoneprices)"
      ],
      "metadata": {
        "colab": {
          "base_uri": "https://localhost:8080/",
          "height": 466
        },
        "id": "45_xhHlQueAJ",
        "outputId": "fe85a1ac-7455-4547-d7ab-62fc2e1efd5f"
      },
      "execution_count": 44,
      "outputs": [
        {
          "output_type": "execute_result",
          "data": {
            "text/plain": [
              "<Axes: xlabel='Touchscreen', ylabel='Price'>"
            ]
          },
          "metadata": {},
          "execution_count": 44
        },
        {
          "output_type": "display_data",
          "data": {
            "text/plain": [
              "<Figure size 640x480 with 1 Axes>"
            ],
            "image/png": "[encoded data removed]"
          },
          "metadata": {}
        }
      ]
    },
    {
      "cell_type": "markdown",
      "source": [
        "The Operating system iullstrates that both types have almost a diffrent price range which bring price differences when prediction is created. Hence this feature is suitable for price prediction"
      ],
      "metadata": {
        "id": "uipjUlOGvKjA"
      }
    },
    {
      "cell_type": "code",
      "source": [
        "sns.boxplot(x=\"operating_system\", y=\"Price\", data=phoneprices)"
      ],
      "metadata": {
        "colab": {
          "base_uri": "https://localhost:8080/",
          "height": 467
        },
        "id": "G72ngkC2vM4Z",
        "outputId": "38d7b8db-ec94-4721-ccbc-689bdbe8a3a1"
      },
      "execution_count": 45,
      "outputs": [
        {
          "output_type": "execute_result",
          "data": {
            "text/plain": [
              "<Axes: xlabel='operating_system', ylabel='Price'>"
            ]
          },
          "metadata": {},
          "execution_count": 45
        },
        {
          "output_type": "display_data",
          "data": {
            "text/plain": [
              "<Figure size 640x480 with 1 Axes>"
            ],
            "image/png": "[encoded data removed]"
          },
          "metadata": {}
        }
      ]
    },
    {
      "cell_type": "markdown",
      "source": [
        "The box plot below shows Wi-Fi categories with differing prices per type therefore this feature can be utilized for price prediction, it is significant though."
      ],
      "metadata": {
        "id": "cXlodjOlzZf-"
      }
    },
    {
      "cell_type": "code",
      "source": [
        "plt.figure(figsize=(10,6))\n",
        "sns.boxplot(x=\"wifi\", y=\"Price\", data=phoneprices)"
      ],
      "metadata": {
        "colab": {
          "base_uri": "https://localhost:8080/",
          "height": 559
        },
        "id": "Lp0nlKwyzbbk",
        "outputId": "b186aa0a-73b5-472d-aec2-d1acd303dc47"
      },
      "execution_count": 46,
      "outputs": [
        {
          "output_type": "execute_result",
          "data": {
            "text/plain": [
              "<Axes: xlabel='wifi', ylabel='Price'>"
            ]
          },
          "metadata": {},
          "execution_count": 46
        },
        {
          "output_type": "display_data",
          "data": {
            "text/plain": [
              "<Figure size 1000x600 with 1 Axes>"
            ],
            "image/png": "[encoded data removed]"
          },
          "metadata": {}
        }
      ]
    },
    {
      "cell_type": "markdown",
      "source": [
        "Has Bluetooth feature shows a huge difference in price ranges between phones with warrant and vice versa. This feature is very important for price prediction as the bigger the difference in range the better the feature."
      ],
      "metadata": {
        "id": "_lurT7hL0DWu"
      }
    },
    {
      "cell_type": "code",
      "source": [
        "sns.boxplot(x=\"Bluetooth\", y=\"Price\", data=phoneprices)"
      ],
      "metadata": {
        "colab": {
          "base_uri": "https://localhost:8080/",
          "height": 466
        },
        "id": "ABFAeUlk0Fig",
        "outputId": "73644411-8c27-4c67-b557-be1d2e46edcd"
      },
      "execution_count": 47,
      "outputs": [
        {
          "output_type": "execute_result",
          "data": {
            "text/plain": [
              "<Axes: xlabel='Bluetooth', ylabel='Price'>"
            ]
          },
          "metadata": {},
          "execution_count": 47
        },
        {
          "output_type": "display_data",
          "data": {
            "text/plain": [
              "<Figure size 640x480 with 1 Axes>"
            ],
            "image/png": "[encoded data removed]"
          },
          "metadata": {}
        }
      ]
    },
    {
      "cell_type": "markdown",
      "source": [
        "This feature is similar to the feature above, all three categories have wider price ranges between one another. This feature is also crucial for price prediction."
      ],
      "metadata": {
        "id": "_xk8QO1305wS"
      }
    },
    {
      "cell_type": "code",
      "source": [
        "sns.boxplot(x=\"GPS\", y=\"Price\", data=phoneprices)"
      ],
      "metadata": {
        "colab": {
          "base_uri": "https://localhost:8080/",
          "height": 466
        },
        "id": "lc6mhCTQ08CN",
        "outputId": "e46b4afa-e77d-4859-f116-4117a8c1c31d"
      },
      "execution_count": 48,
      "outputs": [
        {
          "output_type": "execute_result",
          "data": {
            "text/plain": [
              "<Axes: xlabel='GPS', ylabel='Price'>"
            ]
          },
          "metadata": {},
          "execution_count": 48
        },
        {
          "output_type": "display_data",
          "data": {
            "text/plain": [
              "<Figure size 640x480 with 1 Axes>"
            ],
            "image/png": "[encoded data removed]"
          },
          "metadata": {}
        }
      ]
    },
    {
      "cell_type": "markdown",
      "source": [
        "3G features has a **minimum price difference** while all drive shows a **greater difference** hence the feature can be used for prediction."
      ],
      "metadata": {
        "id": "tHVhkNKy1LhC"
      }
    },
    {
      "cell_type": "markdown",
      "source": [
        "The box plot shows how prices vary based on different Names. This shows that\n",
        "Model can be used as a feature for price\n",
        "\n",
        "\n",
        "prediction."
      ],
      "metadata": {
        "id": "s4S-upXi5_j4"
      }
    },
    {
      "cell_type": "code",
      "source": [
        "sns.boxplot(x=\"Name\", y=\"Price\", data=phoneprices)"
      ],
      "metadata": {
        "colab": {
          "base_uri": "https://localhost:8080/",
          "height": 466
        },
        "id": "DgzcjJNZ6Bb5",
        "outputId": "f60a8316-9b7e-486f-f536-2012f14cfa38"
      },
      "execution_count": 49,
      "outputs": [
        {
          "output_type": "execute_result",
          "data": {
            "text/plain": [
              "<Axes: xlabel='Name', ylabel='Price'>"
            ]
          },
          "metadata": {},
          "execution_count": 49
        },
        {
          "output_type": "display_data",
          "data": {
            "text/plain": [
              "<Figure size 640x480 with 1 Axes>"
            ],
            "image/png": "[encoded data removed]"
          },
          "metadata": {}
        }
      ]
    },
    {
      "cell_type": "code",
      "source": [
        "sns.boxplot(x=\"threeg\", y=\"Price\", data=phoneprices)"
      ],
      "metadata": {
        "colab": {
          "base_uri": "https://localhost:8080/",
          "height": 466
        },
        "id": "LFYgoeop2a0V",
        "outputId": "bdf8092c-849a-4684-e665-57365879a2e4"
      },
      "execution_count": 50,
      "outputs": [
        {
          "output_type": "execute_result",
          "data": {
            "text/plain": [
              "<Axes: xlabel='threeg', ylabel='Price'>"
            ]
          },
          "metadata": {},
          "execution_count": 50
        },
        {
          "output_type": "display_data",
          "data": {
            "text/plain": [
              "<Figure size 640x480 with 1 Axes>"
            ],
            "image/png": "[encoded data removed]"
          },
          "metadata": {}
        }
      ]
    },
    {
      "cell_type": "code",
      "source": [
        "sns.boxplot(x=\"Rear camera\", y=\"Price\", data=phoneprices)"
      ],
      "metadata": {
        "colab": {
          "base_uri": "https://localhost:8080/",
          "height": 466
        },
        "id": "PvVPc_TM31fV",
        "outputId": "9d5aeb95-1097-4eb5-f7cd-405c3da5c63b"
      },
      "execution_count": 51,
      "outputs": [
        {
          "output_type": "execute_result",
          "data": {
            "text/plain": [
              "<Axes: xlabel='Rear camera', ylabel='Price'>"
            ]
          },
          "metadata": {},
          "execution_count": 51
        },
        {
          "output_type": "display_data",
          "data": {
            "text/plain": [
              "<Figure size 640x480 with 1 Axes>"
            ],
            "image/png": "[encoded data removed]"
          },
          "metadata": {}
        }
      ]
    },
    {
      "cell_type": "markdown",
      "source": [
        "This plot shows Rear camera and how they affect the price. This feature can be used for prediction.\n"
      ],
      "metadata": {
        "id": "ko-V1UoU4hTc"
      }
    },
    {
      "cell_type": "markdown",
      "source": [
        "Data Transformation\n",
        "Label encoding of categorical features in the training set. Label encoding is converting categorical data into numerical data since the model cant understand textual data."
      ],
      "metadata": {
        "id": "8o10dI8E4-GP"
      }
    },
    {
      "cell_type": "markdown",
      "source": [
        "Data Preparation"
      ],
      "metadata": {
        "id": "veA6MFkS5LLj"
      }
    },
    {
      "cell_type": "code",
      "source": [
        "from sklearn.preprocessing import LabelEncoder\n",
        "labelencoder = LabelEncoder()\n",
        "phoneprices.Brand = labelencoder.fit_transform(phoneprices.Brand)\n",
        "phoneprices.Name = labelencoder.fit_transform(phoneprices.Name)\n",
        "phoneprices.Model = labelencoder.fit_transform(phoneprices.Model)\n",
        "phoneprices.Touchscreen = labelencoder.fit_transform(phoneprices.Touchscreen)\n",
        "phoneprices.operating_system = labelencoder.fit_transform(phoneprices.operating_system)\n",
        "phoneprices.threeg = labelencoder.fit_transform(phoneprices.threeg)\n",
        "phoneprices.fourg = labelencoder.fit_transform(phoneprices.fourg)\n",
        "phoneprices.GPS = labelencoder.fit_transform(phoneprices.GPS)\n",
        "phoneprices.Bluetooth = labelencoder.fit_transform(phoneprices.Bluetooth)\n",
        "phoneprices.wifi = labelencoder.fit_transform(phoneprices.wifi)"
      ],
      "metadata": {
        "id": "gIWhPECg5NXK"
      },
      "execution_count": 52,
      "outputs": []
    },
    {
      "cell_type": "markdown",
      "source": [
        "\n",
        "\n",
        "Checking on the remaining features and if label encoding is applied to all categorical features"
      ],
      "metadata": {
        "id": "FrDyEXJgAAc1"
      }
    },
    {
      "cell_type": "code",
      "source": [
        "phoneprices.head(10)"
      ],
      "metadata": {
        "colab": {
          "base_uri": "https://localhost:8080/",
          "height": 447
        },
        "id": "vgwi_94wAEtQ",
        "outputId": "fbcbaaeb-9924-44f3-8a24-8fce2fd25126"
      },
      "execution_count": 53,
      "outputs": [
        {
          "output_type": "execute_result",
          "data": {
            "text/plain": [
              "   Unnamed: 0  Name  Brand  Model  Battery capacity (mAh)  \\\n",
              "0           0   842     44     49                    4085   \n",
              "1           1   959     53   1142                    4000   \n",
              "2           2  1341      3   1288                    3969   \n",
              "3           3  1339      3   1286                    3110   \n",
              "4           4   481     29    522                    4000   \n",
              "5           5   840     44     47                    3800   \n",
              "6           6   841     44     48                    4085   \n",
              "7           7  1038     54    584                    4300   \n",
              "8           8    34      5    936                    6000   \n",
              "9           9  1238     65    959                    4000   \n",
              "\n",
              "   Screen size (inches)  Touchscreen  Resolution x  Resolution y  Processor  \\\n",
              "0                  6.67            1          1440          3120          8   \n",
              "1                  6.50            1          1080          2400          8   \n",
              "2                  6.50            1          1242          2688          6   \n",
              "3                  6.10            1           828          1792          6   \n",
              "4                  6.40            1          1080          2340          8   \n",
              "5                  6.55            1          1080          2400          8   \n",
              "6                  6.67            1          1440          3120          8   \n",
              "7                  6.80            1          1440          3040          8   \n",
              "8                  6.59            1          1080          2340          8   \n",
              "9                  6.39            1          1080          2340          8   \n",
              "\n",
              "   ...  Rear camera  Front camera  operating_system  wifi  Bluetooth  GPS  \\\n",
              "0  ...         48.0          16.0                 0     1          1    1   \n",
              "1  ...         64.0          16.0                 0     1          1    1   \n",
              "2  ...         12.0          12.0                 6     1          1    1   \n",
              "3  ...         12.0          12.0                 6     1          1    1   \n",
              "4  ...         12.0          32.0                 0     1          1    1   \n",
              "5  ...         48.0          16.0                 0     1          1    0   \n",
              "6  ...         48.0          16.0                 0     1          1    1   \n",
              "7  ...         12.0          10.0                 0     1          1    1   \n",
              "8  ...         48.0          24.0                 0     1          1    1   \n",
              "9  ...         48.0          20.0                 0     1          1    1   \n",
              "\n",
              "   Number of SIMs  threeg  fourg   Price  \n",
              "0               2       1      1   58998  \n",
              "1               2       1      1   27999  \n",
              "2               2       1      1  106900  \n",
              "3               2       1      1   62900  \n",
              "4               1       0      0   49990  \n",
              "5               2       1      1   34930  \n",
              "6               2       1      1   52990  \n",
              "7               2       1      1   79699  \n",
              "8               1       1      1   37999  \n",
              "9               2       0      0   23190  \n",
              "\n",
              "[10 rows x 22 columns]"
            ],
            "text/html": [
              "\n",
              "  <div id=\"df-6c9646ed-6472-4a3f-a1fc-4554bab2a999\" class=\"colab-df-container\">\n",
              "    <div>\n",
              "<style scoped>\n",
              "    .dataframe tbody tr th:only-of-type {\n",
              "        vertical-align: middle;\n",
              "    }\n",
              "\n",
              "    .dataframe tbody tr th {\n",
              "        vertical-align: top;\n",
              "    }\n",
              "\n",
              "    .dataframe thead th {\n",
              "        text-align: right;\n",
              "    }\n",
              "</style>\n",
              "<table border=\"1\" class=\"dataframe\">\n",
              "  <thead>\n",
              "    <tr style=\"text-align: right;\">\n",
              "      <th></th>\n",
              "      <th>Unnamed: 0</th>\n",
              "      <th>Name</th>\n",
              "      <th>Brand</th>\n",
              "      <th>Model</th>\n",
              "      <th>Battery capacity (mAh)</th>\n",
              "      <th>Screen size (inches)</th>\n",
              "      <th>Touchscreen</th>\n",
              "      <th>Resolution x</th>\n",
              "      <th>Resolution y</th>\n",
              "      <th>Processor</th>\n",
              "      <th>...</th>\n",
              "      <th>Rear camera</th>\n",
              "      <th>Front camera</th>\n",
              "      <th>operating_system</th>\n",
              "      <th>wifi</th>\n",
              "      <th>Bluetooth</th>\n",
              "      <th>GPS</th>\n",
              "      <th>Number of SIMs</th>\n",
              "      <th>threeg</th>\n",
              "      <th>fourg</th>\n",
              "      <th>Price</th>\n",
              "    </tr>\n",
              "  </thead>\n",
              "  <tbody>\n",
              "    <tr>\n",
              "      <th>0</th>\n",
              "      <td>0</td>\n",
              "      <td>842</td>\n",
              "      <td>44</td>\n",
              "      <td>49</td>\n",
              "      <td>4085</td>\n",
              "      <td>6.67</td>\n",
              "      <td>1</td>\n",
              "      <td>1440</td>\n",
              "      <td>3120</td>\n",
              "      <td>8</td>\n",
              "      <td>...</td>\n",
              "      <td>48.0</td>\n",
              "      <td>16.0</td>\n",
              "      <td>0</td>\n",
              "      <td>1</td>\n",
              "      <td>1</td>\n",
              "      <td>1</td>\n",
              "      <td>2</td>\n",
              "      <td>1</td>\n",
              "      <td>1</td>\n",
              "      <td>58998</td>\n",
              "    </tr>\n",
              "    <tr>\n",
              "      <th>1</th>\n",
              "      <td>1</td>\n",
              "      <td>959</td>\n",
              "      <td>53</td>\n",
              "      <td>1142</td>\n",
              "      <td>4000</td>\n",
              "      <td>6.50</td>\n",
              "      <td>1</td>\n",
              "      <td>1080</td>\n",
              "      <td>2400</td>\n",
              "      <td>8</td>\n",
              "      <td>...</td>\n",
              "      <td>64.0</td>\n",
              "      <td>16.0</td>\n",
              "      <td>0</td>\n",
              "      <td>1</td>\n",
              "      <td>1</td>\n",
              "      <td>1</td>\n",
              "      <td>2</td>\n",
              "      <td>1</td>\n",
              "      <td>1</td>\n",
              "      <td>27999</td>\n",
              "    </tr>\n",
              "    <tr>\n",
              "      <th>2</th>\n",
              "      <td>2</td>\n",
              "      <td>1341</td>\n",
              "      <td>3</td>\n",
              "      <td>1288</td>\n",
              "      <td>3969</td>\n",
              "      <td>6.50</td>\n",
              "      <td>1</td>\n",
              "      <td>1242</td>\n",
              "      <td>2688</td>\n",
              "      <td>6</td>\n",
              "      <td>...</td>\n",
              "      <td>12.0</td>\n",
              "      <td>12.0</td>\n",
              "      <td>6</td>\n",
              "      <td>1</td>\n",
              "      <td>1</td>\n",
              "      <td>1</td>\n",
              "      <td>2</td>\n",
              "      <td>1</td>\n",
              "      <td>1</td>\n",
              "      <td>106900</td>\n",
              "    </tr>\n",
              "    <tr>\n",
              "      <th>3</th>\n",
              "      <td>3</td>\n",
              "      <td>1339</td>\n",
              "      <td>3</td>\n",
              "      <td>1286</td>\n",
              "      <td>3110</td>\n",
              "      <td>6.10</td>\n",
              "      <td>1</td>\n",
              "      <td>828</td>\n",
              "      <td>1792</td>\n",
              "      <td>6</td>\n",
              "      <td>...</td>\n",
              "      <td>12.0</td>\n",
              "      <td>12.0</td>\n",
              "      <td>6</td>\n",
              "      <td>1</td>\n",
              "      <td>1</td>\n",
              "      <td>1</td>\n",
              "      <td>2</td>\n",
              "      <td>1</td>\n",
              "      <td>1</td>\n",
              "      <td>62900</td>\n",
              "    </tr>\n",
              "    <tr>\n",
              "      <th>4</th>\n",
              "      <td>4</td>\n",
              "      <td>481</td>\n",
              "      <td>29</td>\n",
              "      <td>522</td>\n",
              "      <td>4000</td>\n",
              "      <td>6.40</td>\n",
              "      <td>1</td>\n",
              "      <td>1080</td>\n",
              "      <td>2340</td>\n",
              "      <td>8</td>\n",
              "      <td>...</td>\n",
              "      <td>12.0</td>\n",
              "      <td>32.0</td>\n",
              "      <td>0</td>\n",
              "      <td>1</td>\n",
              "      <td>1</td>\n",
              "      <td>1</td>\n",
              "      <td>1</td>\n",
              "      <td>0</td>\n",
              "      <td>0</td>\n",
              "      <td>49990</td>\n",
              "    </tr>\n",
              "    <tr>\n",
              "      <th>5</th>\n",
              "      <td>5</td>\n",
              "      <td>840</td>\n",
              "      <td>44</td>\n",
              "      <td>47</td>\n",
              "      <td>3800</td>\n",
              "      <td>6.55</td>\n",
              "      <td>1</td>\n",
              "      <td>1080</td>\n",
              "      <td>2400</td>\n",
              "      <td>8</td>\n",
              "      <td>...</td>\n",
              "      <td>48.0</td>\n",
              "      <td>16.0</td>\n",
              "      <td>0</td>\n",
              "      <td>1</td>\n",
              "      <td>1</td>\n",
              "      <td>0</td>\n",
              "      <td>2</td>\n",
              "      <td>1</td>\n",
              "      <td>1</td>\n",
              "      <td>34930</td>\n",
              "    </tr>\n",
              "    <tr>\n",
              "      <th>6</th>\n",
              "      <td>6</td>\n",
              "      <td>841</td>\n",
              "      <td>44</td>\n",
              "      <td>48</td>\n",
              "      <td>4085</td>\n",
              "      <td>6.67</td>\n",
              "      <td>1</td>\n",
              "      <td>1440</td>\n",
              "      <td>3120</td>\n",
              "      <td>8</td>\n",
              "      <td>...</td>\n",
              "      <td>48.0</td>\n",
              "      <td>16.0</td>\n",
              "      <td>0</td>\n",
              "      <td>1</td>\n",
              "      <td>1</td>\n",
              "      <td>1</td>\n",
              "      <td>2</td>\n",
              "      <td>1</td>\n",
              "      <td>1</td>\n",
              "      <td>52990</td>\n",
              "    </tr>\n",
              "    <tr>\n",
              "      <th>7</th>\n",
              "      <td>7</td>\n",
              "      <td>1038</td>\n",
              "      <td>54</td>\n",
              "      <td>584</td>\n",
              "      <td>4300</td>\n",
              "      <td>6.80</td>\n",
              "      <td>1</td>\n",
              "      <td>1440</td>\n",
              "      <td>3040</td>\n",
              "      <td>8</td>\n",
              "      <td>...</td>\n",
              "      <td>12.0</td>\n",
              "      <td>10.0</td>\n",
              "      <td>0</td>\n",
              "      <td>1</td>\n",
              "      <td>1</td>\n",
              "      <td>1</td>\n",
              "      <td>2</td>\n",
              "      <td>1</td>\n",
              "      <td>1</td>\n",
              "      <td>79699</td>\n",
              "    </tr>\n",
              "    <tr>\n",
              "      <th>8</th>\n",
              "      <td>8</td>\n",
              "      <td>34</td>\n",
              "      <td>5</td>\n",
              "      <td>936</td>\n",
              "      <td>6000</td>\n",
              "      <td>6.59</td>\n",
              "      <td>1</td>\n",
              "      <td>1080</td>\n",
              "      <td>2340</td>\n",
              "      <td>8</td>\n",
              "      <td>...</td>\n",
              "      <td>48.0</td>\n",
              "      <td>24.0</td>\n",
              "      <td>0</td>\n",
              "      <td>1</td>\n",
              "      <td>1</td>\n",
              "      <td>1</td>\n",
              "      <td>1</td>\n",
              "      <td>1</td>\n",
              "      <td>1</td>\n",
              "      <td>37999</td>\n",
              "    </tr>\n",
              "    <tr>\n",
              "      <th>9</th>\n",
              "      <td>9</td>\n",
              "      <td>1238</td>\n",
              "      <td>65</td>\n",
              "      <td>959</td>\n",
              "      <td>4000</td>\n",
              "      <td>6.39</td>\n",
              "      <td>1</td>\n",
              "      <td>1080</td>\n",
              "      <td>2340</td>\n",
              "      <td>8</td>\n",
              "      <td>...</td>\n",
              "      <td>48.0</td>\n",
              "      <td>20.0</td>\n",
              "      <td>0</td>\n",
              "      <td>1</td>\n",
              "      <td>1</td>\n",
              "      <td>1</td>\n",
              "      <td>2</td>\n",
              "      <td>0</td>\n",
              "      <td>0</td>\n",
              "      <td>23190</td>\n",
              "    </tr>\n",
              "  </tbody>\n",
              "</table>\n",
              "<p>10 rows × 22 columns</p>\n",
              "</div>\n",
              "    <div class=\"colab-df-buttons\">\n",
              "\n",
              "  <div class=\"colab-df-container\">\n",
              "    <button class=\"colab-df-convert\" onclick=\"convertToInteractive('df-6c9646ed-6472-4a3f-a1fc-4554bab2a999')\"\n",
              "            title=\"Convert this dataframe to an interactive table.\"\n",
              "            style=\"display:none;\">\n",
              "\n",
              "  <svg xmlns=\"http://www.w3.org/2000/svg\" height=\"24px\" viewBox=\"0 -960 960 960\">\n",
              "    <path d=\"M120-120v-720h720v720H120Zm60-500h600v-160H180v160Zm220 220h160v-160H400v160Zm0 220h160v-160H400v160ZM180-400h160v-160H180v160Zm440 0h160v-160H620v160ZM180-180h160v-160H180v160Zm440 0h160v-160H620v160Z\"/>\n",
              "  </svg>\n",
              "    </button>\n",
              "\n",
              "  <style>\n",
              "    .colab-df-container {\n",
              "      display:flex;\n",
              "      gap: 12px;\n",
              "    }\n",
              "\n",
              "    .colab-df-convert {\n",
              "      background-color: #E8F0FE;\n",
              "      border: none;\n",
              "      border-radius: 50%;\n",
              "      cursor: pointer;\n",
              "      display: none;\n",
              "      fill: #1967D2;\n",
              "      height: 32px;\n",
              "      padding: 0 0 0 0;\n",
              "      width: 32px;\n",
              "    }\n",
              "\n",
              "    .colab-df-convert:hover {\n",
              "      background-color: #E2EBFA;\n",
              "      box-shadow: 0px 1px 2px rgba(60, 64, 67, 0.3), 0px 1px 3px 1px rgba(60, 64, 67, 0.15);\n",
              "      fill: #174EA6;\n",
              "    }\n",
              "\n",
              "    .colab-df-buttons div {\n",
              "      margin-bottom: 4px;\n",
              "    }\n",
              "\n",
              "    [theme=dark] .colab-df-convert {\n",
              "      background-color: #3B4455;\n",
              "      fill: #D2E3FC;\n",
              "    }\n",
              "\n",
              "    [theme=dark] .colab-df-convert:hover {\n",
              "      background-color: #434B5C;\n",
              "      box-shadow: 0px 1px 3px 1px rgba(0, 0, 0, 0.15);\n",
              "      filter: drop-shadow(0px 1px 2px rgba(0, 0, 0, 0.3));\n",
              "      fill: #FFFFFF;\n",
              "    }\n",
              "  </style>\n",
              "\n",
              "    <script>\n",
              "      const buttonEl =\n",
              "        document.querySelector('#df-6c9646ed-6472-4a3f-a1fc-4554bab2a999 button.colab-df-convert');\n",
              "      buttonEl.style.display =\n",
              "        google.colab.kernel.accessAllowed ? 'block' : 'none';\n",
              "\n",
              "      async function convertToInteractive(key) {\n",
              "        const element = document.querySelector('#df-6c9646ed-6472-4a3f-a1fc-4554bab2a999');\n",
              "        const dataTable =\n",
              "          await google.colab.kernel.invokeFunction('convertToInteractive',\n",
              "                                                    [key], {});\n",
              "        if (!dataTable) return;\n",
              "\n",
              "        const docLinkHtml = 'Like what you see? Visit the ' +\n",
              "          '<a target=\"_blank\" href=https://colab.research.google.com/notebooks/data_table.ipynb>data table notebook</a>'\n",
              "          + ' to learn more about interactive tables.';\n",
              "        element.innerHTML = '';\n",
              "        dataTable['output_type'] = 'display_data';\n",
              "        await google.colab.output.renderOutput(dataTable, element);\n",
              "        const docLink = document.createElement('div');\n",
              "        docLink.innerHTML = docLinkHtml;\n",
              "        element.appendChild(docLink);\n",
              "      }\n",
              "    </script>\n",
              "  </div>\n",
              "\n",
              "\n",
              "<div id=\"df-458e6d18-701e-47d0-b47b-92bff84522cb\">\n",
              "  <button class=\"colab-df-quickchart\" onclick=\"quickchart('df-458e6d18-701e-47d0-b47b-92bff84522cb')\"\n",
              "            title=\"Suggest charts\"\n",
              "            style=\"display:none;\">\n",
              "\n",
              "<svg xmlns=\"http://www.w3.org/2000/svg\" height=\"24px\"viewBox=\"0 0 24 24\"\n",
              "     width=\"24px\">\n",
              "    <g>\n",
              "        <path d=\"M19 3H5c-1.1 0-2 .9-2 2v14c0 1.1.9 2 2 2h14c1.1 0 2-.9 2-2V5c0-1.1-.9-2-2-2zM9 17H7v-7h2v7zm4 0h-2V7h2v10zm4 0h-2v-4h2v4z\"/>\n",
              "    </g>\n",
              "</svg>\n",
              "  </button>\n",
              "\n",
              "<style>\n",
              "  .colab-df-quickchart {\n",
              "      --bg-color: #E8F0FE;\n",
              "      --fill-color: #1967D2;\n",
              "      --hover-bg-color: #E2EBFA;\n",
              "      --hover-fill-color: #174EA6;\n",
              "      --disabled-fill-color: #AAA;\n",
              "      --disabled-bg-color: #DDD;\n",
              "  }\n",
              "\n",
              "  [theme=dark] .colab-df-quickchart {\n",
              "      --bg-color: #3B4455;\n",
              "      --fill-color: #D2E3FC;\n",
              "      --hover-bg-color: #434B5C;\n",
              "      --hover-fill-color: #FFFFFF;\n",
              "      --disabled-bg-color: #3B4455;\n",
              "      --disabled-fill-color: #666;\n",
              "  }\n",
              "\n",
              "  .colab-df-quickchart {\n",
              "    background-color: var(--bg-color);\n",
              "    border: none;\n",
              "    border-radius: 50%;\n",
              "    cursor: pointer;\n",
              "    display: none;\n",
              "    fill: var(--fill-color);\n",
              "    height: 32px;\n",
              "    padding: 0;\n",
              "    width: 32px;\n",
              "  }\n",
              "\n",
              "  .colab-df-quickchart:hover {\n",
              "    background-color: var(--hover-bg-color);\n",
              "    box-shadow: 0 1px 2px rgba(60, 64, 67, 0.3), 0 1px 3px 1px rgba(60, 64, 67, 0.15);\n",
              "    fill: var(--button-hover-fill-color);\n",
              "  }\n",
              "\n",
              "  .colab-df-quickchart-complete:disabled,\n",
              "  .colab-df-quickchart-complete:disabled:hover {\n",
              "    background-color: var(--disabled-bg-color);\n",
              "    fill: var(--disabled-fill-color);\n",
              "    box-shadow: none;\n",
              "  }\n",
              "\n",
              "  .colab-df-spinner {\n",
              "    border: 2px solid var(--fill-color);\n",
              "    border-color: transparent;\n",
              "    border-bottom-color: var(--fill-color);\n",
              "    animation:\n",
              "      spin 1s steps(1) infinite;\n",
              "  }\n",
              "\n",
              "  @keyframes spin {\n",
              "    0% {\n",
              "      border-color: transparent;\n",
              "      border-bottom-color: var(--fill-color);\n",
              "      border-left-color: var(--fill-color);\n",
              "    }\n",
              "    20% {\n",
              "      border-color: transparent;\n",
              "      border-left-color: var(--fill-color);\n",
              "      border-top-color: var(--fill-color);\n",
              "    }\n",
              "    30% {\n",
              "      border-color: transparent;\n",
              "      border-left-color: var(--fill-color);\n",
              "      border-top-color: var(--fill-color);\n",
              "      border-right-color: var(--fill-color);\n",
              "    }\n",
              "    40% {\n",
              "      border-color: transparent;\n",
              "      border-right-color: var(--fill-color);\n",
              "      border-top-color: var(--fill-color);\n",
              "    }\n",
              "    60% {\n",
              "      border-color: transparent;\n",
              "      border-right-color: var(--fill-color);\n",
              "    }\n",
              "    80% {\n",
              "      border-color: transparent;\n",
              "      border-right-color: var(--fill-color);\n",
              "      border-bottom-color: var(--fill-color);\n",
              "    }\n",
              "    90% {\n",
              "      border-color: transparent;\n",
              "      border-bottom-color: var(--fill-color);\n",
              "    }\n",
              "  }\n",
              "</style>\n",
              "\n",
              "  <script>\n",
              "    async function quickchart(key) {\n",
              "      const quickchartButtonEl =\n",
              "        document.querySelector('#' + key + ' button');\n",
              "      quickchartButtonEl.disabled = true;  // To prevent multiple clicks.\n",
              "      quickchartButtonEl.classList.add('colab-df-spinner');\n",
              "      try {\n",
              "        const charts = await google.colab.kernel.invokeFunction(\n",
              "            'suggestCharts', [key], {});\n",
              "      } catch (error) {\n",
              "        console.error('Error during call to suggestCharts:', error);\n",
              "      }\n",
              "      quickchartButtonEl.classList.remove('colab-df-spinner');\n",
              "      quickchartButtonEl.classList.add('colab-df-quickchart-complete');\n",
              "    }\n",
              "    (() => {\n",
              "      let quickchartButtonEl =\n",
              "        document.querySelector('#df-458e6d18-701e-47d0-b47b-92bff84522cb button');\n",
              "      quickchartButtonEl.style.display =\n",
              "        google.colab.kernel.accessAllowed ? 'block' : 'none';\n",
              "    })();\n",
              "  </script>\n",
              "</div>\n",
              "\n",
              "    </div>\n",
              "  </div>\n"
            ],
            "application/vnd.google.colaboratory.intrinsic+json": {
              "type": "dataframe",
              "variable_name": "phoneprices"
            }
          },
          "metadata": {},
          "execution_count": 53
        }
      ]
    },
    {
      "cell_type": "markdown",
      "source": [
        "Review the remaining features & application of label encoding to all flat features ."
      ],
      "metadata": {
        "id": "z00LzEvqAaXO"
      }
    },
    {
      "cell_type": "markdown",
      "source": [
        "\"Data Transfornation\" (normalization)\n",
        "z-score used for raising down the features between the content of -1 & 1. This allows the standard to make more reasonable predictions as it is easy to comprehend.\n",
        "The scaling is used for the training &  testing set. it use min & max normalization also"
      ],
      "metadata": {
        "id": "G526qKnEAbGk"
      }
    },
    {
      "cell_type": "code",
      "source": [
        "phoneprices = phoneprices.select_dtypes(include=[np.number])"
      ],
      "metadata": {
        "id": "wlcIirmpul06"
      },
      "execution_count": 54,
      "outputs": []
    },
    {
      "cell_type": "code",
      "source": [
        "# Calculate the z-score with scipy\n",
        "import scipy.stats as stats\n",
        "phoneprices = stats.zscore(phoneprices)\n"
      ],
      "metadata": {
        "id": "ZazS-sJ2Akx2"
      },
      "execution_count": 55,
      "outputs": []
    },
    {
      "cell_type": "code",
      "source": [
        "phoneprices"
      ],
      "metadata": {
        "colab": {
          "base_uri": "https://localhost:8080/",
          "height": 478
        },
        "id": "BKM7riuHBDn_",
        "outputId": "99e2b341-1227-40b9-c634-6263aa27923f"
      },
      "execution_count": 56,
      "outputs": [
        {
          "output_type": "execute_result",
          "data": {
            "text/plain": [
              "      Unnamed: 0      Name     Brand     Model  Battery capacity (mAh)  \\\n",
              "0      -1.730777  0.415488  0.315405 -1.571822                1.313010   \n",
              "1      -1.728228  0.713722  0.784713  1.266172                1.215666   \n",
              "2      -1.725679  1.687444 -1.822555  1.645264                1.180164   \n",
              "3      -1.723130  1.682346 -1.822555  1.640071                0.196418   \n",
              "4      -1.720581 -0.504704 -0.466776 -0.343669                1.215666   \n",
              "...          ...       ...       ...       ...                     ...   \n",
              "1354    1.720581 -0.968623 -0.779648 -1.314767               -1.647390   \n",
              "1355    1.723130  1.213328  1.306166 -0.006122               -1.074779   \n",
              "1356    1.725679 -0.774899 -0.779648 -1.117431               -1.418346   \n",
              "1357    1.728228  1.674699  1.827620 -1.335539               -1.933696   \n",
              "1358    1.730777  1.667052  1.827620 -1.343328               -0.902996   \n",
              "\n",
              "      Screen size (inches)  Touchscreen  Resolution x  Resolution y  \\\n",
              "0                 2.054345     0.112551      2.322392      2.921979   \n",
              "1                 1.801033     0.112551      0.992052      1.630673   \n",
              "2                 1.801033     0.112551      1.590705      2.147195   \n",
              "3                 1.205005     0.112551      0.060815      0.540236   \n",
              "4                 1.652026     0.112551      0.992052      1.523064   \n",
              "...                    ...          ...           ...           ...   \n",
              "1354             -1.924142     0.112551     -1.225180     -1.238897   \n",
              "1355             -0.434072     0.112551     -1.225180     -1.142049   \n",
              "1356             -1.179107     0.112551     -1.225180     -1.142049   \n",
              "1357             -1.924142     0.112551     -1.225180     -1.238897   \n",
              "1358             -0.434072     0.112551     -1.225180     -1.142049   \n",
              "\n",
              "      Processor  ...  Rear camera  Front camera  operating_system      wifi  \\\n",
              "0      1.115270  ...     4.016727      1.424097         -0.193502  0.076952   \n",
              "1      1.115270  ...     5.805427      1.424097         -0.193502  0.076952   \n",
              "2      0.204422  ...    -0.007848      0.788484          6.326398  0.076952   \n",
              "3      0.204422  ...    -0.007848      0.788484          6.326398  0.076952   \n",
              "4      1.115270  ...    -0.007848      3.966552         -0.193502  0.076952   \n",
              "...         ...  ...          ...           ...               ...       ...   \n",
              "1354  -0.706427  ...    -0.790404     -1.070686         -0.193502  0.076952   \n",
              "1355  -0.706427  ...    -0.455023     -0.323840         -0.193502  0.076952   \n",
              "1356  -1.617276  ...    -0.790404     -0.800550         -0.193502  0.076952   \n",
              "1357  -2.072700  ...    -1.125785     -1.070686         -0.193502  0.076952   \n",
              "1358  -0.706427  ...    -0.455023     -1.118357         -0.193502  0.076952   \n",
              "\n",
              "      Bluetooth       GPS  Number of SIMs    threeg     fourg     Price  \n",
              "0      0.105644  0.293821        0.444269  0.345601  0.585564  3.431332  \n",
              "1      0.105644  0.293821        0.444269  0.345601  0.585564  1.193524  \n",
              "2      0.105644  0.293821        0.444269  0.345601  0.585564  6.889363  \n",
              "3      0.105644  0.293821        0.444269  0.345601  0.585564  3.713017  \n",
              "4      0.105644  0.293821       -2.227245 -2.893512 -1.707755  2.781048  \n",
              "...         ...       ...             ...       ...       ...       ...  \n",
              "1354   0.105644  0.293821        0.444269  0.345601 -1.707755 -0.640094  \n",
              "1355   0.105644  0.293821        0.444269  0.345601 -1.707755 -0.615477  \n",
              "1356   0.105644 -3.403430        0.444269  0.345601 -1.707755 -0.611218  \n",
              "1357   0.105644  0.293821        0.444269  0.345601 -1.707755 -0.647385  \n",
              "1358   0.105644  0.293821        0.444269  0.345601 -1.707755 -0.539028  \n",
              "\n",
              "[1359 rows x 22 columns]"
            ],
            "text/html": [
              "\n",
              "  <div id=\"df-fc5645ff-3d59-4905-bc21-b2f758521527\" class=\"colab-df-container\">\n",
              "    <div>\n",
              "<style scoped>\n",
              "    .dataframe tbody tr th:only-of-type {\n",
              "        vertical-align: middle;\n",
              "    }\n",
              "\n",
              "    .dataframe tbody tr th {\n",
              "        vertical-align: top;\n",
              "    }\n",
              "\n",
              "    .dataframe thead th {\n",
              "        text-align: right;\n",
              "    }\n",
              "</style>\n",
              "<table border=\"1\" class=\"dataframe\">\n",
              "  <thead>\n",
              "    <tr style=\"text-align: right;\">\n",
              "      <th></th>\n",
              "      <th>Unnamed: 0</th>\n",
              "      <th>Name</th>\n",
              "      <th>Brand</th>\n",
              "      <th>Model</th>\n",
              "      <th>Battery capacity (mAh)</th>\n",
              "      <th>Screen size (inches)</th>\n",
              "      <th>Touchscreen</th>\n",
              "      <th>Resolution x</th>\n",
              "      <th>Resolution y</th>\n",
              "      <th>Processor</th>\n",
              "      <th>...</th>\n",
              "      <th>Rear camera</th>\n",
              "      <th>Front camera</th>\n",
              "      <th>operating_system</th>\n",
              "      <th>wifi</th>\n",
              "      <th>Bluetooth</th>\n",
              "      <th>GPS</th>\n",
              "      <th>Number of SIMs</th>\n",
              "      <th>threeg</th>\n",
              "      <th>fourg</th>\n",
              "      <th>Price</th>\n",
              "    </tr>\n",
              "  </thead>\n",
              "  <tbody>\n",
              "    <tr>\n",
              "      <th>0</th>\n",
              "      <td>-1.730777</td>\n",
              "      <td>0.415488</td>\n",
              "      <td>0.315405</td>\n",
              "      <td>-1.571822</td>\n",
              "      <td>1.313010</td>\n",
              "      <td>2.054345</td>\n",
              "      <td>0.112551</td>\n",
              "      <td>2.322392</td>\n",
              "      <td>2.921979</td>\n",
              "      <td>1.115270</td>\n",
              "      <td>...</td>\n",
              "      <td>4.016727</td>\n",
              "      <td>1.424097</td>\n",
              "      <td>-0.193502</td>\n",
              "      <td>0.076952</td>\n",
              "      <td>0.105644</td>\n",
              "      <td>0.293821</td>\n",
              "      <td>0.444269</td>\n",
              "      <td>0.345601</td>\n",
              "      <td>0.585564</td>\n",
              "      <td>3.431332</td>\n",
              "    </tr>\n",
              "    <tr>\n",
              "      <th>1</th>\n",
              "      <td>-1.728228</td>\n",
              "      <td>0.713722</td>\n",
              "      <td>0.784713</td>\n",
              "      <td>1.266172</td>\n",
              "      <td>1.215666</td>\n",
              "      <td>1.801033</td>\n",
              "      <td>0.112551</td>\n",
              "      <td>0.992052</td>\n",
              "      <td>1.630673</td>\n",
              "      <td>1.115270</td>\n",
              "      <td>...</td>\n",
              "      <td>5.805427</td>\n",
              "      <td>1.424097</td>\n",
              "      <td>-0.193502</td>\n",
              "      <td>0.076952</td>\n",
              "      <td>0.105644</td>\n",
              "      <td>0.293821</td>\n",
              "      <td>0.444269</td>\n",
              "      <td>0.345601</td>\n",
              "      <td>0.585564</td>\n",
              "      <td>1.193524</td>\n",
              "    </tr>\n",
              "    <tr>\n",
              "      <th>2</th>\n",
              "      <td>-1.725679</td>\n",
              "      <td>1.687444</td>\n",
              "      <td>-1.822555</td>\n",
              "      <td>1.645264</td>\n",
              "      <td>1.180164</td>\n",
              "      <td>1.801033</td>\n",
              "      <td>0.112551</td>\n",
              "      <td>1.590705</td>\n",
              "      <td>2.147195</td>\n",
              "      <td>0.204422</td>\n",
              "      <td>...</td>\n",
              "      <td>-0.007848</td>\n",
              "      <td>0.788484</td>\n",
              "      <td>6.326398</td>\n",
              "      <td>0.076952</td>\n",
              "      <td>0.105644</td>\n",
              "      <td>0.293821</td>\n",
              "      <td>0.444269</td>\n",
              "      <td>0.345601</td>\n",
              "      <td>0.585564</td>\n",
              "      <td>6.889363</td>\n",
              "    </tr>\n",
              "    <tr>\n",
              "      <th>3</th>\n",
              "      <td>-1.723130</td>\n",
              "      <td>1.682346</td>\n",
              "      <td>-1.822555</td>\n",
              "      <td>1.640071</td>\n",
              "      <td>0.196418</td>\n",
              "      <td>1.205005</td>\n",
              "      <td>0.112551</td>\n",
              "      <td>0.060815</td>\n",
              "      <td>0.540236</td>\n",
              "      <td>0.204422</td>\n",
              "      <td>...</td>\n",
              "      <td>-0.007848</td>\n",
              "      <td>0.788484</td>\n",
              "      <td>6.326398</td>\n",
              "      <td>0.076952</td>\n",
              "      <td>0.105644</td>\n",
              "      <td>0.293821</td>\n",
              "      <td>0.444269</td>\n",
              "      <td>0.345601</td>\n",
              "      <td>0.585564</td>\n",
              "      <td>3.713017</td>\n",
              "    </tr>\n",
              "    <tr>\n",
              "      <th>4</th>\n",
              "      <td>-1.720581</td>\n",
              "      <td>-0.504704</td>\n",
              "      <td>-0.466776</td>\n",
              "      <td>-0.343669</td>\n",
              "      <td>1.215666</td>\n",
              "      <td>1.652026</td>\n",
              "      <td>0.112551</td>\n",
              "      <td>0.992052</td>\n",
              "      <td>1.523064</td>\n",
              "      <td>1.115270</td>\n",
              "      <td>...</td>\n",
              "      <td>-0.007848</td>\n",
              "      <td>3.966552</td>\n",
              "      <td>-0.193502</td>\n",
              "      <td>0.076952</td>\n",
              "      <td>0.105644</td>\n",
              "      <td>0.293821</td>\n",
              "      <td>-2.227245</td>\n",
              "      <td>-2.893512</td>\n",
              "      <td>-1.707755</td>\n",
              "      <td>2.781048</td>\n",
              "    </tr>\n",
              "    <tr>\n",
              "      <th>...</th>\n",
              "      <td>...</td>\n",
              "      <td>...</td>\n",
              "      <td>...</td>\n",
              "      <td>...</td>\n",
              "      <td>...</td>\n",
              "      <td>...</td>\n",
              "      <td>...</td>\n",
              "      <td>...</td>\n",
              "      <td>...</td>\n",
              "      <td>...</td>\n",
              "      <td>...</td>\n",
              "      <td>...</td>\n",
              "      <td>...</td>\n",
              "      <td>...</td>\n",
              "      <td>...</td>\n",
              "      <td>...</td>\n",
              "      <td>...</td>\n",
              "      <td>...</td>\n",
              "      <td>...</td>\n",
              "      <td>...</td>\n",
              "      <td>...</td>\n",
              "    </tr>\n",
              "    <tr>\n",
              "      <th>1354</th>\n",
              "      <td>1.720581</td>\n",
              "      <td>-0.968623</td>\n",
              "      <td>-0.779648</td>\n",
              "      <td>-1.314767</td>\n",
              "      <td>-1.647390</td>\n",
              "      <td>-1.924142</td>\n",
              "      <td>0.112551</td>\n",
              "      <td>-1.225180</td>\n",
              "      <td>-1.238897</td>\n",
              "      <td>-0.706427</td>\n",
              "      <td>...</td>\n",
              "      <td>-0.790404</td>\n",
              "      <td>-1.070686</td>\n",
              "      <td>-0.193502</td>\n",
              "      <td>0.076952</td>\n",
              "      <td>0.105644</td>\n",
              "      <td>0.293821</td>\n",
              "      <td>0.444269</td>\n",
              "      <td>0.345601</td>\n",
              "      <td>-1.707755</td>\n",
              "      <td>-0.640094</td>\n",
              "    </tr>\n",
              "    <tr>\n",
              "      <th>1355</th>\n",
              "      <td>1.723130</td>\n",
              "      <td>1.213328</td>\n",
              "      <td>1.306166</td>\n",
              "      <td>-0.006122</td>\n",
              "      <td>-1.074779</td>\n",
              "      <td>-0.434072</td>\n",
              "      <td>0.112551</td>\n",
              "      <td>-1.225180</td>\n",
              "      <td>-1.142049</td>\n",
              "      <td>-0.706427</td>\n",
              "      <td>...</td>\n",
              "      <td>-0.455023</td>\n",
              "      <td>-0.323840</td>\n",
              "      <td>-0.193502</td>\n",
              "      <td>0.076952</td>\n",
              "      <td>0.105644</td>\n",
              "      <td>0.293821</td>\n",
              "      <td>0.444269</td>\n",
              "      <td>0.345601</td>\n",
              "      <td>-1.707755</td>\n",
              "      <td>-0.615477</td>\n",
              "    </tr>\n",
              "    <tr>\n",
              "      <th>1356</th>\n",
              "      <td>1.725679</td>\n",
              "      <td>-0.774899</td>\n",
              "      <td>-0.779648</td>\n",
              "      <td>-1.117431</td>\n",
              "      <td>-1.418346</td>\n",
              "      <td>-1.179107</td>\n",
              "      <td>0.112551</td>\n",
              "      <td>-1.225180</td>\n",
              "      <td>-1.142049</td>\n",
              "      <td>-1.617276</td>\n",
              "      <td>...</td>\n",
              "      <td>-0.790404</td>\n",
              "      <td>-0.800550</td>\n",
              "      <td>-0.193502</td>\n",
              "      <td>0.076952</td>\n",
              "      <td>0.105644</td>\n",
              "      <td>-3.403430</td>\n",
              "      <td>0.444269</td>\n",
              "      <td>0.345601</td>\n",
              "      <td>-1.707755</td>\n",
              "      <td>-0.611218</td>\n",
              "    </tr>\n",
              "    <tr>\n",
              "      <th>1357</th>\n",
              "      <td>1.728228</td>\n",
              "      <td>1.674699</td>\n",
              "      <td>1.827620</td>\n",
              "      <td>-1.335539</td>\n",
              "      <td>-1.933696</td>\n",
              "      <td>-1.924142</td>\n",
              "      <td>0.112551</td>\n",
              "      <td>-1.225180</td>\n",
              "      <td>-1.238897</td>\n",
              "      <td>-2.072700</td>\n",
              "      <td>...</td>\n",
              "      <td>-1.125785</td>\n",
              "      <td>-1.070686</td>\n",
              "      <td>-0.193502</td>\n",
              "      <td>0.076952</td>\n",
              "      <td>0.105644</td>\n",
              "      <td>0.293821</td>\n",
              "      <td>0.444269</td>\n",
              "      <td>0.345601</td>\n",
              "      <td>-1.707755</td>\n",
              "      <td>-0.647385</td>\n",
              "    </tr>\n",
              "    <tr>\n",
              "      <th>1358</th>\n",
              "      <td>1.730777</td>\n",
              "      <td>1.667052</td>\n",
              "      <td>1.827620</td>\n",
              "      <td>-1.343328</td>\n",
              "      <td>-0.902996</td>\n",
              "      <td>-0.434072</td>\n",
              "      <td>0.112551</td>\n",
              "      <td>-1.225180</td>\n",
              "      <td>-1.142049</td>\n",
              "      <td>-0.706427</td>\n",
              "      <td>...</td>\n",
              "      <td>-0.455023</td>\n",
              "      <td>-1.118357</td>\n",
              "      <td>-0.193502</td>\n",
              "      <td>0.076952</td>\n",
              "      <td>0.105644</td>\n",
              "      <td>0.293821</td>\n",
              "      <td>0.444269</td>\n",
              "      <td>0.345601</td>\n",
              "      <td>-1.707755</td>\n",
              "      <td>-0.539028</td>\n",
              "    </tr>\n",
              "  </tbody>\n",
              "</table>\n",
              "<p>1359 rows × 22 columns</p>\n",
              "</div>\n",
              "    <div class=\"colab-df-buttons\">\n",
              "\n",
              "  <div class=\"colab-df-container\">\n",
              "    <button class=\"colab-df-convert\" onclick=\"convertToInteractive('df-fc5645ff-3d59-4905-bc21-b2f758521527')\"\n",
              "            title=\"Convert this dataframe to an interactive table.\"\n",
              "            style=\"display:none;\">\n",
              "\n",
              "  <svg xmlns=\"http://www.w3.org/2000/svg\" height=\"24px\" viewBox=\"0 -960 960 960\">\n",
              "    <path d=\"M120-120v-720h720v720H120Zm60-500h600v-160H180v160Zm220 220h160v-160H400v160Zm0 220h160v-160H400v160ZM180-400h160v-160H180v160Zm440 0h160v-160H620v160ZM180-180h160v-160H180v160Zm440 0h160v-160H620v160Z\"/>\n",
              "  </svg>\n",
              "    </button>\n",
              "\n",
              "  <style>\n",
              "    .colab-df-container {\n",
              "      display:flex;\n",
              "      gap: 12px;\n",
              "    }\n",
              "\n",
              "    .colab-df-convert {\n",
              "      background-color: #E8F0FE;\n",
              "      border: none;\n",
              "      border-radius: 50%;\n",
              "      cursor: pointer;\n",
              "      display: none;\n",
              "      fill: #1967D2;\n",
              "      height: 32px;\n",
              "      padding: 0 0 0 0;\n",
              "      width: 32px;\n",
              "    }\n",
              "\n",
              "    .colab-df-convert:hover {\n",
              "      background-color: #E2EBFA;\n",
              "      box-shadow: 0px 1px 2px rgba(60, 64, 67, 0.3), 0px 1px 3px 1px rgba(60, 64, 67, 0.15);\n",
              "      fill: #174EA6;\n",
              "    }\n",
              "\n",
              "    .colab-df-buttons div {\n",
              "      margin-bottom: 4px;\n",
              "    }\n",
              "\n",
              "    [theme=dark] .colab-df-convert {\n",
              "      background-color: #3B4455;\n",
              "      fill: #D2E3FC;\n",
              "    }\n",
              "\n",
              "    [theme=dark] .colab-df-convert:hover {\n",
              "      background-color: #434B5C;\n",
              "      box-shadow: 0px 1px 3px 1px rgba(0, 0, 0, 0.15);\n",
              "      filter: drop-shadow(0px 1px 2px rgba(0, 0, 0, 0.3));\n",
              "      fill: #FFFFFF;\n",
              "    }\n",
              "  </style>\n",
              "\n",
              "    <script>\n",
              "      const buttonEl =\n",
              "        document.querySelector('#df-fc5645ff-3d59-4905-bc21-b2f758521527 button.colab-df-convert');\n",
              "      buttonEl.style.display =\n",
              "        google.colab.kernel.accessAllowed ? 'block' : 'none';\n",
              "\n",
              "      async function convertToInteractive(key) {\n",
              "        const element = document.querySelector('#df-fc5645ff-3d59-4905-bc21-b2f758521527');\n",
              "        const dataTable =\n",
              "          await google.colab.kernel.invokeFunction('convertToInteractive',\n",
              "                                                    [key], {});\n",
              "        if (!dataTable) return;\n",
              "\n",
              "        const docLinkHtml = 'Like what you see? Visit the ' +\n",
              "          '<a target=\"_blank\" href=https://colab.research.google.com/notebooks/data_table.ipynb>data table notebook</a>'\n",
              "          + ' to learn more about interactive tables.';\n",
              "        element.innerHTML = '';\n",
              "        dataTable['output_type'] = 'display_data';\n",
              "        await google.colab.output.renderOutput(dataTable, element);\n",
              "        const docLink = document.createElement('div');\n",
              "        docLink.innerHTML = docLinkHtml;\n",
              "        element.appendChild(docLink);\n",
              "      }\n",
              "    </script>\n",
              "  </div>\n",
              "\n",
              "\n",
              "<div id=\"df-13428494-1cfe-4f7b-a935-485781f74294\">\n",
              "  <button class=\"colab-df-quickchart\" onclick=\"quickchart('df-13428494-1cfe-4f7b-a935-485781f74294')\"\n",
              "            title=\"Suggest charts\"\n",
              "            style=\"display:none;\">\n",
              "\n",
              "<svg xmlns=\"http://www.w3.org/2000/svg\" height=\"24px\"viewBox=\"0 0 24 24\"\n",
              "     width=\"24px\">\n",
              "    <g>\n",
              "        <path d=\"M19 3H5c-1.1 0-2 .9-2 2v14c0 1.1.9 2 2 2h14c1.1 0 2-.9 2-2V5c0-1.1-.9-2-2-2zM9 17H7v-7h2v7zm4 0h-2V7h2v10zm4 0h-2v-4h2v4z\"/>\n",
              "    </g>\n",
              "</svg>\n",
              "  </button>\n",
              "\n",
              "<style>\n",
              "  .colab-df-quickchart {\n",
              "      --bg-color: #E8F0FE;\n",
              "      --fill-color: #1967D2;\n",
              "      --hover-bg-color: #E2EBFA;\n",
              "      --hover-fill-color: #174EA6;\n",
              "      --disabled-fill-color: #AAA;\n",
              "      --disabled-bg-color: #DDD;\n",
              "  }\n",
              "\n",
              "  [theme=dark] .colab-df-quickchart {\n",
              "      --bg-color: #3B4455;\n",
              "      --fill-color: #D2E3FC;\n",
              "      --hover-bg-color: #434B5C;\n",
              "      --hover-fill-color: #FFFFFF;\n",
              "      --disabled-bg-color: #3B4455;\n",
              "      --disabled-fill-color: #666;\n",
              "  }\n",
              "\n",
              "  .colab-df-quickchart {\n",
              "    background-color: var(--bg-color);\n",
              "    border: none;\n",
              "    border-radius: 50%;\n",
              "    cursor: pointer;\n",
              "    display: none;\n",
              "    fill: var(--fill-color);\n",
              "    height: 32px;\n",
              "    padding: 0;\n",
              "    width: 32px;\n",
              "  }\n",
              "\n",
              "  .colab-df-quickchart:hover {\n",
              "    background-color: var(--hover-bg-color);\n",
              "    box-shadow: 0 1px 2px rgba(60, 64, 67, 0.3), 0 1px 3px 1px rgba(60, 64, 67, 0.15);\n",
              "    fill: var(--button-hover-fill-color);\n",
              "  }\n",
              "\n",
              "  .colab-df-quickchart-complete:disabled,\n",
              "  .colab-df-quickchart-complete:disabled:hover {\n",
              "    background-color: var(--disabled-bg-color);\n",
              "    fill: var(--disabled-fill-color);\n",
              "    box-shadow: none;\n",
              "  }\n",
              "\n",
              "  .colab-df-spinner {\n",
              "    border: 2px solid var(--fill-color);\n",
              "    border-color: transparent;\n",
              "    border-bottom-color: var(--fill-color);\n",
              "    animation:\n",
              "      spin 1s steps(1) infinite;\n",
              "  }\n",
              "\n",
              "  @keyframes spin {\n",
              "    0% {\n",
              "      border-color: transparent;\n",
              "      border-bottom-color: var(--fill-color);\n",
              "      border-left-color: var(--fill-color);\n",
              "    }\n",
              "    20% {\n",
              "      border-color: transparent;\n",
              "      border-left-color: var(--fill-color);\n",
              "      border-top-color: var(--fill-color);\n",
              "    }\n",
              "    30% {\n",
              "      border-color: transparent;\n",
              "      border-left-color: var(--fill-color);\n",
              "      border-top-color: var(--fill-color);\n",
              "      border-right-color: var(--fill-color);\n",
              "    }\n",
              "    40% {\n",
              "      border-color: transparent;\n",
              "      border-right-color: var(--fill-color);\n",
              "      border-top-color: var(--fill-color);\n",
              "    }\n",
              "    60% {\n",
              "      border-color: transparent;\n",
              "      border-right-color: var(--fill-color);\n",
              "    }\n",
              "    80% {\n",
              "      border-color: transparent;\n",
              "      border-right-color: var(--fill-color);\n",
              "      border-bottom-color: var(--fill-color);\n",
              "    }\n",
              "    90% {\n",
              "      border-color: transparent;\n",
              "      border-bottom-color: var(--fill-color);\n",
              "    }\n",
              "  }\n",
              "</style>\n",
              "\n",
              "  <script>\n",
              "    async function quickchart(key) {\n",
              "      const quickchartButtonEl =\n",
              "        document.querySelector('#' + key + ' button');\n",
              "      quickchartButtonEl.disabled = true;  // To prevent multiple clicks.\n",
              "      quickchartButtonEl.classList.add('colab-df-spinner');\n",
              "      try {\n",
              "        const charts = await google.colab.kernel.invokeFunction(\n",
              "            'suggestCharts', [key], {});\n",
              "      } catch (error) {\n",
              "        console.error('Error during call to suggestCharts:', error);\n",
              "      }\n",
              "      quickchartButtonEl.classList.remove('colab-df-spinner');\n",
              "      quickchartButtonEl.classList.add('colab-df-quickchart-complete');\n",
              "    }\n",
              "    (() => {\n",
              "      let quickchartButtonEl =\n",
              "        document.querySelector('#df-13428494-1cfe-4f7b-a935-485781f74294 button');\n",
              "      quickchartButtonEl.style.display =\n",
              "        google.colab.kernel.accessAllowed ? 'block' : 'none';\n",
              "    })();\n",
              "  </script>\n",
              "</div>\n",
              "\n",
              "  <div id=\"id_1cf77eb1-01d7-4f99-9614-ffc3039440df\">\n",
              "    <style>\n",
              "      .colab-df-generate {\n",
              "        background-color: #E8F0FE;\n",
              "        border: none;\n",
              "        border-radius: 50%;\n",
              "        cursor: pointer;\n",
              "        display: none;\n",
              "        fill: #1967D2;\n",
              "        height: 32px;\n",
              "        padding: 0 0 0 0;\n",
              "        width: 32px;\n",
              "      }\n",
              "\n",
              "      .colab-df-generate:hover {\n",
              "        background-color: #E2EBFA;\n",
              "        box-shadow: 0px 1px 2px rgba(60, 64, 67, 0.3), 0px 1px 3px 1px rgba(60, 64, 67, 0.15);\n",
              "        fill: #174EA6;\n",
              "      }\n",
              "\n",
              "      [theme=dark] .colab-df-generate {\n",
              "        background-color: #3B4455;\n",
              "        fill: #D2E3FC;\n",
              "      }\n",
              "\n",
              "      [theme=dark] .colab-df-generate:hover {\n",
              "        background-color: #434B5C;\n",
              "        box-shadow: 0px 1px 3px 1px rgba(0, 0, 0, 0.15);\n",
              "        filter: drop-shadow(0px 1px 2px rgba(0, 0, 0, 0.3));\n",
              "        fill: #FFFFFF;\n",
              "      }\n",
              "    </style>\n",
              "    <button class=\"colab-df-generate\" onclick=\"generateWithVariable('phoneprices')\"\n",
              "            title=\"Generate code using this dataframe.\"\n",
              "            style=\"display:none;\">\n",
              "\n",
              "  <svg xmlns=\"http://www.w3.org/2000/svg\" height=\"24px\"viewBox=\"0 0 24 24\"\n",
              "       width=\"24px\">\n",
              "    <path d=\"M7,19H8.4L18.45,9,17,7.55,7,17.6ZM5,21V16.75L18.45,3.32a2,2,0,0,1,2.83,0l1.4,1.43a1.91,1.91,0,0,1,.58,1.4,1.91,1.91,0,0,1-.58,1.4L9.25,21ZM18.45,9,17,7.55Zm-12,3A5.31,5.31,0,0,0,4.9,8.1,5.31,5.31,0,0,0,1,6.5,5.31,5.31,0,0,0,4.9,4.9,5.31,5.31,0,0,0,6.5,1,5.31,5.31,0,0,0,8.1,4.9,5.31,5.31,0,0,0,12,6.5,5.46,5.46,0,0,0,6.5,12Z\"/>\n",
              "  </svg>\n",
              "    </button>\n",
              "    <script>\n",
              "      (() => {\n",
              "      const buttonEl =\n",
              "        document.querySelector('#id_1cf77eb1-01d7-4f99-9614-ffc3039440df button.colab-df-generate');\n",
              "      buttonEl.style.display =\n",
              "        google.colab.kernel.accessAllowed ? 'block' : 'none';\n",
              "\n",
              "      buttonEl.onclick = () => {\n",
              "        google.colab.notebook.generateWithVariable('phoneprices');\n",
              "      }\n",
              "      })();\n",
              "    </script>\n",
              "  </div>\n",
              "\n",
              "    </div>\n",
              "  </div>\n"
            ],
            "application/vnd.google.colaboratory.intrinsic+json": {
              "type": "dataframe",
              "variable_name": "phoneprices"
            }
          },
          "metadata": {},
          "execution_count": 56
        }
      ]
    },
    {
      "cell_type": "markdown",
      "source": [
        "Dividing the data for training and testing accordingly. X takes the all features while Y takes the target variable\n",
        "\n",
        "We have 22 actual columns [0-21 index]; 21 are predictor variables and 1 is the target variable"
      ],
      "metadata": {
        "id": "BzCYM0KiD32j"
      }
    },
    {
      "cell_type": "code",
      "source": [
        "x_train=phoneprices.iloc[:,0:22]\n",
        "y_train=phoneprices.iloc[:,11]"
      ],
      "metadata": {
        "id": "w-_h7U55EFRf"
      },
      "execution_count": 57,
      "outputs": []
    },
    {
      "cell_type": "code",
      "source": [
        "x_train.head()"
      ],
      "metadata": {
        "colab": {
          "base_uri": "https://localhost:8080/",
          "height": 290
        },
        "id": "zc4Hzk5sFfub",
        "outputId": "7a39b41a-3046-4830-c823-aebef4d2b1d9"
      },
      "execution_count": 58,
      "outputs": [
        {
          "output_type": "execute_result",
          "data": {
            "text/plain": [
              "   Unnamed: 0      Name     Brand     Model  Battery capacity (mAh)  \\\n",
              "0   -1.730777  0.415488  0.315405 -1.571822                1.313010   \n",
              "1   -1.728228  0.713722  0.784713  1.266172                1.215666   \n",
              "2   -1.725679  1.687444 -1.822555  1.645264                1.180164   \n",
              "3   -1.723130  1.682346 -1.822555  1.640071                0.196418   \n",
              "4   -1.720581 -0.504704 -0.466776 -0.343669                1.215666   \n",
              "\n",
              "   Screen size (inches)  Touchscreen  Resolution x  Resolution y  Processor  \\\n",
              "0              2.054345     0.112551      2.322392      2.921979   1.115270   \n",
              "1              1.801033     0.112551      0.992052      1.630673   1.115270   \n",
              "2              1.801033     0.112551      1.590705      2.147195   0.204422   \n",
              "3              1.205005     0.112551      0.060815      0.540236   0.204422   \n",
              "4              1.652026     0.112551      0.992052      1.523064   1.115270   \n",
              "\n",
              "   ...  Rear camera  Front camera  operating_system      wifi  Bluetooth  \\\n",
              "0  ...     4.016727      1.424097         -0.193502  0.076952   0.105644   \n",
              "1  ...     5.805427      1.424097         -0.193502  0.076952   0.105644   \n",
              "2  ...    -0.007848      0.788484          6.326398  0.076952   0.105644   \n",
              "3  ...    -0.007848      0.788484          6.326398  0.076952   0.105644   \n",
              "4  ...    -0.007848      3.966552         -0.193502  0.076952   0.105644   \n",
              "\n",
              "        GPS  Number of SIMs    threeg     fourg     Price  \n",
              "0  0.293821        0.444269  0.345601  0.585564  3.431332  \n",
              "1  0.293821        0.444269  0.345601  0.585564  1.193524  \n",
              "2  0.293821        0.444269  0.345601  0.585564  6.889363  \n",
              "3  0.293821        0.444269  0.345601  0.585564  3.713017  \n",
              "4  0.293821       -2.227245 -2.893512 -1.707755  2.781048  \n",
              "\n",
              "[5 rows x 22 columns]"
            ],
            "text/html": [
              "\n",
              "  <div id=\"df-dab7c68d-341e-4bdb-8e6c-a8c375fb335e\" class=\"colab-df-container\">\n",
              "    <div>\n",
              "<style scoped>\n",
              "    .dataframe tbody tr th:only-of-type {\n",
              "        vertical-align: middle;\n",
              "    }\n",
              "\n",
              "    .dataframe tbody tr th {\n",
              "        vertical-align: top;\n",
              "    }\n",
              "\n",
              "    .dataframe thead th {\n",
              "        text-align: right;\n",
              "    }\n",
              "</style>\n",
              "<table border=\"1\" class=\"dataframe\">\n",
              "  <thead>\n",
              "    <tr style=\"text-align: right;\">\n",
              "      <th></th>\n",
              "      <th>Unnamed: 0</th>\n",
              "      <th>Name</th>\n",
              "      <th>Brand</th>\n",
              "      <th>Model</th>\n",
              "      <th>Battery capacity (mAh)</th>\n",
              "      <th>Screen size (inches)</th>\n",
              "      <th>Touchscreen</th>\n",
              "      <th>Resolution x</th>\n",
              "      <th>Resolution y</th>\n",
              "      <th>Processor</th>\n",
              "      <th>...</th>\n",
              "      <th>Rear camera</th>\n",
              "      <th>Front camera</th>\n",
              "      <th>operating_system</th>\n",
              "      <th>wifi</th>\n",
              "      <th>Bluetooth</th>\n",
              "      <th>GPS</th>\n",
              "      <th>Number of SIMs</th>\n",
              "      <th>threeg</th>\n",
              "      <th>fourg</th>\n",
              "      <th>Price</th>\n",
              "    </tr>\n",
              "  </thead>\n",
              "  <tbody>\n",
              "    <tr>\n",
              "      <th>0</th>\n",
              "      <td>-1.730777</td>\n",
              "      <td>0.415488</td>\n",
              "      <td>0.315405</td>\n",
              "      <td>-1.571822</td>\n",
              "      <td>1.313010</td>\n",
              "      <td>2.054345</td>\n",
              "      <td>0.112551</td>\n",
              "      <td>2.322392</td>\n",
              "      <td>2.921979</td>\n",
              "      <td>1.115270</td>\n",
              "      <td>...</td>\n",
              "      <td>4.016727</td>\n",
              "      <td>1.424097</td>\n",
              "      <td>-0.193502</td>\n",
              "      <td>0.076952</td>\n",
              "      <td>0.105644</td>\n",
              "      <td>0.293821</td>\n",
              "      <td>0.444269</td>\n",
              "      <td>0.345601</td>\n",
              "      <td>0.585564</td>\n",
              "      <td>3.431332</td>\n",
              "    </tr>\n",
              "    <tr>\n",
              "      <th>1</th>\n",
              "      <td>-1.728228</td>\n",
              "      <td>0.713722</td>\n",
              "      <td>0.784713</td>\n",
              "      <td>1.266172</td>\n",
              "      <td>1.215666</td>\n",
              "      <td>1.801033</td>\n",
              "      <td>0.112551</td>\n",
              "      <td>0.992052</td>\n",
              "      <td>1.630673</td>\n",
              "      <td>1.115270</td>\n",
              "      <td>...</td>\n",
              "      <td>5.805427</td>\n",
              "      <td>1.424097</td>\n",
              "      <td>-0.193502</td>\n",
              "      <td>0.076952</td>\n",
              "      <td>0.105644</td>\n",
              "      <td>0.293821</td>\n",
              "      <td>0.444269</td>\n",
              "      <td>0.345601</td>\n",
              "      <td>0.585564</td>\n",
              "      <td>1.193524</td>\n",
              "    </tr>\n",
              "    <tr>\n",
              "      <th>2</th>\n",
              "      <td>-1.725679</td>\n",
              "      <td>1.687444</td>\n",
              "      <td>-1.822555</td>\n",
              "      <td>1.645264</td>\n",
              "      <td>1.180164</td>\n",
              "      <td>1.801033</td>\n",
              "      <td>0.112551</td>\n",
              "      <td>1.590705</td>\n",
              "      <td>2.147195</td>\n",
              "      <td>0.204422</td>\n",
              "      <td>...</td>\n",
              "      <td>-0.007848</td>\n",
              "      <td>0.788484</td>\n",
              "      <td>6.326398</td>\n",
              "      <td>0.076952</td>\n",
              "      <td>0.105644</td>\n",
              "      <td>0.293821</td>\n",
              "      <td>0.444269</td>\n",
              "      <td>0.345601</td>\n",
              "      <td>0.585564</td>\n",
              "      <td>6.889363</td>\n",
              "    </tr>\n",
              "    <tr>\n",
              "      <th>3</th>\n",
              "      <td>-1.723130</td>\n",
              "      <td>1.682346</td>\n",
              "      <td>-1.822555</td>\n",
              "      <td>1.640071</td>\n",
              "      <td>0.196418</td>\n",
              "      <td>1.205005</td>\n",
              "      <td>0.112551</td>\n",
              "      <td>0.060815</td>\n",
              "      <td>0.540236</td>\n",
              "      <td>0.204422</td>\n",
              "      <td>...</td>\n",
              "      <td>-0.007848</td>\n",
              "      <td>0.788484</td>\n",
              "      <td>6.326398</td>\n",
              "      <td>0.076952</td>\n",
              "      <td>0.105644</td>\n",
              "      <td>0.293821</td>\n",
              "      <td>0.444269</td>\n",
              "      <td>0.345601</td>\n",
              "      <td>0.585564</td>\n",
              "      <td>3.713017</td>\n",
              "    </tr>\n",
              "    <tr>\n",
              "      <th>4</th>\n",
              "      <td>-1.720581</td>\n",
              "      <td>-0.504704</td>\n",
              "      <td>-0.466776</td>\n",
              "      <td>-0.343669</td>\n",
              "      <td>1.215666</td>\n",
              "      <td>1.652026</td>\n",
              "      <td>0.112551</td>\n",
              "      <td>0.992052</td>\n",
              "      <td>1.523064</td>\n",
              "      <td>1.115270</td>\n",
              "      <td>...</td>\n",
              "      <td>-0.007848</td>\n",
              "      <td>3.966552</td>\n",
              "      <td>-0.193502</td>\n",
              "      <td>0.076952</td>\n",
              "      <td>0.105644</td>\n",
              "      <td>0.293821</td>\n",
              "      <td>-2.227245</td>\n",
              "      <td>-2.893512</td>\n",
              "      <td>-1.707755</td>\n",
              "      <td>2.781048</td>\n",
              "    </tr>\n",
              "  </tbody>\n",
              "</table>\n",
              "<p>5 rows × 22 columns</p>\n",
              "</div>\n",
              "    <div class=\"colab-df-buttons\">\n",
              "\n",
              "  <div class=\"colab-df-container\">\n",
              "    <button class=\"colab-df-convert\" onclick=\"convertToInteractive('df-dab7c68d-341e-4bdb-8e6c-a8c375fb335e')\"\n",
              "            title=\"Convert this dataframe to an interactive table.\"\n",
              "            style=\"display:none;\">\n",
              "\n",
              "  <svg xmlns=\"http://www.w3.org/2000/svg\" height=\"24px\" viewBox=\"0 -960 960 960\">\n",
              "    <path d=\"M120-120v-720h720v720H120Zm60-500h600v-160H180v160Zm220 220h160v-160H400v160Zm0 220h160v-160H400v160ZM180-400h160v-160H180v160Zm440 0h160v-160H620v160ZM180-180h160v-160H180v160Zm440 0h160v-160H620v160Z\"/>\n",
              "  </svg>\n",
              "    </button>\n",
              "\n",
              "  <style>\n",
              "    .colab-df-container {\n",
              "      display:flex;\n",
              "      gap: 12px;\n",
              "    }\n",
              "\n",
              "    .colab-df-convert {\n",
              "      background-color: #E8F0FE;\n",
              "      border: none;\n",
              "      border-radius: 50%;\n",
              "      cursor: pointer;\n",
              "      display: none;\n",
              "      fill: #1967D2;\n",
              "      height: 32px;\n",
              "      padding: 0 0 0 0;\n",
              "      width: 32px;\n",
              "    }\n",
              "\n",
              "    .colab-df-convert:hover {\n",
              "      background-color: #E2EBFA;\n",
              "      box-shadow: 0px 1px 2px rgba(60, 64, 67, 0.3), 0px 1px 3px 1px rgba(60, 64, 67, 0.15);\n",
              "      fill: #174EA6;\n",
              "    }\n",
              "\n",
              "    .colab-df-buttons div {\n",
              "      margin-bottom: 4px;\n",
              "    }\n",
              "\n",
              "    [theme=dark] .colab-df-convert {\n",
              "      background-color: #3B4455;\n",
              "      fill: #D2E3FC;\n",
              "    }\n",
              "\n",
              "    [theme=dark] .colab-df-convert:hover {\n",
              "      background-color: #434B5C;\n",
              "      box-shadow: 0px 1px 3px 1px rgba(0, 0, 0, 0.15);\n",
              "      filter: drop-shadow(0px 1px 2px rgba(0, 0, 0, 0.3));\n",
              "      fill: #FFFFFF;\n",
              "    }\n",
              "  </style>\n",
              "\n",
              "    <script>\n",
              "      const buttonEl =\n",
              "        document.querySelector('#df-dab7c68d-341e-4bdb-8e6c-a8c375fb335e button.colab-df-convert');\n",
              "      buttonEl.style.display =\n",
              "        google.colab.kernel.accessAllowed ? 'block' : 'none';\n",
              "\n",
              "      async function convertToInteractive(key) {\n",
              "        const element = document.querySelector('#df-dab7c68d-341e-4bdb-8e6c-a8c375fb335e');\n",
              "        const dataTable =\n",
              "          await google.colab.kernel.invokeFunction('convertToInteractive',\n",
              "                                                    [key], {});\n",
              "        if (!dataTable) return;\n",
              "\n",
              "        const docLinkHtml = 'Like what you see? Visit the ' +\n",
              "          '<a target=\"_blank\" href=https://colab.research.google.com/notebooks/data_table.ipynb>data table notebook</a>'\n",
              "          + ' to learn more about interactive tables.';\n",
              "        element.innerHTML = '';\n",
              "        dataTable['output_type'] = 'display_data';\n",
              "        await google.colab.output.renderOutput(dataTable, element);\n",
              "        const docLink = document.createElement('div');\n",
              "        docLink.innerHTML = docLinkHtml;\n",
              "        element.appendChild(docLink);\n",
              "      }\n",
              "    </script>\n",
              "  </div>\n",
              "\n",
              "\n",
              "<div id=\"df-41e6e49e-1b7a-4626-8f86-d182d0bbf10c\">\n",
              "  <button class=\"colab-df-quickchart\" onclick=\"quickchart('df-41e6e49e-1b7a-4626-8f86-d182d0bbf10c')\"\n",
              "            title=\"Suggest charts\"\n",
              "            style=\"display:none;\">\n",
              "\n",
              "<svg xmlns=\"http://www.w3.org/2000/svg\" height=\"24px\"viewBox=\"0 0 24 24\"\n",
              "     width=\"24px\">\n",
              "    <g>\n",
              "        <path d=\"M19 3H5c-1.1 0-2 .9-2 2v14c0 1.1.9 2 2 2h14c1.1 0 2-.9 2-2V5c0-1.1-.9-2-2-2zM9 17H7v-7h2v7zm4 0h-2V7h2v10zm4 0h-2v-4h2v4z\"/>\n",
              "    </g>\n",
              "</svg>\n",
              "  </button>\n",
              "\n",
              "<style>\n",
              "  .colab-df-quickchart {\n",
              "      --bg-color: #E8F0FE;\n",
              "      --fill-color: #1967D2;\n",
              "      --hover-bg-color: #E2EBFA;\n",
              "      --hover-fill-color: #174EA6;\n",
              "      --disabled-fill-color: #AAA;\n",
              "      --disabled-bg-color: #DDD;\n",
              "  }\n",
              "\n",
              "  [theme=dark] .colab-df-quickchart {\n",
              "      --bg-color: #3B4455;\n",
              "      --fill-color: #D2E3FC;\n",
              "      --hover-bg-color: #434B5C;\n",
              "      --hover-fill-color: #FFFFFF;\n",
              "      --disabled-bg-color: #3B4455;\n",
              "      --disabled-fill-color: #666;\n",
              "  }\n",
              "\n",
              "  .colab-df-quickchart {\n",
              "    background-color: var(--bg-color);\n",
              "    border: none;\n",
              "    border-radius: 50%;\n",
              "    cursor: pointer;\n",
              "    display: none;\n",
              "    fill: var(--fill-color);\n",
              "    height: 32px;\n",
              "    padding: 0;\n",
              "    width: 32px;\n",
              "  }\n",
              "\n",
              "  .colab-df-quickchart:hover {\n",
              "    background-color: var(--hover-bg-color);\n",
              "    box-shadow: 0 1px 2px rgba(60, 64, 67, 0.3), 0 1px 3px 1px rgba(60, 64, 67, 0.15);\n",
              "    fill: var(--button-hover-fill-color);\n",
              "  }\n",
              "\n",
              "  .colab-df-quickchart-complete:disabled,\n",
              "  .colab-df-quickchart-complete:disabled:hover {\n",
              "    background-color: var(--disabled-bg-color);\n",
              "    fill: var(--disabled-fill-color);\n",
              "    box-shadow: none;\n",
              "  }\n",
              "\n",
              "  .colab-df-spinner {\n",
              "    border: 2px solid var(--fill-color);\n",
              "    border-color: transparent;\n",
              "    border-bottom-color: var(--fill-color);\n",
              "    animation:\n",
              "      spin 1s steps(1) infinite;\n",
              "  }\n",
              "\n",
              "  @keyframes spin {\n",
              "    0% {\n",
              "      border-color: transparent;\n",
              "      border-bottom-color: var(--fill-color);\n",
              "      border-left-color: var(--fill-color);\n",
              "    }\n",
              "    20% {\n",
              "      border-color: transparent;\n",
              "      border-left-color: var(--fill-color);\n",
              "      border-top-color: var(--fill-color);\n",
              "    }\n",
              "    30% {\n",
              "      border-color: transparent;\n",
              "      border-left-color: var(--fill-color);\n",
              "      border-top-color: var(--fill-color);\n",
              "      border-right-color: var(--fill-color);\n",
              "    }\n",
              "    40% {\n",
              "      border-color: transparent;\n",
              "      border-right-color: var(--fill-color);\n",
              "      border-top-color: var(--fill-color);\n",
              "    }\n",
              "    60% {\n",
              "      border-color: transparent;\n",
              "      border-right-color: var(--fill-color);\n",
              "    }\n",
              "    80% {\n",
              "      border-color: transparent;\n",
              "      border-right-color: var(--fill-color);\n",
              "      border-bottom-color: var(--fill-color);\n",
              "    }\n",
              "    90% {\n",
              "      border-color: transparent;\n",
              "      border-bottom-color: var(--fill-color);\n",
              "    }\n",
              "  }\n",
              "</style>\n",
              "\n",
              "  <script>\n",
              "    async function quickchart(key) {\n",
              "      const quickchartButtonEl =\n",
              "        document.querySelector('#' + key + ' button');\n",
              "      quickchartButtonEl.disabled = true;  // To prevent multiple clicks.\n",
              "      quickchartButtonEl.classList.add('colab-df-spinner');\n",
              "      try {\n",
              "        const charts = await google.colab.kernel.invokeFunction(\n",
              "            'suggestCharts', [key], {});\n",
              "      } catch (error) {\n",
              "        console.error('Error during call to suggestCharts:', error);\n",
              "      }\n",
              "      quickchartButtonEl.classList.remove('colab-df-spinner');\n",
              "      quickchartButtonEl.classList.add('colab-df-quickchart-complete');\n",
              "    }\n",
              "    (() => {\n",
              "      let quickchartButtonEl =\n",
              "        document.querySelector('#df-41e6e49e-1b7a-4626-8f86-d182d0bbf10c button');\n",
              "      quickchartButtonEl.style.display =\n",
              "        google.colab.kernel.accessAllowed ? 'block' : 'none';\n",
              "    })();\n",
              "  </script>\n",
              "</div>\n",
              "\n",
              "    </div>\n",
              "  </div>\n"
            ],
            "application/vnd.google.colaboratory.intrinsic+json": {
              "type": "dataframe",
              "variable_name": "x_train"
            }
          },
          "metadata": {},
          "execution_count": 58
        }
      ]
    },
    {
      "cell_type": "code",
      "source": [
        "y_train.head()"
      ],
      "metadata": {
        "colab": {
          "base_uri": "https://localhost:8080/"
        },
        "id": "tx3wDU6fFocv",
        "outputId": "871de305-de11-469a-ec94-69065c81ea5d"
      },
      "execution_count": 59,
      "outputs": [
        {
          "output_type": "execute_result",
          "data": {
            "text/plain": [
              "0    6.100856\n",
              "1    0.902766\n",
              "2    0.902766\n",
              "3    0.902766\n",
              "4    2.635462\n",
              "Name: Internal storage (GB), dtype: float64"
            ]
          },
          "metadata": {},
          "execution_count": 59
        }
      ]
    },
    {
      "cell_type": "code",
      "source": [
        "# importing train_test_split from sklearn\n",
        "from sklearn.model_selection import train_test_split\n",
        "# splitting the data  # 30% for testing is used\n",
        "X_train, X_test, Y_train, Y_test = train_test_split(x_train, y_train, test_size = 0.3, random_state = 0)"
      ],
      "metadata": {
        "id": "MCDEtvPDFsOT"
      },
      "execution_count": 60,
      "outputs": []
    },
    {
      "cell_type": "markdown",
      "source": [
        "## Fit Model\n",
        "### Multiple Linear Regression\n",
        "Calling multiple linear regression model and fitting the training set"
      ],
      "metadata": {
        "id": "bNAU_1UiF3Zw"
      }
    },
    {
      "cell_type": "code",
      "source": [
        "from sklearn.linear_model import LinearRegression\n",
        "\n",
        "model = LinearRegression()\n",
        "model_mlr = model.fit(X_train,Y_train)"
      ],
      "metadata": {
        "id": "fmw4DSgeF77T"
      },
      "execution_count": 61,
      "outputs": []
    },
    {
      "cell_type": "markdown",
      "source": [
        "Making price prediction using the testing set (Fit to MLR)"
      ],
      "metadata": {
        "id": "wEYHXMTSHYzn"
      }
    },
    {
      "cell_type": "code",
      "source": [
        "Y_pred_MLR = model_mlr.predict(X_test)\n"
      ],
      "metadata": {
        "id": "16NHKZINHeOS"
      },
      "execution_count": 62,
      "outputs": []
    },
    {
      "cell_type": "markdown",
      "source": [
        "MLR Evaluation\n"
      ],
      "metadata": {
        "id": "hbupjw4mHocm"
      }
    },
    {
      "cell_type": "markdown",
      "source": [
        "Calculating the Mean Square Error for MLR model"
      ],
      "metadata": {
        "id": "fuJCfF3QHtxx"
      }
    },
    {
      "cell_type": "code",
      "source": [
        "mse_MLR = mean_squared_error(Y_test, Y_pred_MLR)\n",
        "print('The mean square error for Multiple Linear Regression: ', mse_MLR)"
      ],
      "metadata": {
        "id": "HI2rjxbuHzq6",
        "colab": {
          "base_uri": "https://localhost:8080/"
        },
        "outputId": "1d8ea382-c24a-4efb-b9f5-ea21af9fd387"
      },
      "execution_count": 63,
      "outputs": [
        {
          "output_type": "stream",
          "name": "stdout",
          "text": [
            "The mean square error for Multiple Linear Regression:  4.623779101057605e-30\n"
          ]
        }
      ]
    },
    {
      "cell_type": "markdown",
      "source": [
        "Calculating the Mean Absolute Error for\n",
        "\n",
        "MLR model"
      ],
      "metadata": {
        "id": "Hd-zr6WCH6oo"
      }
    },
    {
      "cell_type": "code",
      "source": [
        "mae_MLR= mean_absolute_error(Y_test, Y_pred_MLR)\n",
        "print('The mean absolute error for Multiple Linear Regression: ', mae_MLR)"
      ],
      "metadata": {
        "id": "iKExxg22H_1R",
        "colab": {
          "base_uri": "https://localhost:8080/"
        },
        "outputId": "86b4c065-afd1-42f9-e3ba-07a5a069c643"
      },
      "execution_count": 64,
      "outputs": [
        {
          "output_type": "stream",
          "name": "stdout",
          "text": [
            "The mean absolute error for Multiple Linear Regression:  1.5205871692510817e-15\n"
          ]
        }
      ]
    },
    {
      "cell_type": "markdown",
      "source": [
        "### Random Forest Regressor (checking other Models)\n",
        "Calling the random forest model and fitting the training data"
      ],
      "metadata": {
        "id": "UVRzuwy1IKlL"
      }
    },
    {
      "cell_type": "code",
      "source": [
        "rfModel = RandomForestRegressor()\n",
        "model_rf = rfModel.fit(X_train,Y_train)"
      ],
      "metadata": {
        "id": "DSH6_UfCINsx"
      },
      "execution_count": 65,
      "outputs": []
    },
    {
      "cell_type": "markdown",
      "source": [
        "### Random Forest Evaluation\n"
      ],
      "metadata": {
        "id": "rjl0W10nIXFS"
      }
    },
    {
      "cell_type": "markdown",
      "source": [
        "Calculating the Mean Square Error for Random Forest Model"
      ],
      "metadata": {
        "id": "8h2126juIcLz"
      }
    },
    {
      "cell_type": "code",
      "source": [
        "mse_RF = mean_squared_error(Y_test, Y_pred_RF)\n",
        "print('The mean square error of price and predicted value is: ', mse_RF)"
      ],
      "metadata": {
        "id": "nljaY-zxIfeL",
        "colab": {
          "base_uri": "https://localhost:8080/"
        },
        "outputId": "45c516fc-d33e-483f-ea4a-68457af9e17b"
      },
      "execution_count": 72,
      "outputs": [
        {
          "output_type": "stream",
          "name": "stdout",
          "text": [
            "The mean square error of price and predicted value is:  0.13017147866175774\n"
          ]
        }
      ]
    },
    {
      "cell_type": "markdown",
      "source": [
        "Prediction of Phone prices using the testing data"
      ],
      "metadata": {
        "id": "m4yb92OKKTr7"
      }
    },
    {
      "cell_type": "code",
      "source": [
        "Y_pred_RF = model_rf.predict(X_test)"
      ],
      "metadata": {
        "id": "2BE93mfwKbwx"
      },
      "execution_count": 69,
      "outputs": []
    },
    {
      "cell_type": "markdown",
      "source": [
        "### Random Forest Evaluation\n"
      ],
      "metadata": {
        "id": "LmbrYWW8KhyH"
      }
    },
    {
      "cell_type": "markdown",
      "source": [
        "Calculating the Mean Square Error for Random Forest Model"
      ],
      "metadata": {
        "id": "ph5oM5YfKpXH"
      }
    },
    {
      "cell_type": "code",
      "source": [
        "mse_RF = mean_squared_error(Y_test, Y_pred_RF)\n",
        "print('The mean square error of price and predicted value is: ', mse_RF)"
      ],
      "metadata": {
        "id": "OoEEfoaDK0YJ",
        "colab": {
          "base_uri": "https://localhost:8080/"
        },
        "outputId": "bdbfd4fd-7dcc-44a0-ee07-2d6ec2b7432c"
      },
      "execution_count": 70,
      "outputs": [
        {
          "output_type": "stream",
          "name": "stdout",
          "text": [
            "The mean square error of price and predicted value is:  0.13017147866175774\n"
          ]
        }
      ]
    },
    {
      "cell_type": "markdown",
      "source": [
        "Calculating the Mean Absolute Error for\n",
        "Random Forest Model"
      ],
      "metadata": {
        "id": "l2KIoD_kLACl"
      }
    },
    {
      "cell_type": "code",
      "source": [
        "mae_RF= mean_absolute_error(Y_test, Y_pred_RF)\n",
        "print('The mean absolute error of price and predicted value is: ', mae_RF)"
      ],
      "metadata": {
        "id": "NWMXlTpVLGfZ",
        "colab": {
          "base_uri": "https://localhost:8080/"
        },
        "outputId": "7dba4af1-9ca7-41bc-e85b-3e1b8ec92b80"
      },
      "execution_count": 71,
      "outputs": [
        {
          "output_type": "stream",
          "name": "stdout",
          "text": [
            "The mean absolute error of price and predicted value is:  0.02345523446505281\n"
          ]
        }
      ]
    },
    {
      "cell_type": "markdown",
      "source": [
        "### LASSO Model\n",
        "Calling the model and fitting the training data"
      ],
      "metadata": {
        "id": "uGGl58OgLPEl"
      }
    },
    {
      "cell_type": "code",
      "source": [
        "LassoModel = Lasso()\n",
        "model_lm = LassoModel.fit(X_train,Y_train)"
      ],
      "metadata": {
        "id": "7sM8qIAwLT7e"
      },
      "execution_count": 73,
      "outputs": []
    },
    {
      "cell_type": "markdown",
      "source": [
        "Price prediction uisng testing data"
      ],
      "metadata": {
        "id": "MCoJ28yiMBRZ"
      }
    },
    {
      "cell_type": "code",
      "source": [
        "Y_pred_lasso = model_lm.predict(X_test)"
      ],
      "metadata": {
        "id": "szWEmejbMH0E"
      },
      "execution_count": 74,
      "outputs": []
    },
    {
      "cell_type": "markdown",
      "source": [
        "### LASSO Evaluation  (checking another model)\n"
      ],
      "metadata": {
        "id": "Bf6O4x6HMca3"
      }
    },
    {
      "cell_type": "code",
      "source": [
        "mae_lasso= mean_absolute_error(Y_test, Y_pred_lasso)\n",
        "print('The mean absolute error of price and predicted value is: ', mae_lasso)"
      ],
      "metadata": {
        "id": "OTRIVka2MffY",
        "colab": {
          "base_uri": "https://localhost:8080/"
        },
        "outputId": "c2e985d2-5e05-400b-edc0-db92e9450565"
      },
      "execution_count": 75,
      "outputs": [
        {
          "output_type": "stream",
          "name": "stdout",
          "text": [
            "The mean absolute error of price and predicted value is:  0.6302205192282053\n"
          ]
        }
      ]
    },
    {
      "cell_type": "markdown",
      "source": [
        "Mean Squared Error for the LASSO Model"
      ],
      "metadata": {
        "id": "j3k1Ruiq0FX6"
      }
    },
    {
      "cell_type": "code",
      "source": [
        "mse_lasso = mean_squared_error(Y_test, Y_pred_lasso)\n",
        "print('The mean square error of price and predicted value is: ', mse_lasso)"
      ],
      "metadata": {
        "id": "STkpBtN-0GTx",
        "colab": {
          "base_uri": "https://localhost:8080/"
        },
        "outputId": "ca704a5b-bd1b-4feb-e900-7269e6551ac8"
      },
      "execution_count": 76,
      "outputs": [
        {
          "output_type": "stream",
          "name": "stdout",
          "text": [
            "The mean square error of price and predicted value is:  1.3118091973365733\n"
          ]
        }
      ]
    },
    {
      "cell_type": "code",
      "source": [
        "scores = [('MLR', mae_MLR),\n",
        "          ('Random Forest', mae_RF),\n",
        "          ('LASSO', mae_lasso)\n",
        "         ]"
      ],
      "metadata": {
        "id": "Y_qDNUHp0NVo"
      },
      "execution_count": 77,
      "outputs": []
    },
    {
      "cell_type": "code",
      "source": [
        "mae = pd.DataFrame(data = scores, columns=['Model', 'MAE Score'])\n",
        "mae"
      ],
      "metadata": {
        "id": "w18xvLNs0QHy",
        "colab": {
          "base_uri": "https://localhost:8080/",
          "height": 143
        },
        "outputId": "d8850863-6130-4b67-8fe5-9dca4dd4269e"
      },
      "execution_count": 78,
      "outputs": [
        {
          "output_type": "execute_result",
          "data": {
            "text/plain": [
              "           Model     MAE Score\n",
              "0            MLR  1.520587e-15\n",
              "1  Random Forest  2.345523e-02\n",
              "2          LASSO  6.302205e-01"
            ],
            "text/html": [
              "\n",
              "  <div id=\"df-af832e1b-f9c5-40f8-879a-51d668510390\" class=\"colab-df-container\">\n",
              "    <div>\n",
              "<style scoped>\n",
              "    .dataframe tbody tr th:only-of-type {\n",
              "        vertical-align: middle;\n",
              "    }\n",
              "\n",
              "    .dataframe tbody tr th {\n",
              "        vertical-align: top;\n",
              "    }\n",
              "\n",
              "    .dataframe thead th {\n",
              "        text-align: right;\n",
              "    }\n",
              "</style>\n",
              "<table border=\"1\" class=\"dataframe\">\n",
              "  <thead>\n",
              "    <tr style=\"text-align: right;\">\n",
              "      <th></th>\n",
              "      <th>Model</th>\n",
              "      <th>MAE Score</th>\n",
              "    </tr>\n",
              "  </thead>\n",
              "  <tbody>\n",
              "    <tr>\n",
              "      <th>0</th>\n",
              "      <td>MLR</td>\n",
              "      <td>1.520587e-15</td>\n",
              "    </tr>\n",
              "    <tr>\n",
              "      <th>1</th>\n",
              "      <td>Random Forest</td>\n",
              "      <td>2.345523e-02</td>\n",
              "    </tr>\n",
              "    <tr>\n",
              "      <th>2</th>\n",
              "      <td>LASSO</td>\n",
              "      <td>6.302205e-01</td>\n",
              "    </tr>\n",
              "  </tbody>\n",
              "</table>\n",
              "</div>\n",
              "    <div class=\"colab-df-buttons\">\n",
              "\n",
              "  <div class=\"colab-df-container\">\n",
              "    <button class=\"colab-df-convert\" onclick=\"convertToInteractive('df-af832e1b-f9c5-40f8-879a-51d668510390')\"\n",
              "            title=\"Convert this dataframe to an interactive table.\"\n",
              "            style=\"display:none;\">\n",
              "\n",
              "  <svg xmlns=\"http://www.w3.org/2000/svg\" height=\"24px\" viewBox=\"0 -960 960 960\">\n",
              "    <path d=\"M120-120v-720h720v720H120Zm60-500h600v-160H180v160Zm220 220h160v-160H400v160Zm0 220h160v-160H400v160ZM180-400h160v-160H180v160Zm440 0h160v-160H620v160ZM180-180h160v-160H180v160Zm440 0h160v-160H620v160Z\"/>\n",
              "  </svg>\n",
              "    </button>\n",
              "\n",
              "  <style>\n",
              "    .colab-df-container {\n",
              "      display:flex;\n",
              "      gap: 12px;\n",
              "    }\n",
              "\n",
              "    .colab-df-convert {\n",
              "      background-color: #E8F0FE;\n",
              "      border: none;\n",
              "      border-radius: 50%;\n",
              "      cursor: pointer;\n",
              "      display: none;\n",
              "      fill: #1967D2;\n",
              "      height: 32px;\n",
              "      padding: 0 0 0 0;\n",
              "      width: 32px;\n",
              "    }\n",
              "\n",
              "    .colab-df-convert:hover {\n",
              "      background-color: #E2EBFA;\n",
              "      box-shadow: 0px 1px 2px rgba(60, 64, 67, 0.3), 0px 1px 3px 1px rgba(60, 64, 67, 0.15);\n",
              "      fill: #174EA6;\n",
              "    }\n",
              "\n",
              "    .colab-df-buttons div {\n",
              "      margin-bottom: 4px;\n",
              "    }\n",
              "\n",
              "    [theme=dark] .colab-df-convert {\n",
              "      background-color: #3B4455;\n",
              "      fill: #D2E3FC;\n",
              "    }\n",
              "\n",
              "    [theme=dark] .colab-df-convert:hover {\n",
              "      background-color: #434B5C;\n",
              "      box-shadow: 0px 1px 3px 1px rgba(0, 0, 0, 0.15);\n",
              "      filter: drop-shadow(0px 1px 2px rgba(0, 0, 0, 0.3));\n",
              "      fill: #FFFFFF;\n",
              "    }\n",
              "  </style>\n",
              "\n",
              "    <script>\n",
              "      const buttonEl =\n",
              "        document.querySelector('#df-af832e1b-f9c5-40f8-879a-51d668510390 button.colab-df-convert');\n",
              "      buttonEl.style.display =\n",
              "        google.colab.kernel.accessAllowed ? 'block' : 'none';\n",
              "\n",
              "      async function convertToInteractive(key) {\n",
              "        const element = document.querySelector('#df-af832e1b-f9c5-40f8-879a-51d668510390');\n",
              "        const dataTable =\n",
              "          await google.colab.kernel.invokeFunction('convertToInteractive',\n",
              "                                                    [key], {});\n",
              "        if (!dataTable) return;\n",
              "\n",
              "        const docLinkHtml = 'Like what you see? Visit the ' +\n",
              "          '<a target=\"_blank\" href=https://colab.research.google.com/notebooks/data_table.ipynb>data table notebook</a>'\n",
              "          + ' to learn more about interactive tables.';\n",
              "        element.innerHTML = '';\n",
              "        dataTable['output_type'] = 'display_data';\n",
              "        await google.colab.output.renderOutput(dataTable, element);\n",
              "        const docLink = document.createElement('div');\n",
              "        docLink.innerHTML = docLinkHtml;\n",
              "        element.appendChild(docLink);\n",
              "      }\n",
              "    </script>\n",
              "  </div>\n",
              "\n",
              "\n",
              "<div id=\"df-8d1af458-057e-41c2-bbaf-1c217a759c28\">\n",
              "  <button class=\"colab-df-quickchart\" onclick=\"quickchart('df-8d1af458-057e-41c2-bbaf-1c217a759c28')\"\n",
              "            title=\"Suggest charts\"\n",
              "            style=\"display:none;\">\n",
              "\n",
              "<svg xmlns=\"http://www.w3.org/2000/svg\" height=\"24px\"viewBox=\"0 0 24 24\"\n",
              "     width=\"24px\">\n",
              "    <g>\n",
              "        <path d=\"M19 3H5c-1.1 0-2 .9-2 2v14c0 1.1.9 2 2 2h14c1.1 0 2-.9 2-2V5c0-1.1-.9-2-2-2zM9 17H7v-7h2v7zm4 0h-2V7h2v10zm4 0h-2v-4h2v4z\"/>\n",
              "    </g>\n",
              "</svg>\n",
              "  </button>\n",
              "\n",
              "<style>\n",
              "  .colab-df-quickchart {\n",
              "      --bg-color: #E8F0FE;\n",
              "      --fill-color: #1967D2;\n",
              "      --hover-bg-color: #E2EBFA;\n",
              "      --hover-fill-color: #174EA6;\n",
              "      --disabled-fill-color: #AAA;\n",
              "      --disabled-bg-color: #DDD;\n",
              "  }\n",
              "\n",
              "  [theme=dark] .colab-df-quickchart {\n",
              "      --bg-color: #3B4455;\n",
              "      --fill-color: #D2E3FC;\n",
              "      --hover-bg-color: #434B5C;\n",
              "      --hover-fill-color: #FFFFFF;\n",
              "      --disabled-bg-color: #3B4455;\n",
              "      --disabled-fill-color: #666;\n",
              "  }\n",
              "\n",
              "  .colab-df-quickchart {\n",
              "    background-color: var(--bg-color);\n",
              "    border: none;\n",
              "    border-radius: 50%;\n",
              "    cursor: pointer;\n",
              "    display: none;\n",
              "    fill: var(--fill-color);\n",
              "    height: 32px;\n",
              "    padding: 0;\n",
              "    width: 32px;\n",
              "  }\n",
              "\n",
              "  .colab-df-quickchart:hover {\n",
              "    background-color: var(--hover-bg-color);\n",
              "    box-shadow: 0 1px 2px rgba(60, 64, 67, 0.3), 0 1px 3px 1px rgba(60, 64, 67, 0.15);\n",
              "    fill: var(--button-hover-fill-color);\n",
              "  }\n",
              "\n",
              "  .colab-df-quickchart-complete:disabled,\n",
              "  .colab-df-quickchart-complete:disabled:hover {\n",
              "    background-color: var(--disabled-bg-color);\n",
              "    fill: var(--disabled-fill-color);\n",
              "    box-shadow: none;\n",
              "  }\n",
              "\n",
              "  .colab-df-spinner {\n",
              "    border: 2px solid var(--fill-color);\n",
              "    border-color: transparent;\n",
              "    border-bottom-color: var(--fill-color);\n",
              "    animation:\n",
              "      spin 1s steps(1) infinite;\n",
              "  }\n",
              "\n",
              "  @keyframes spin {\n",
              "    0% {\n",
              "      border-color: transparent;\n",
              "      border-bottom-color: var(--fill-color);\n",
              "      border-left-color: var(--fill-color);\n",
              "    }\n",
              "    20% {\n",
              "      border-color: transparent;\n",
              "      border-left-color: var(--fill-color);\n",
              "      border-top-color: var(--fill-color);\n",
              "    }\n",
              "    30% {\n",
              "      border-color: transparent;\n",
              "      border-left-color: var(--fill-color);\n",
              "      border-top-color: var(--fill-color);\n",
              "      border-right-color: var(--fill-color);\n",
              "    }\n",
              "    40% {\n",
              "      border-color: transparent;\n",
              "      border-right-color: var(--fill-color);\n",
              "      border-top-color: var(--fill-color);\n",
              "    }\n",
              "    60% {\n",
              "      border-color: transparent;\n",
              "      border-right-color: var(--fill-color);\n",
              "    }\n",
              "    80% {\n",
              "      border-color: transparent;\n",
              "      border-right-color: var(--fill-color);\n",
              "      border-bottom-color: var(--fill-color);\n",
              "    }\n",
              "    90% {\n",
              "      border-color: transparent;\n",
              "      border-bottom-color: var(--fill-color);\n",
              "    }\n",
              "  }\n",
              "</style>\n",
              "\n",
              "  <script>\n",
              "    async function quickchart(key) {\n",
              "      const quickchartButtonEl =\n",
              "        document.querySelector('#' + key + ' button');\n",
              "      quickchartButtonEl.disabled = true;  // To prevent multiple clicks.\n",
              "      quickchartButtonEl.classList.add('colab-df-spinner');\n",
              "      try {\n",
              "        const charts = await google.colab.kernel.invokeFunction(\n",
              "            'suggestCharts', [key], {});\n",
              "      } catch (error) {\n",
              "        console.error('Error during call to suggestCharts:', error);\n",
              "      }\n",
              "      quickchartButtonEl.classList.remove('colab-df-spinner');\n",
              "      quickchartButtonEl.classList.add('colab-df-quickchart-complete');\n",
              "    }\n",
              "    (() => {\n",
              "      let quickchartButtonEl =\n",
              "        document.querySelector('#df-8d1af458-057e-41c2-bbaf-1c217a759c28 button');\n",
              "      quickchartButtonEl.style.display =\n",
              "        google.colab.kernel.accessAllowed ? 'block' : 'none';\n",
              "    })();\n",
              "  </script>\n",
              "</div>\n",
              "\n",
              "  <div id=\"id_1b67c337-a151-49a1-8ff6-a0b3bd0793e0\">\n",
              "    <style>\n",
              "      .colab-df-generate {\n",
              "        background-color: #E8F0FE;\n",
              "        border: none;\n",
              "        border-radius: 50%;\n",
              "        cursor: pointer;\n",
              "        display: none;\n",
              "        fill: #1967D2;\n",
              "        height: 32px;\n",
              "        padding: 0 0 0 0;\n",
              "        width: 32px;\n",
              "      }\n",
              "\n",
              "      .colab-df-generate:hover {\n",
              "        background-color: #E2EBFA;\n",
              "        box-shadow: 0px 1px 2px rgba(60, 64, 67, 0.3), 0px 1px 3px 1px rgba(60, 64, 67, 0.15);\n",
              "        fill: #174EA6;\n",
              "      }\n",
              "\n",
              "      [theme=dark] .colab-df-generate {\n",
              "        background-color: #3B4455;\n",
              "        fill: #D2E3FC;\n",
              "      }\n",
              "\n",
              "      [theme=dark] .colab-df-generate:hover {\n",
              "        background-color: #434B5C;\n",
              "        box-shadow: 0px 1px 3px 1px rgba(0, 0, 0, 0.15);\n",
              "        filter: drop-shadow(0px 1px 2px rgba(0, 0, 0, 0.3));\n",
              "        fill: #FFFFFF;\n",
              "      }\n",
              "    </style>\n",
              "    <button class=\"colab-df-generate\" onclick=\"generateWithVariable('mae')\"\n",
              "            title=\"Generate code using this dataframe.\"\n",
              "            style=\"display:none;\">\n",
              "\n",
              "  <svg xmlns=\"http://www.w3.org/2000/svg\" height=\"24px\"viewBox=\"0 0 24 24\"\n",
              "       width=\"24px\">\n",
              "    <path d=\"M7,19H8.4L18.45,9,17,7.55,7,17.6ZM5,21V16.75L18.45,3.32a2,2,0,0,1,2.83,0l1.4,1.43a1.91,1.91,0,0,1,.58,1.4,1.91,1.91,0,0,1-.58,1.4L9.25,21ZM18.45,9,17,7.55Zm-12,3A5.31,5.31,0,0,0,4.9,8.1,5.31,5.31,0,0,0,1,6.5,5.31,5.31,0,0,0,4.9,4.9,5.31,5.31,0,0,0,6.5,1,5.31,5.31,0,0,0,8.1,4.9,5.31,5.31,0,0,0,12,6.5,5.46,5.46,0,0,0,6.5,12Z\"/>\n",
              "  </svg>\n",
              "    </button>\n",
              "    <script>\n",
              "      (() => {\n",
              "      const buttonEl =\n",
              "        document.querySelector('#id_1b67c337-a151-49a1-8ff6-a0b3bd0793e0 button.colab-df-generate');\n",
              "      buttonEl.style.display =\n",
              "        google.colab.kernel.accessAllowed ? 'block' : 'none';\n",
              "\n",
              "      buttonEl.onclick = () => {\n",
              "        google.colab.notebook.generateWithVariable('mae');\n",
              "      }\n",
              "      })();\n",
              "    </script>\n",
              "  </div>\n",
              "\n",
              "    </div>\n",
              "  </div>\n"
            ],
            "application/vnd.google.colaboratory.intrinsic+json": {
              "type": "dataframe",
              "variable_name": "mae",
              "summary": "{\n  \"name\": \"mae\",\n  \"rows\": 3,\n  \"fields\": [\n    {\n      \"column\": \"Model\",\n      \"properties\": {\n        \"dtype\": \"string\",\n        \"num_unique_values\": 3,\n        \"samples\": [\n          \"MLR\",\n          \"Random Forest\",\n          \"LASSO\"\n        ],\n        \"semantic_type\": \"\",\n        \"description\": \"\"\n      }\n    },\n    {\n      \"column\": \"MAE Score\",\n      \"properties\": {\n        \"dtype\": \"number\",\n        \"std\": 0.3572795734607533,\n        \"min\": 1.5205871692510817e-15,\n        \"max\": 0.6302205192282053,\n        \"num_unique_values\": 3,\n        \"samples\": [\n          1.5205871692510817e-15,\n          0.02345523446505281,\n          0.6302205192282053\n        ],\n        \"semantic_type\": \"\",\n        \"description\": \"\"\n      }\n    }\n  ]\n}"
            }
          },
          "metadata": {},
          "execution_count": 78
        }
      ]
    },
    {
      "cell_type": "code",
      "source": [
        "mae.sort_values(by=(['MAE Score']), ascending=False, inplace=True)\n",
        "\n",
        "f, axe = plt.subplots(1,1, figsize=(10,7))\n",
        "sns.barplot(x = mae['Model'], y=mae['MAE Score'], ax = axe)\n",
        "axe.set_xlabel('Model', size=20)\n",
        "axe.set_ylabel('Mean Absolute Error', size=20)\n",
        "\n",
        "plt.show()"
      ],
      "metadata": {
        "id": "tbHED-PR0Uxy",
        "colab": {
          "base_uri": "https://localhost:8080/",
          "height": 633
        },
        "outputId": "af60b8a6-d894-46f9-8c3a-3943ad057634"
      },
      "execution_count": 79,
      "outputs": [
        {
          "output_type": "display_data",
          "data": {
            "text/plain": [
              "<Figure size 1000x700 with 1 Axes>"
            ],
            "image/png": "[encoded data removed]"
          },
          "metadata": {}
        }
      ]
    },
    {
      "cell_type": "markdown",
      "source": [
        "## Based on the MAE, it is concluded that the Random Forest is the best regression model for predicting the phone prices based on the given variables"
      ],
      "metadata": {
        "id": "plgXVM1cXLF5"
      }
    }
  ],
  "metadata": {
    "colab": {
      "provenance": []
    },
    "kernelspec": {
      "display_name": "Python 3",
      "name": "python3"
    }
  },
  "nbformat": 4,
  "nbformat_minor": 0
}